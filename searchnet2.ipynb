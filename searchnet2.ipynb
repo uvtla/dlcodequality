{
 "cells": [
  {
   "cell_type": "markdown",
   "id": "3e6db99f-03f8-4d9c-b270-11efa25b0cd7",
   "metadata": {},
   "source": [
    "# After getting files"
   ]
  },
  {
   "cell_type": "markdown",
   "id": "d8225e83-c777-4e68-8d88-1c2a82ca195f",
   "metadata": {},
   "source": [
    "## Insert into database"
   ]
  },
  {
   "cell_type": "code",
   "execution_count": 1,
   "id": "00457c64-4536-4a2a-be83-04e1f1e66e98",
   "metadata": {},
   "outputs": [
    {
     "name": "stdout",
     "output_type": "stream",
     "text": [
      "getting dataset location\n"
     ]
    }
   ],
   "source": [
    "from pathlib import Path\n",
    "try:\n",
    "    dataset\n",
    "except:\n",
    "    print('getting dataset location')\n",
    "    dataset = Path('dataset').absolute()\n"
   ]
  },
  {
   "cell_type": "code",
   "execution_count": 2,
   "id": "a28b7e35-3703-4a56-9707-fadde8c3f3de",
   "metadata": {},
   "outputs": [],
   "source": [
    "import os\n",
    "os.chdir(dataset)\n",
    "\n",
    "js_dir = dataset / 'javascript'\n"
   ]
  },
  {
   "cell_type": "code",
   "execution_count": 6,
   "id": "40094612-df9b-4969-bdd3-94b0f201afbf",
   "metadata": {},
   "outputs": [],
   "source": [
    "import xml.etree.ElementTree as ET"
   ]
  },
  {
   "cell_type": "code",
   "execution_count": 797,
   "id": "5412c004-3e16-445a-953c-252d51358208",
   "metadata": {},
   "outputs": [],
   "source": [
    "import re\n",
    "\n",
    "def simple_parse_xml(content, nested, against = ''):\n",
    "    pattern = r'<([^\\s]*?)>'\n",
    "    before = ''\n",
    "    while True:\n",
    "        open = re.search(pattern, content)\n",
    "        if not open:\n",
    "            return [content]\n",
    "        [open_start, open_end] = open.span()\n",
    "        before += content[:open_start]\n",
    "        if open.group(0) in against:\n",
    "            before += open.group(0)\n",
    "            content = content[open_end:]\n",
    "            continue\n",
    "        break\n",
    "    tag = open.group(1)\n",
    "    inner_and_after = content[open_end:]\n",
    "    close = re.search(f'</{re.escape(tag)}>', inner_and_after)\n",
    "    if not close:\n",
    "        return [content]\n",
    "    [close_start, close_end] = close.span()\n",
    "    inner = inner_and_after[:close_start]\n",
    "    after = inner_and_after[close_end:]\n",
    "    inner = simple_parse_xml(inner, nested, against) if nested else inner\n",
    "    return [[before, tag, inner], *simple_parse_xml(after, nested, against)]\n",
    "\n"
   ]
  },
  {
   "cell_type": "code",
   "execution_count": null,
   "id": "8904bebf-5087-4d02-ad73-5e4f5aac1cab",
   "metadata": {},
   "outputs": [],
   "source": [
    "import json\n",
    "omitted = []\n",
    "output = []\n",
    "for text_file in js_dir.glob('thread2-*.txt'):\n",
    "    with open(text_file, 'r') as file:\n",
    "        file_contents = file.read()\n",
    "    parsed = simple_parse_xml(file_contents, nested=False)\n",
    "    output.append({\n",
    "        'file': str(text_file),\n",
    "        'split': [p[0] for p in parsed[:-1]] + [parsed[-1]],\n",
    "        'len': len(parsed),\n",
    "        'ok': len(parsed) == 11\n",
    "    })\n",
    "    if len(parsed) != 11:\n",
    "        omitted.append(text_file)\n",
    "        continue\n",
    "    with open(str.replace(str(text_file), '.txt', '.json'), 'w') as file:\n",
    "        file.write(json.dumps([p[1:] for p in parsed]))\n",
    "\n",
    "with open('parse2.log', 'w') as file:\n",
    "    file.write(json.dumps(output))\n",
    "for out in output:\n",
    "    if not out['ok']:\n",
    "        continue\n",
    "    print(out['file'])\n",
    "    print(out['split'])"
   ]
  },
  {
   "cell_type": "code",
   "execution_count": 131,
   "id": "9a2e21cd-76b6-4c6c-a296-e23f0177666d",
   "metadata": {},
   "outputs": [],
   "source": [
    "source = omitted\n",
    "omitted = []\n",
    "output2 = []\n",
    "for text_file in source:\n",
    "    with open(text_file, 'r') as file:\n",
    "        file_contents = file.read()\n",
    "    parsed = simple_parse_xml(file_contents, nested=False)\n",
    "    output2.append({\n",
    "        'file': str(text_file),\n",
    "        'split': [p[0] for p in parsed[:-1]] + [parsed[-1]],\n",
    "        'len': len(parsed),\n",
    "        'ok': len(parsed) == 11\n",
    "    })\n",
    "    if len(parsed) != 11:\n",
    "        omitted.append(text_file)\n",
    "        continue\n",
    "    with open(str.replace(str(text_file), '.txt', '.json'), 'w') as file:\n",
    "        file.write(json.dumps([p[1:] for p in parsed]))\n"
   ]
  },
  {
   "cell_type": "code",
   "execution_count": 140,
   "id": "39d2c936-7492-45ad-b520-2c8678bf3d47",
   "metadata": {},
   "outputs": [
    {
     "name": "stdout",
     "output_type": "stream",
     "text": [
      "/root/py/CodeBERT/CodeReviewer/dataset\n"
     ]
    }
   ],
   "source": [
    "!pwd"
   ]
  },
  {
   "cell_type": "code",
   "execution_count": 451,
   "id": "c9c940ca-f75f-4f96-9960-3c301cdde7d8",
   "metadata": {},
   "outputs": [
    {
     "name": "stdout",
     "output_type": "stream",
     "text": [
      "[(123889,)]\n"
     ]
    }
   ],
   "source": [
    "import sqlite3, json\n",
    "from contextlib import contextmanager\n",
    "\n",
    "train = js_dir / 'final' / 'jsonl' / 'train'\n",
    "os.chdir(train)\n",
    "\n",
    "@contextmanager\n",
    "def get_cursor(database_name='rsn_train'):\n",
    "    with sqlite3.connect(database_name) as conn:\n",
    "        yield conn.cursor()\n",
    "\n",
    "\n",
    "with get_cursor() as cursor:\n",
    "    print(list(cursor.execute('select count(*) from shuffled')))"
   ]
  },
  {
   "cell_type": "code",
   "execution_count": 535,
   "id": "b02a9475-3743-4131-bc5b-864a34c129c1",
   "metadata": {},
   "outputs": [],
   "source": [
    "import regex\n",
    "\n",
    "def simple_parse_xml(content, nested):\n",
    "    pattern = r'\\s*<([^\\s]*?)>\\s*'\n",
    "    open = re.search(pattern, content)\n",
    "    if not open:\n",
    "        return [content]\n",
    "    [open_start, open_end] = open.span()\n",
    "    before = content[:open_start]\n",
    "    tag = open.group(1)\n",
    "    inner_and_after = content[open_end:]\n",
    "    close = re.search(f'</{re.escape(tag)}>', inner_and_after)\n",
    "    if close:\n",
    "        [close_start, close_end] = close.span()\n",
    "    else:\n",
    "        close = re.search(pattern, inner_and_after)\n",
    "        if close:\n",
    "            [close_start, _] = close.span()\n",
    "        else:\n",
    "            close_start = len(inner_and_after)\n",
    "        close_end = close_start\n",
    "    inner = inner_and_after[:close_start]\n",
    "    after = inner_and_after[close_end:]\n",
    "    inner = simple_parse_xml(inner, nested) if nested else inner\n",
    "    return [[before, tag, inner], *simple_parse_xml(after, nested)]\n",
    "\n",
    "def atom_to_re(s):\n",
    "    tokens = [token.strip() for token in re.split(r'\\s+|(?=\\W)|(?<=\\W)', s.strip()) if token]\n",
    "    escaped = [regex.escape(token, special_only=True) for token in tokens]\n",
    "    return r'\\s*' + r'\\s*'.join(escaped) + r'\\s*'\n",
    "\n",
    "def str_to_re(s):\n",
    "    codes = re.split(r'\\s*(?://[^\\n]*(?:\\n|$)|/\\*.*?\\*/|\\.{3,})\\s*', s,  flags=re.DOTALL)\n",
    "    return '(?:.*?)'.join(atom_to_re(code) for code in codes)\n",
    "\n",
    "def node_to_re(node, c):\n",
    "    if type(node) == str:\n",
    "        return str_to_re(node), []\n",
    "    before, tag, content = node\n",
    "    before_re = str_to_re(before)\n",
    "    c[0] += 1\n",
    "    open_gr = c[0]\n",
    "    content_re, content_tags = make_regex(content, c)\n",
    "    c[0] += 1\n",
    "    close_gr = c[0]\n",
    "    open_re = '\\s*(|<'+re.escape(tag)+'>)\\s*'\n",
    "    close_re = '\\s*(|</'+re.escape(tag)+'>)\\s*'\n",
    "    return before_re+open_re+content_re+close_re, [(tag, open_gr, close_gr, content_tags)]\n",
    "\n",
    "\n",
    "def make_regex(tree, c):\n",
    "    regs, tags = zip(*(node_to_re(node, c) for node in tree))\n",
    "    return re.sub(r'(\\\\s\\*)+', r'\\\\s*', ''.join(regs)), [t for tag in tags for t in tag] \n",
    "\n"
   ]
  },
  {
   "cell_type": "code",
   "execution_count": 794,
   "id": "709bdefe-5748-4a18-8be6-ae73ddaeead3",
   "metadata": {},
   "outputs": [],
   "source": [
    "with get_cursor() as cursor:\n",
    "    cursor.execute('create table if not exists snippets (ID INTEGER PRIMARY KEY, code TEXT, locations JSON, regions JSON, SRP boolean)')\n",
    "\n",
    "with get_cursor() as cursor:\n",
    "    cursor.execute('create table if not exists region (ID INTEGER PRIMARY KEY, code TEXT, vector JSON)')\n"
   ]
  },
  {
   "cell_type": "code",
   "execution_count": 643,
   "id": "76ece01a-b7e3-4202-850f-0cc79035d59f",
   "metadata": {},
   "outputs": [
    {
     "data": {
      "text/plain": [
       "[('fileOperations', 1, 2, []), ('templateStringReplacement', 3, 4, [])]"
      ]
     },
     "execution_count": 643,
     "metadata": {},
     "output_type": "execute_result"
    }
   ],
   "source": [
    "xx[4].tags"
   ]
  },
  {
   "cell_type": "code",
   "execution_count": 795,
   "id": "8996c197-897d-4d14-bb18-1034b3a38b0e",
   "metadata": {},
   "outputs": [],
   "source": [
    "region_id = 0\n",
    "def insert_region(code):\n",
    "    global region_id\n",
    "    region_id += 1\n",
    "    # print(f'inserting region {region_id}:\\n {code}')\n",
    "    return region_id\n",
    "\n",
    "def insert_snippet(id, code, locations, regions, srp):\n",
    "    with get_cursor() as cursor:\n",
    "        cursor.execute(\n",
    "            'insert into snippets (ID, code, locations, regions, SRP) values (?, ?, ?, ?, ?)',\n",
    "            (id, code, json.dumps(locations), json.dumps(regions), srp))\n",
    "\n",
    "def flat_wrong_tags(tags, code, m):\n",
    "    clean_tags = []\n",
    "    for tag in tags:\n",
    "        clean_tags += flat_wrong_tag(tag, clean_tags, code, m)\n",
    "    return clean_tags\n",
    "\n",
    "def flat_wrong_tag(tag, clean_tags, code, m):\n",
    "    name, open, close, sub_tags = tag\n",
    "    clean_sub_tags = flat_wrong_tags(sub_tags, code, m)\n",
    "    if m.group(open):\n",
    "        if len(clean_tags):\n",
    "            pname, popen, pclose, psub_tags = clean_tags[-1]\n",
    "            if not m.group(pclose):\n",
    "                clean_tags[-1] = (pname, popen, close, psub_tags)\n",
    "        return clean_sub_tags\n",
    "    return [(name, open, close, clean_sub_tags)]\n",
    "\n",
    "def tag_to_json(tag, code, m, handle_region):\n",
    "    name, open, close, sub_tags = tag\n",
    "    start = m.span(open)[0]\n",
    "    regions, body, end = tags_to_json(start, sub_tags, code, m, handle_region)\n",
    "    body += code[end:m.span(close)[0]] \n",
    "    region_id = handle_region(f'function {name} () {{\\n{body}\\n}}')\n",
    "    regions = [(start, region_id)] + regions\n",
    "    return regions\n",
    "\n",
    "\n",
    "def tags_to_json(outer_index, tags, code, m, handle_region):\n",
    "    regions = []\n",
    "    outer_body = ''\n",
    "    for tag in tags:\n",
    "        name, open, close, _ = tag\n",
    "        outer_body += code[outer_index:m.span(open)[0]] + '\\n' + name + '();\\n'\n",
    "        outer_index = m.span(close)[0]\n",
    "        regions += tag_to_json(tag, code, m, handle_region)\n",
    "    return regions, outer_body, outer_index\n",
    "\n",
    "\n",
    "def to_json(tags, code, m, handle_region):\n",
    "    regions, body, end = tags_to_json(0, tags, code, m, handle_region)\n",
    "    body += code[end:] \n",
    "    region_id = handle_region(body)\n",
    "    regions = [(0, region_id)] + regions\n",
    "    if len(regions) > 1:\n",
    "        regions.append((end, region_id))\n",
    "    return regions\n"
   ]
  },
  {
   "cell_type": "code",
   "execution_count": 796,
   "id": "194654e4-f22c-452e-9dfb-5a953fb6a0cb",
   "metadata": {},
   "outputs": [
    {
     "name": "stderr",
     "output_type": "stream",
     "text": [
      "100%|██████████| 524/524 [01:31<00:00,  5.76it/s]"
     ]
    },
    {
     "name": "stdout",
     "output_type": "stream",
     "text": [
      "4804/5240\n"
     ]
    },
    {
     "name": "stderr",
     "output_type": "stream",
     "text": [
      "\n"
     ]
    }
   ],
   "source": [
    "def strip_js_comments(js_code):\n",
    "    js_code = re.sub(r'\\n?//.*?\\n', '\\n', js_code)\n",
    "    js_code = re.sub(r'/\\*.*?\\*/', '', js_code, flags=re.DOTALL)\n",
    "    return js_code    \n",
    "\n",
    "n_ok, n_all = 0, 0\n",
    "for text_file in tqdm(list(js_dir.glob('thread2-*.json'))):\n",
    "    index = int(re.match('.*thread2-(.*)\\.json', str(text_file)).group(1))\n",
    "    limit = 10\n",
    "    with get_cursor() as cursor:\n",
    "        codes = list(cursor.execute('select id, code from shuffled limit ? offset ?', (limit, limit * index + 1)))\n",
    "    with open(text_file, 'r') as file:\n",
    "        file_contents = file.read()\n",
    "    for (id, code), obj in zip(codes, json.loads(file_contents)):\n",
    "        original = strip_js_comments(code)\n",
    "        xml = obj[1]\n",
    "        reg_str, tags = make_regex(simple_parse_xml(xml, True), [0])\n",
    "        reg = regex.compile(reg_str, flags = regex.DOTALL)\n",
    "        m = reg.match(original)\n",
    "        n_all += 1\n",
    "        if m:\n",
    "            n_ok += 1\n",
    "            tags = flat_wrong_tags(tags, original, m)\n",
    "            if not len(tags) or len(tags) == 1 and not len(tags[0][3]):\n",
    "                insert_snippet(id, original, [], [], True)\n",
    "                continue\n",
    "            regions = to_json(tags, original, m, insert_region)\n",
    "            insert_snippet(id, original, *zip(*regions), False)\n",
    "            \n",
    "            \n",
    "print(f'{n_ok}/{n_all}')"
   ]
  },
  {
   "cell_type": "code",
   "execution_count": 767,
   "id": "a62a65ab-ab7c-4efe-a4d3-2f0f5145c12c",
   "metadata": {},
   "outputs": [
    {
     "data": {
      "text/plain": [
       "[('initializeOutputs', 1, 2, []),\n",
       " ('iterateOverAllParts', 3, 4, []),\n",
       " ('createCurrentPartsList', 5, 6, []),\n",
       " ('skipNonUniqueOrInvalidParts', 7, 8, []),\n",
       " ('handleNonSortedArrays', 9, 10, []),\n",
       " ('checkExistenceAndSort', 11, 12, []),\n",
       " ('generateChain', 13, 14, []),\n",
       " ('checkAndHandleChildrenOfPart', 15, 18, []),\n",
       " ('handleLastPart', 19, 22, []),\n",
       " ('addToOutput', 23, 24, []),\n",
       " ('verifyAndHandleTodoAndCallback', 25, 32, []),\n",
       " ('generateChildren', 33, 34, []),\n",
       " ('returnTypes', 35, 36, []),\n",
       " ('assembleTypeBody', 37, 38, []),\n",
       " ('returnFinalInterface', 39, 46, [])]"
      ]
     },
     "execution_count": 767,
     "metadata": {},
     "output_type": "execute_result"
    }
   ],
   "source": [
    "tags = flat_wrong_tags(tags, original, m)\n",
    "tags"
   ]
  },
  {
   "cell_type": "code",
   "execution_count": 763,
   "id": "8663b41d-56f6-4ebd-ba46-8efbfe5be2c9",
   "metadata": {},
   "outputs": [
    {
     "data": {
      "text/plain": [
       "<function io.open(file, mode='r', buffering=-1, encoding=None, errors=None, newline=None, closefd=True, opener=None)>"
      ]
     },
     "execution_count": 763,
     "metadata": {},
     "output_type": "execute_result"
    }
   ],
   "source": [
    "open"
   ]
  },
  {
   "cell_type": "code",
   "execution_count": 768,
   "id": "e7047438-54f2-4fd4-bb44-07754977b4fb",
   "metadata": {},
   "outputs": [
    {
     "name": "stdout",
     "output_type": "stream",
     "text": [
      "function initializeOutputs () {\n",
      "let output = '';\n",
      "\tlet children = '';\n",
      "\n",
      "\t\n",
      "}\n",
      "function iterateOverAllParts () {\n",
      "for (const part of allParts) {\n",
      "\t\t\n",
      "}\n",
      "function createCurrentPartsList () {\n",
      "const parts = prefix.concat([part]);\n",
      "\n",
      "\t\t\n",
      "}\n",
      "function skipNonUniqueOrInvalidParts () {\n",
      "if (prefix.indexOf(part) !== -1 || !verify(parts, true)) {\n",
      "\t\t\t\n",
      "\t\t\tcontinue;\n",
      "\t\t}\n",
      "\n",
      "\t\t\n",
      "\t\t\n",
      "}\n",
      "function handleNonSortedArrays () {\n",
      "if (!isArraySorted(parts)) {\n",
      "\t\t\t\n",
      "}\n",
      "function checkExistenceAndSort () {\n",
      "if (exists(parts)) {\n",
      "\t\t\t\tparts.sort();\n",
      "\n",
      "\t\t\t\t\n",
      "}\n",
      "function generateChain () {\n",
      "let chain;\n",
      "\t\t\t\t\n",
      "}\n",
      "function checkAndHandleChildrenOfPart () {\n",
      "if (hasChildren(parts)) {\n",
      "\t\t\t\t\tchain = parts.join('_') + '<T>';\n",
      "\t\t\t\t} else {\n",
      "\t\t\t\t\t\n",
      "\t\t\t\t\t\n",
      "\t\t\t\t\t\n",
      "}\n",
      "function handleLastPart () {\n",
      "const last = parts.pop();\n",
      "\t\t\t\t\tconst joined = parts.join('_');\n",
      "\t\t\t\t\tchain = `${joined}<T>['${last}']`;\n",
      "\t\t\t\t}\n",
      "\n",
      "\t\t\t\t\n",
      "}\n",
      "function addToOutput () {\n",
      "output += `\\t${part}: Register_${chain};\\n`;\n",
      "\t\t\t}\n",
      "\n",
      "\t\t\tcontinue;\n",
      "\t\t}\n",
      "\n",
      "\t\t\n",
      "\t\t\n",
      "\t\t\n",
      "\t\t\n",
      "}\n",
      "function verifyAndHandleTodoAndCallback () {\n",
      "if (verify(parts, false)) {\n",
      "\t\t\tif (arrayHas(parts)('todo')) {\n",
      "\t\t\t\t\n",
      "\t\t\t\toutput += `\\t${part}: (name: string) => void;\\n`;\n",
      "\t\t\t} else {\n",
      "\t\t\t\tif (arrayHas(parts)('cb')) {\n",
      "\t\t\t\t\toutput += `\\t${part}: CallbackRegisterBase<T>`;\n",
      "\t\t\t\t} else {\n",
      "\t\t\t\t\toutput += `\\t${part}: RegisterBase<T>`;\n",
      "\t\t\t\t}\n",
      "\n",
      "\t\t\t\tif (hasChildren(parts)) {\n",
      "\t\t\t\t\t\n",
      "\t\t\t\t\tconst joined = parts.join('_');\n",
      "\t\t\t\t\toutput += ` & Register_${joined}<T>`;\n",
      "\t\t\t\t}\n",
      "\n",
      "\t\t\t\toutput += ';\\n';\n",
      "\t\t\t}\n",
      "\t\t}\n",
      "\n",
      "\t\t\n",
      "}\n",
      "function generateChildren () {\n",
      "children += generatePrefixed(parts);\n",
      "\t}\n",
      "\n",
      "\t\n",
      "}\n",
      "function returnTypes () {\n",
      "if (output === '') {\n",
      "\t\treturn children;\n",
      "\t}\n",
      "\n",
      "\t\n",
      "}\n",
      "function assembleTypeBody () {\n",
      "const typeBody = `{\\n${output}}\\n${children}`;\n",
      "\n",
      "\t\n",
      "}\n",
      "function returnFinalInterface () {\n",
      "if (prefix.length === 0) {\n",
      "\t\t\n",
      "\t\treturn `export interface Register<T> extends RegisterBase<T> ${typeBody}`;\n",
      "\t}\n",
      "\tconst namespace = ['Register'].concat(prefix).join('_');\n",
      "\treturn `interface ${namespace}<T> ${typeBody}`;\n",
      "}\n",
      "}\n",
      "function generatePrefixed(prefix) {\n",
      "\t\n",
      "initializeOutputs();\n",
      "\n",
      "iterateOverAllParts();\n",
      "\n",
      "createCurrentPartsList();\n",
      "\n",
      "skipNonUniqueOrInvalidParts();\n",
      "\n",
      "handleNonSortedArrays();\n",
      "\n",
      "checkExistenceAndSort();\n",
      "\n",
      "generateChain();\n",
      "\n",
      "checkAndHandleChildrenOfPart();\n",
      "\n",
      "handleLastPart();\n",
      "\n",
      "addToOutput();\n",
      "\n",
      "verifyAndHandleTodoAndCallback();\n",
      "\n",
      "generateChildren();\n",
      "\n",
      "returnTypes();\n",
      "\n",
      "assembleTypeBody();\n",
      "\n",
      "returnFinalInterface();\n",
      "\n"
     ]
    },
    {
     "data": {
      "text/plain": [
       "[(0, None),\n",
       " (37, None),\n",
       " (76, None),\n",
       " (109, None),\n",
       " (149, None),\n",
       " (235, None),\n",
       " (267, None),\n",
       " (311, None),\n",
       " (326, None),\n",
       " (420, None),\n",
       " (534, None),\n",
       " (614, None),\n",
       " (1054, None),\n",
       " (1096, None),\n",
       " (1141, None),\n",
       " (1190, None),\n",
       " (1408, None)]"
      ]
     },
     "execution_count": 768,
     "metadata": {},
     "output_type": "execute_result"
    }
   ],
   "source": [
    "to_json(tags, original, m, print)"
   ]
  },
  {
   "cell_type": "code",
   "execution_count": 742,
   "id": "6578868d-307d-448c-ae5f-7cee0e92d130",
   "metadata": {},
   "outputs": [
    {
     "name": "stdout",
     "output_type": "stream",
     "text": [
      "function generatePrefixed(prefix) {\n",
      "\tlet output = '';\n",
      "\tlet children = '';\n",
      "\n",
      "\tfor (const part of allParts) {\n",
      "\t\tconst parts = prefix.concat([part]);\n",
      "\n",
      "\t\tif (prefix.indexOf(part) !== -1 || !verify(parts, true)) {\n",
      "\t\t\t\n",
      "\t\t\tcontinue;\n",
      "\t\t}\n",
      "\n",
      "\t\t\n",
      "\t\tif (!isArraySorted(parts)) {\n",
      "\t\t\tif (exists(parts)) {\n",
      "\t\t\t\tparts.sort();\n",
      "\n",
      "\t\t\t\tlet chain;\n",
      "\t\t\t\tif (hasChildren(parts)) {\n",
      "\t\t\t\t\tchain = parts.join('_') + '<T>';\n",
      "\t\t\t\t} else {\n",
      "\t\t\t\t\t\n",
      "\t\t\t\t\t\n",
      "\t\t\t\t\tconst last = parts.pop();\n",
      "\t\t\t\t\tconst joined = parts.join('_');\n",
      "\t\t\t\t\tchain = `${joined}<T>['${last}']`;\n",
      "\t\t\t\t}\n",
      "\n",
      "\t\t\t\toutput += `\\t${part}: Register_${chain};\\n`;\n",
      "\t\t\t}\n",
      "\n",
      "\t\t\tcontinue;\n",
      "\t\t}\n",
      "\n",
      "\t\t\n",
      "\t\t\n",
      "\t\t\n",
      "\t\tif (verify(parts, false)) {\n",
      "\t\t\tif (arrayHas(parts)('todo')) {\n",
      "\t\t\t\t\n",
      "\t\t\t\toutput += `\\t${part}: (name: string) => void;\\n`;\n",
      "\t\t\t} else {\n",
      "\t\t\t\tif (arrayHas(parts)('cb')) {\n",
      "\t\t\t\t\toutput += `\\t${part}: CallbackRegisterBase<T>`;\n",
      "\t\t\t\t} else {\n",
      "\t\t\t\t\toutput += `\\t${part}: RegisterBase<T>`;\n",
      "\t\t\t\t}\n",
      "\n",
      "\t\t\t\tif (hasChildren(parts)) {\n",
      "\t\t\t\t\t\n",
      "\t\t\t\t\tconst joined = parts.join('_');\n",
      "\t\t\t\t\toutput += ` & Register_${joined}<T>`;\n",
      "\t\t\t\t}\n",
      "\n",
      "\t\t\t\toutput += ';\\n';\n",
      "\t\t\t}\n",
      "\t\t}\n",
      "\n",
      "\t\tchildren += generatePrefixed(parts);\n",
      "\t}\n",
      "\n",
      "\tif (output === '') {\n",
      "\t\treturn children;\n",
      "\t}\n",
      "\n",
      "\tconst typeBody = `{\\n${output}}\\n${children}`;\n",
      "\n",
      "\tif (prefix.length === 0) {\n",
      "\t\t\n",
      "\t\treturn `export interface Register<T> extends RegisterBase<T> ${typeBody}`;\n",
      "\t}\n",
      "\tconst namespace = ['Register'].concat(prefix).join('_');\n",
      "\treturn `interface ${namespace}<T> ${typeBody}`;\n",
      "}\n"
     ]
    }
   ],
   "source": [
    "print(original)"
   ]
  },
  {
   "cell_type": "code",
   "execution_count": 746,
   "id": "9d4fee4b-3df9-487d-84fb-225b8b6e472f",
   "metadata": {},
   "outputs": [
    {
     "name": "stdout",
     "output_type": "stream",
     "text": [
      "\n",
      "function generatePrefixed(prefix) {\n",
      "\t<initializeOutputs>\n",
      "\tlet output = '';\n",
      "\tlet children = '';\n",
      "    <iterateOverAllParts>\n",
      "\tfor (const part of allParts) {\n",
      "\t\t<createCurrentPartsList>\n",
      "\t\tconst parts = prefix.concat([part]);\n",
      "        <skipNonUniqueOrInvalidParts>\n",
      "\t\tif (prefix.indexOf(part) !== -1 || !verify(parts, true)) {\n",
      "\t\t\t\n",
      "\t\t\tcontinue;\n",
      "\t\t}\n",
      "\t\t<handleNonSortedArrays>\n",
      "\t\tif (!isArraySorted(parts)) {\n",
      "\t\t\t<checkExistenceAndSort>\n",
      "\t\t\tif (exists(parts)) {\n",
      "\t\t\t\tparts.sort();\n",
      "                <generateChain>\n",
      "\t\t\t\tlet chain;\n",
      "                <checkAndHandleChildrenOfPart>\n",
      "\t\t\t\tif (hasChildren(parts)) {\n",
      "\t\t\t\t\tchain = parts.join('_') + '<T>';\n",
      "\t\t\t\t} else {\n",
      "\t\t\t\t\t<handleLastPart>\n",
      "\t\t\t\t\tconst last = parts.pop();\n",
      "\t\t\t\t\tconst joined = parts.join('_');\n",
      "\t\t\t\t\tchain = `${joined}<T>['${last}']`;\n",
      "\t\t\t\t}\n",
      "                <addToOutput>\n",
      "\t\t\t\toutput += `\\t${part}: Register_${chain};\\n`;\n",
      "\t\t\t}\n",
      "\t\t\tcontinue;\n",
      "\t\t}\n",
      "        <verifyAndHandleTodoAndCallback>\n",
      "\t\tif (verify(parts, false)) {\n",
      "\t\t\tif (arrayHas(parts)('todo')) {\n",
      "\t\t\t\t\n",
      "\t\t\t\toutput += `\\t${part}: (name: string) => void;\\n`;\n",
      "\t\t\t} else {\n",
      "\t\t\t\tif (arrayHas(parts)('cb')) {\n",
      "\t\t\t\t\toutput += `\\t${part}: CallbackRegisterBase<T>`;\n",
      "\t\t\t\t} else {\n",
      "\t\t\t\t\toutput += `\\t${part}: RegisterBase<T>`;\n",
      "\t\t\t\t}\n",
      "\t\t\t\tif (hasChildren(parts)) {\n",
      "\t\t\t\t\t\n",
      "\t\t\t\t\tconst joined = parts.join('_');\n",
      "\t\t\t\t\toutput += ` & Register_${joined}<T>`;\n",
      "\t\t\t\t}\n",
      "\t\t\t\toutput += ';\\n';\n",
      "\t\t\t}\n",
      "\t\t}\n",
      "\t\t<generateChildren>\n",
      "\t\tchildren += generatePrefixed(parts);\n",
      "\t}\n",
      "\t<returnTypes>\n",
      "\tif (output === '') {\n",
      "\t\treturn children;\n",
      "\t}\n",
      "    <assembleTypeBody>\n",
      "\tconst typeBody = `{\\n${output}}\\n${children}`;\n",
      "    <returnFinalInterface>\n",
      "\tif (prefix.length === 0) {\n",
      "\t\t\n",
      "\t\treturn `export interface Register<T> extends RegisterBase<T> ${typeBody}`;\n",
      "\t}\n",
      "\tconst namespace = ['Register'].concat(prefix).join('_');\n",
      "\treturn `interface ${namespace}<T> ${typeBody}`;\n",
      "}\n",
      "\n"
     ]
    }
   ],
   "source": [
    "print(xml)"
   ]
  },
  {
   "cell_type": "code",
   "execution_count": 745,
   "id": "c44438a1-feb4-443a-a358-2c119dc05210",
   "metadata": {},
   "outputs": [
    {
     "name": "stdout",
     "output_type": "stream",
     "text": [
      "\\s*function\\s*generatePrefixed\\s*\\(\\s*prefix\\s*\\)\\s*\\{\\s*(|<initializeOutputs>)\\s*let\\s*output\\s*=\\s*'\\s*'\\s*;\\s*let\\s*children\\s*=\\s*'\\s*'\\s*;\\s*(|</initializeOutputs>)\\s*(|<iterateOverAllParts>)\\s*for\\s*\\(\\s*const\\s*part\\s*of\\s*allParts\\s*\\)\\s*\\{\\s*(|</iterateOverAllParts>)\\s*(|<createCurrentPartsList>)\\s*const\\s*parts\\s*=\\s*prefix\\s*\\.\\s*concat\\s*\\(\\s*\\[\\s*part\\s*\\]\\s*\\)\\s*;\\s*(|</createCurrentPartsList>)\\s*(|<skipNonUniqueOrInvalidParts>)\\s*if\\s*\\(\\s*prefix\\s*\\.\\s*indexOf\\s*\\(\\s*part\\s*\\)\\s*!\\s*=\\s*=\\s*\\-\\s*1\\s*\\|\\s*\\|\\s*!\\s*verify\\s*\\(\\s*parts\\s*,\\s*true\\s*\\)\\s*\\)\\s*\\{\\s*continue\\s*;\\s*\\}\\s*(|</skipNonUniqueOrInvalidParts>)\\s*(|<handleNonSortedArrays>)\\s*if\\s*\\(\\s*!\\s*isArraySorted\\s*\\(\\s*parts\\s*\\)\\s*\\)\\s*\\{\\s*(|</handleNonSortedArrays>)\\s*(|<checkExistenceAndSort>)\\s*if\\s*\\(\\s*exists\\s*\\(\\s*parts\\s*\\)\\s*\\)\\s*\\{\\s*parts\\s*\\.\\s*sort\\s*\\(\\s*\\)\\s*;\\s*(|</checkExistenceAndSort>)\\s*(|<generateChain>)\\s*let\\s*chain\\s*;\\s*(|</generateChain>)\\s*(|<checkAndHandleChildrenOfPart>)\\s*if\\s*\\(\\s*hasChildren\\s*\\(\\s*parts\\s*\\)\\s*\\)\\s*\\{\\s*chain\\s*=\\s*parts\\s*\\.\\s*join\\s*\\(\\s*'\\s*_\\s*'\\s*\\)\\s*\\+\\s*'\\s*(|</checkAndHandleChildrenOfPart>)\\s*(|<T>)\\s*'\\s*;\\s*\\}\\s*else\\s*\\{\\s*(|</T>)\\s*(|<handleLastPart>)\\s*const\\s*last\\s*=\\s*parts\\s*\\.\\s*pop\\s*\\(\\s*\\)\\s*;\\s*const\\s*joined\\s*=\\s*parts\\s*\\.\\s*join\\s*\\(\\s*'\\s*_\\s*'\\s*\\)\\s*;\\s*chain\\s*=\\s*`\\s*\\$\\s*\\{\\s*joined\\s*\\}\\s*(|</handleLastPart>)\\s*(|<T>)\\s*\\[\\s*'\\s*\\$\\s*\\{\\s*last\\s*\\}\\s*'\\s*\\]\\s*`\\s*;\\s*\\}\\s*(|</T>)\\s*(|<addToOutput>)\\s*output\\s*\\+\\s*=\\s*`\\s*\\\\\\s*t\\s*\\$\\s*\\{\\s*part\\s*\\}\\s*:\\s*Register_\\s*\\$\\s*\\{\\s*chain\\s*\\}\\s*;\\s*\\\\\\s*n\\s*`\\s*;\\s*\\}\\s*continue\\s*;\\s*\\}\\s*(|</addToOutput>)\\s*(|<verifyAndHandleTodoAndCallback>)\\s*if\\s*\\(\\s*verify\\s*\\(\\s*parts\\s*,\\s*false\\s*\\)\\s*\\)\\s*\\{\\s*if\\s*\\(\\s*arrayHas\\s*\\(\\s*parts\\s*\\)\\s*\\(\\s*'\\s*todo\\s*'\\s*\\)\\s*\\)\\s*\\{\\s*output\\s*\\+\\s*=\\s*`\\s*\\\\\\s*t\\s*\\$\\s*\\{\\s*part\\s*\\}\\s*:\\s*\\(\\s*name\\s*:\\s*string\\s*\\)\\s*=\\s*>\\s*void\\s*;\\s*\\\\\\s*n\\s*`\\s*;\\s*\\}\\s*else\\s*\\{\\s*if\\s*\\(\\s*arrayHas\\s*\\(\\s*parts\\s*\\)\\s*\\(\\s*'\\s*cb\\s*'\\s*\\)\\s*\\)\\s*\\{\\s*output\\s*\\+\\s*=\\s*`\\s*\\\\\\s*t\\s*\\$\\s*\\{\\s*part\\s*\\}\\s*:\\s*CallbackRegisterBase\\s*(|</verifyAndHandleTodoAndCallback>)\\s*(|<T>)\\s*`\\s*;\\s*\\}\\s*else\\s*\\{\\s*output\\s*\\+\\s*=\\s*`\\s*\\\\\\s*t\\s*\\$\\s*\\{\\s*part\\s*\\}\\s*:\\s*RegisterBase\\s*(|</T>)\\s*(|<T>)\\s*`\\s*;\\s*\\}\\s*if\\s*\\(\\s*hasChildren\\s*\\(\\s*parts\\s*\\)\\s*\\)\\s*\\{\\s*const\\s*joined\\s*=\\s*parts\\s*\\.\\s*join\\s*\\(\\s*'\\s*_\\s*'\\s*\\)\\s*;\\s*output\\s*\\+\\s*=\\s*`\\s*\\&\\s*Register_\\s*\\$\\s*\\{\\s*joined\\s*\\}\\s*(|</T>)\\s*(|<T>)\\s*`\\s*;\\s*\\}\\s*output\\s*\\+\\s*=\\s*'\\s*;\\s*\\\\\\s*n\\s*'\\s*;\\s*\\}\\s*\\}\\s*(|</T>)\\s*(|<generateChildren>)\\s*children\\s*\\+\\s*=\\s*generatePrefixed\\s*\\(\\s*parts\\s*\\)\\s*;\\s*\\}\\s*(|</generateChildren>)\\s*(|<returnTypes>)\\s*if\\s*\\(\\s*output\\s*=\\s*=\\s*=\\s*'\\s*'\\s*\\)\\s*\\{\\s*return\\s*children\\s*;\\s*\\}\\s*(|</returnTypes>)\\s*(|<assembleTypeBody>)\\s*const\\s*typeBody\\s*=\\s*`\\s*\\{\\s*\\\\\\s*n\\s*\\$\\s*\\{\\s*output\\s*\\}\\s*\\}\\s*\\\\\\s*n\\s*\\$\\s*\\{\\s*children\\s*\\}\\s*`\\s*;\\s*(|</assembleTypeBody>)\\s*(|<returnFinalInterface>)\\s*if\\s*\\(\\s*prefix\\s*\\.\\s*length\\s*=\\s*=\\s*=\\s*0\\s*\\)\\s*\\{\\s*return\\s*`\\s*export\\s*interface\\s*Register\\s*(|</returnFinalInterface>)\\s*(|<T>)\\s*extends\\s*RegisterBase\\s*(|</T>)\\s*(|<T>)\\s*\\$\\s*\\{\\s*typeBody\\s*\\}\\s*`\\s*;\\s*\\}\\s*const\\s*namespace\\s*=\\s*\\[\\s*'\\s*Register\\s*'\\s*\\]\\s*\\.\\s*concat\\s*\\(\\s*prefix\\s*\\)\\s*\\.\\s*join\\s*\\(\\s*'\\s*_\\s*'\\s*\\)\\s*;\\s*return\\s*`\\s*interface\\s*\\$\\s*\\{\\s*namespace\\s*\\}\\s*(|</T>)\\s*(|<T>)\\s*\\$\\s*\\{\\s*typeBody\\s*\\}\\s*`\\s*;\\s*\\}\\s*(|</T>)\\s*\n"
     ]
    }
   ],
   "source": [
    "print(reg_str)"
   ]
  },
  {
   "cell_type": "code",
   "execution_count": 704,
   "id": "87ae0374-6c2c-4a9d-9bfe-ab712bda7616",
   "metadata": {},
   "outputs": [
    {
     "name": "stdout",
     "output_type": "stream",
     "text": [
      "inserting region 1:\n",
      " function sessionStorageCheck () {\n",
      "if (_this.settings.sessionStorage === true && window.sessionStorage && window.sessionStorage.getItem('myGeo')){\n",
      "\t\t\t\t_this.writeDebug('Using Session Saved Values for GEO');\n",
      "\t\t\t\t_this.autoGeocodeQuery(JSON.parse(window.sessionStorage.getItem('myGeo')));\n",
      "\t\t\t\treturn false;\n",
      "\t\t\t}\n",
      "\t\t\t\n",
      "}\n",
      "inserting region 2:\n",
      " function positionProcessing () {\n",
      "var pos = {\n",
      "\t\t\t\t\t\tcoords: {\n",
      "\t\t\t\t\t\t\tlatitude : position.coords.latitude,\n",
      "\t\t\t\t\t\t\tlongitude: position.coords.longitude,\n",
      "\t\t\t\t\t\t\taccuracy : position.coords.accuracy\n",
      "\t\t\t\t\t\t}\n",
      "\t\t\t\t\t};\n",
      "\n",
      "\t\t\t\t\t\n",
      "\t\t\t\t\t\n",
      "}\n",
      "inserting region 3:\n",
      " function sessionStorageUpdate () {\n",
      "if (_this.settings.sessionStorage === true && window.sessionStorage) {\n",
      "\t\t\t\t\t\twindow.sessionStorage.setItem('myGeo',JSON.stringify(pos));\n",
      "\t\t\t\t\t}\n",
      "\n",
      "\t\t\t\t\t\n",
      "\t\t\t\t\t\n",
      "}\n",
      "inserting region 4:\n",
      " function callbackExecution () {\n",
      "if (_this.settings.callbackAutoGeoSuccess) {\n",
      "\t\t\t\t\t\t_this.settings.callbackAutoGeoSuccess.call(this, pos);\n",
      "\t\t\t\t\t}\n",
      "\n",
      "\t\t\t\t\t\n",
      "}\n",
      "inserting region 5:\n",
      " function geolocationCheck () {\n",
      "else if (navigator.geolocation) {\n",
      "\t\t\t\tnavigator.geolocation.getCurrentPosition(function(position){\n",
      "\t\t\t\t\t_this.writeDebug('Current Position Result');\n",
      "\t\t\t\t\t\n",
      "\t\t\t\t\t\n",
      "positionProcessing();\n",
      "\n",
      "sessionStorageUpdate();\n",
      "\n",
      "callbackExecution();\n",
      "_this.autoGeocodeQuery(pos);\n",
      "\t\t\t\t}, function(error){\n",
      "\t\t\t\t\t_this._autoGeocodeError(error);\n",
      "\t\t\t\t});\n",
      "\t\t\t}\n",
      "\t\t\n",
      "}\n",
      "inserting region 6:\n",
      " function() {\n",
      "\t\t\tthis.writeDebug('htmlGeocode',arguments);\n",
      "\t\t\tvar _this = this;\n",
      "\n",
      "\t\t\t\n",
      "sessionStorageCheck();\n",
      "\n",
      "geolocationCheck();\n",
      "}\n"
     ]
    },
    {
     "data": {
      "text/plain": [
       "[(0, 6), (83, 1), (361, 5), (521, 2), (709, 3), (865, 4), (1089, 6)]"
      ]
     },
     "execution_count": 704,
     "metadata": {},
     "output_type": "execute_result"
    }
   ],
   "source": [
    "to_json(flat_wrong_tags(xx[7].tags, strip_js_comments(xx[7].code), xx[7].m), strip_js_comments(xx[7].code), xx[7].m)"
   ]
  },
  {
   "cell_type": "code",
   "execution_count": 663,
   "id": "c033bfa3-c2b0-4eea-ba2e-9fb1d00ab36a",
   "metadata": {},
   "outputs": [
    {
     "name": "stdout",
     "output_type": "stream",
     "text": [
      "\n",
      "function() {\n",
      "  this.writeDebug('htmlGeocode',arguments);\n",
      "  var _this = this;\n",
      "\n",
      "  <sessionStorageCheck>\n",
      "  if (_this.settings.sessionStorage === true && window.sessionStorage && window.sessionStorage.getItem('myGeo')){\n",
      "      _this.writeDebug('Using Session Saved Values for GEO');\n",
      "      _this.autoGeocodeQuery(JSON.parse(window.sessionStorage.getItem('myGeo')));\n",
      "      return false;\n",
      "  }\n",
      "  </sessionStorageCheck>\n",
      "  <geolocationCheck>\n",
      "  else if (navigator.geolocation) {\n",
      "      navigator.geolocation.getCurrentPosition(function(position){\n",
      "          _this.writeDebug('Current Position Result');\n",
      "          \n",
      "          <positionProcessing>\n",
      "          var pos = {\n",
      "              coords: {\n",
      "                  latitude : position.coords.latitude,\n",
      "                  longitude: position.coords.longitude,\n",
      "                  accuracy : position.coords.accuracy\n",
      "              }\n",
      "          };\n",
      "          </positionProcessing>\n",
      "\n",
      "          <sessionStorageUpdate>\n",
      "          if (_this.settings.sessionStorage === true && window.sessionStorage) {\n",
      "              window.sessionStorage.setItem('myGeo',JSON.stringify(pos));\n",
      "          }\n",
      "          </sessionStorageUpdate>\n",
      "\n",
      "          <callbackExecution>\n",
      "          if (_this.settings.callbackAutoGeoSuccess) {\n",
      "              _this.settings.callbackAutoGeoSuccess.call(this, pos);\n",
      "          }\n",
      "          </callbackExecution>\n",
      "\n",
      "          _this.autoGeocodeQuery(pos);\n",
      "      }, function(error){\n",
      "          _this._autoGeocodeError(error);\n",
      "      });\n",
      "  }\n",
      "  </geolocationCheck>\n",
      "}\n",
      "\n"
     ]
    }
   ],
   "source": [
    "print(xx[7].obj[1])"
   ]
  },
  {
   "cell_type": "code",
   "execution_count": 706,
   "id": "faa4ab80-75bb-43c4-aa75-48661180f83d",
   "metadata": {},
   "outputs": [
    {
     "data": {
      "text/plain": [
       "[]"
      ]
     },
     "execution_count": 706,
     "metadata": {},
     "output_type": "execute_result"
    }
   ],
   "source": [
    "[x.code for x in xx if re.match(r'<\\w.*>', x.code)]"
   ]
  },
  {
   "cell_type": "code",
   "execution_count": 661,
   "id": "584059ed-43c4-47d4-af9f-389bcc5081f5",
   "metadata": {},
   "outputs": [
    {
     "name": "stdout",
     "output_type": "stream",
     "text": [
      "function() {\n",
      "\t\t\tthis.writeDebug('htmlGeocode',arguments);\n",
      "\t\t\tvar _this = this;\n",
      "\n",
      "\t\t\tif (_this.settings.sessionStorage === true && window.sessionStorage && window.sessionStorage.getItem('myGeo')){\n",
      "\t\t\t\t_this.writeDebug('Using Session Saved Values for GEO');\n",
      "\t\t\t\t_this.autoGeocodeQuery(JSON.parse(window.sessionStorage.getItem('myGeo')));\n",
      "\t\t\t\treturn false;\n",
      "\t\t\t}\n",
      "\t\t\telse if (navigator.geolocation) {\n",
      "\t\t\t\tnavigator.geolocation.getCurrentPosition(function(position){\n",
      "\t\t\t\t\t_this.writeDebug('Current Position Result');\n",
      "\t\t\t\t\t// To not break autoGeocodeQuery then we create the obj to match the geolocation format\n",
      "\t\t\t\t\tvar pos = {\n",
      "\t\t\t\t\t\tcoords: {\n",
      "\t\t\t\t\t\t\tlatitude : position.coords.latitude,\n",
      "\t\t\t\t\t\t\tlongitude: position.coords.longitude,\n",
      "\t\t\t\t\t\t\taccuracy : position.coords.accuracy\n",
      "\t\t\t\t\t\t}\n",
      "\t\t\t\t\t};\n",
      "\n",
      "\t\t\t\t\t// Have to do this to get around scope issues\n",
      "\t\t\t\t\tif (_this.settings.sessionStorage === true && window.sessionStorage) {\n",
      "\t\t\t\t\t\twindow.sessionStorage.setItem('myGeo',JSON.stringify(pos));\n",
      "\t\t\t\t\t}\n",
      "\n",
      "\t\t\t\t\t// Callback\n",
      "\t\t\t\t\tif (_this.settings.callbackAutoGeoSuccess) {\n",
      "\t\t\t\t\t\t_this.settings.callbackAutoGeoSuccess.call(this, pos);\n",
      "\t\t\t\t\t}\n",
      "\n",
      "\t\t\t\t\t_this.autoGeocodeQuery(pos);\n",
      "\t\t\t\t}, function(error){\n",
      "\t\t\t\t\t_this._autoGeocodeError(error);\n",
      "\t\t\t\t});\n",
      "\t\t\t}\n",
      "\t\t}\n"
     ]
    }
   ],
   "source": [
    "print(xx[7].code)"
   ]
  },
  {
   "cell_type": "code",
   "execution_count": 629,
   "id": "e5b13078-0422-47b6-9c3d-b2a32f45f5e2",
   "metadata": {},
   "outputs": [
    {
     "data": {
      "text/plain": [
       "[[],\n",
       " [],\n",
       " [],\n",
       " [],\n",
       " [('fileOperations', 1, 2, []), ('templateStringReplacement', 3, 4, [])],\n",
       " [('parameterHandling', 1, 2, []), ('propertyExtension', 3, 4, [])],\n",
       " [('bigQueryClientInitialization', 1, 2, []),\n",
       "  ('bigQueryDataLoading', 3, 4, []),\n",
       "  ('errorHandling', 5, 6, [])],\n",
       " [('sessionStorageCheck', 1, 2, []),\n",
       "  ('geolocationCheck',\n",
       "   3,\n",
       "   10,\n",
       "   [('positionProcessing', 4, 5, []),\n",
       "    ('sessionStorageUpdate', 6, 7, []),\n",
       "    ('callbackExecution', 8, 9, [])])],\n",
       " [('protocolDetermination', 1, 2, []),\n",
       "  ('httpRequestCreation', 3, 4, []),\n",
       "  ('requestBodyHandling', 5, 6, [])],\n",
       " []]"
      ]
     },
     "execution_count": 629,
     "metadata": {},
     "output_type": "execute_result"
    }
   ],
   "source": [
    "[x.tags for x in xx if x.reg]"
   ]
  },
  {
   "cell_type": "code",
   "execution_count": 572,
   "id": "49b26d1d-b2eb-459f-8815-8b648adb8414",
   "metadata": {},
   "outputs": [
    {
     "data": {
      "text/plain": [
       "'\\\\s*function\\\\s*check\\\\s*\\\\(\\\\s*node\\\\s*\\\\)\\\\s*\\\\{\\\\s*(|<analyzeNode>)\\\\s*if\\\\s*\\\\(\\\\s*node\\\\s*\\\\.\\\\s*arguments\\\\s*\\\\.\\\\s*length\\\\s*!\\\\s*=\\\\s*=\\\\s*1\\\\s*\\\\&\\\\s*\\\\&\\\\s*node\\\\s*\\\\.\\\\s*callee\\\\s*\\\\.\\\\s*type\\\\s*=\\\\s*=\\\\s*=\\\\s*\"\\\\s*Identifier\\\\s*\"\\\\s*\\\\&\\\\s*\\\\&\\\\s*node\\\\s*\\\\.\\\\s*callee\\\\s*\\\\.\\\\s*name\\\\s*=\\\\s*=\\\\s*=\\\\s*\"\\\\s*Array\\\\s*\"\\\\s*\\\\&\\\\s*\\\\&\\\\s*!\\\\s*node\\\\s*\\\\.\\\\s*typeParameters\\\\s*\\\\)\\\\s*\\\\{\\\\s*(|<reportProblem>)\\\\s*context\\\\s*\\\\.\\\\s*report\\\\s*\\\\(\\\\s*\\\\{\\\\s*node\\\\s*,\\\\s*message\\\\s*:\\\\s*\"\\\\s*The\\\\s*array\\\\s*literal\\\\s*notation\\\\s*\\\\[\\\\'"
      ]
     },
     "execution_count": 572,
     "metadata": {},
     "output_type": "execute_result"
    }
   ],
   "source": [
    "xx[1].reg_str[:448]\n",
    "#regex.compile(xx[1].reg_str[:500], flags = regex.DOTALL).match(xx[1].code)"
   ]
  },
  {
   "cell_type": "code",
   "execution_count": 432,
   "id": "3ed0e513-cbe6-4e0e-ae06-22cb4dec3fbd",
   "metadata": {},
   "outputs": [
    {
     "name": "stdout",
     "output_type": "stream",
     "text": [
      "2470\n",
      "0 2470 100\n",
      "enter\n",
      "ok 0 0\n",
      "enter\n",
      "ok 100 0\n",
      "enter\n",
      "ok 200 2\n",
      "enter\n",
      "ok 300 0\n",
      "enter\n",
      "ok 400 0\n",
      "enter\n",
      "ok 500 2\n",
      "enter\n",
      "ok 600 0\n",
      "enter\n",
      "ok 700 0\n",
      "enter\n",
      "ok 800 0\n",
      "enter\n",
      "ok 900 19\n",
      "enter\n",
      "ok 1000 0\n",
      "enter\n",
      "ok 1100 1\n",
      "enter\n",
      "ok 1200 0\n",
      "enter\n",
      "ok 1300 0\n",
      "enter\n",
      "ok 1400 2\n",
      "enter\n",
      "not ok\n",
      "1500 2 99\n",
      "ok 1500 86\n"
     ]
    }
   ],
   "source": [
    "reg_str, tags = make_regex(simple_parse_xml(v[1][1], True))\n",
    "reg = regex.compile(reg_str, flags = regex.DOTALL)\n",
    "print(len(reg_str))\n",
    "if not reg.match(v[0]):\n",
    "    last_j = 0\n",
    "    print(0, len(reg_str), 100)\n",
    "    for i in range(0, len(reg_str), 100):\n",
    "        print('enter')\n",
    "        for j in range(100):\n",
    "            try:\n",
    "                if regex.compile(reg_str[:i+j], flags = regex.DOTALL).match(v[0]):\n",
    "                    last_j = j\n",
    "                    print('ok', i, j)\n",
    "                    break\n",
    "            except:\n",
    "                pass\n",
    "        else:\n",
    "            print('not ok')\n",
    "            print(i, last_j, j)\n",
    "            for j in range(100):\n",
    "                try:\n",
    "                    if regex.compile(reg_str[:i-j], flags = regex.DOTALL).match(v[0]):\n",
    "                        print('ok', i, j)\n",
    "                        break\n",
    "                except:\n",
    "                    pass\n",
    "            break\n"
   ]
  },
  {
   "cell_type": "code",
   "execution_count": 442,
   "id": "97d099c2-e5a6-4660-9f7a-571677472882",
   "metadata": {},
   "outputs": [
    {
     "data": {
      "text/plain": [
       "'\\\\s*function\\\\s*DefaultArrayItem\\\\s*\\\\(\\\\s*props\\\\s*\\\\)\\\\s*\\\\{\\\\s*(|<DefineButtonStyle>)\\\\s*const\\\\s*btnStyle\\\\s*=\\\\s*\\\\{\\\\s*flex\\\\s*:\\\\s*1\\\\s*,\\\\s*paddingLeft\\\\s*:\\\\s*6\\\\s*,\\\\s*paddingRight\\\\s*:\\\\s*6\\\\s*,\\\\s*fontWeight\\\\s*:\\\\s*\"\\\\s*bold\\\\s*\",\\\\s*\\\\};\\\\s*(?:|</DefineButtonStyle>)\\\\s*return\\\\s*\\\\(\\\\s*(|<RenderComponentStructure>)\\\\s*<\\\\s*div\\\\s*key\\\\s*=\\\\{\\\\s*props\\\\s*\\\\.\\\\s*index\\\\s*\\\\}\\\\s*className\\\\s*=\\\\{\\\\s*props\\\\s*\\\\.\\\\s*className\\\\s*\\\\}>\\\\s*<\\\\s*div\\\\s*className\\\\s*=\\\\{\\\\s*props\\\\s*\\\\.\\\\s*hasToolbar\\\\s*\\\\?\\\\s*\"\\\\s*col\\\\s*\\\\-\\\\s*xs\\\\s*\\\\-\\\\s*9\\\\s*\"\\\\s*:\\\\s*\"\\\\s*col\\\\s*\\\\-\\\\s*xs\\\\s*\\\\-\\\\s*12\\\\s*\"\\\\}>\\\\s*\\\\{\\\\s*props\\\\s*\\\\.\\\\s*children\\\\s*\\\\}\\\\s*(|</div>)\\\\s*\\\\{\\\\s*props\\\\s*\\\\.\\\\s*hasToolbar\\\\s*\\\\&\\\\&\\\\s*\\\\(\\\\s*(?:|<//div>)\\\\s*(|<RenderToolbox>)\\\\s*<\\\\s*div\\\\s*className\\\\s*=\"\\\\s*col\\\\s*\\\\-\\\\s*xs\\\\s*\\\\-\\\\s*3\\\\s*array\\\\s*\\\\-\\\\s*item\\\\s*\\\\-\\\\s*toolbox\\\\s*\">\\\\s*<\\\\s*div\\\\s*className\\\\s*=\"\\\\s*btn\\\\s*\\\\-\\\\s*group\\\\s*\"\\\\s*style\\\\s*=\\\\{\\\\{\\\\s*display\\\\s*:\\\\s*\"\\\\s*flex\\\\s*\",\\\\s*justifyContent\\\\s*:\\\\s*\"\\\\s*space\\\\s*\\\\-\\\\s*around\\\\s*\",\\\\s*\\\\}\\\\}>\\\\s*(|<RenderMoveButtons>)\\\\s*\\\\{\\\\(\\\\s*props\\\\s*\\\\.\\\\s*hasMoveUp\\\\s*\\\\|\\\\|\\\\s*props\\\\s*\\\\.\\\\s*hasMoveDown\\\\s*\\\\)\\\\s*\\\\&\\\\&\\\\s*\\\\(\\\\s*(|<>)\\\\s*<\\\\s*IconButton\\\\s*icon\\\\s*=\"\\\\s*arrow\\\\s*\\\\-\\\\s*up\\\\s*\"\\\\s*className\\\\s*=\"\\\\s*array\\\\s*\\\\-\\\\s*item\\\\s*\\\\-\\\\s*move\\\\s*\\\\-\\\\s*up\\\\s*\"\\\\s*tabIndex\\\\s*=\"\\\\-\\\\s*1\\\\s*\"\\\\s*style\\\\s*=\\\\{\\\\s*btnStyle\\\\s*\\\\}\\\\s*disabled\\\\s*=\\\\{\\\\s*props\\\\s*\\\\.\\\\s*disabled\\\\s*\\\\|\\\\|\\\\s*props\\\\s*\\\\.\\\\s*readonly\\\\s*\\\\|\\\\|\\\\s*!\\\\s*props\\\\s*\\\\.\\\\s*hasMoveUp\\\\s*\\\\}\\\\s*onClick\\\\s*=\\\\{\\\\s*props\\\\s*\\\\.\\\\s*onReorderClick\\\\s*\\\\(\\\\s*props\\\\s*\\\\.\\\\s*index\\\\s*,\\\\s*props\\\\s*\\\\.\\\\s*index\\\\s*\\\\-\\\\s*1\\\\s*\\\\)\\\\}\\\\s*/>\\\\s*<\\\\s*IconButton\\\\s*icon\\\\s*=\"\\\\s*arrow\\\\s*\\\\-\\\\s*down\\\\s*\"\\\\s*className\\\\s*=\"\\\\s*array\\\\s*\\\\-\\\\s*item\\\\s*\\\\-\\\\s*move\\\\s*\\\\-\\\\s*down\\\\s*\"\\\\s*tabIndex\\\\s*=\"\\\\-\\\\s*1\\\\s*\"\\\\s*style\\\\s*=\\\\{\\\\s*btnStyle\\\\s*\\\\}\\\\s*disabled\\\\s*=\\\\{\\\\s*props\\\\s*\\\\.\\\\s*disabled\\\\s*\\\\|\\\\|\\\\s*props\\\\s*\\\\.\\\\s*readonly\\\\s*\\\\|\\\\|\\\\s*!\\\\s*props\\\\s*\\\\.\\\\s*hasMoveDown\\\\s*\\\\}\\\\s*onClick\\\\s*=\\\\{\\\\s*props\\\\s*\\\\.\\\\s*onReorderClick\\\\s*\\\\(\\\\s*props\\\\s*\\\\.\\\\s*index\\\\s*,\\\\s*props\\\\s*\\\\.\\\\s*index\\\\s*\\\\+\\\\s*1\\\\s*\\\\)\\\\}\\\\s*/>\\\\s*(?:|</>)\\\\s*\\\\)\\\\}\\\\s*(?:|</RenderMoveButtons>)\\\\s*(|<RenderRemoveButton>)\\\\s*\\\\{\\\\s*props\\\\s*\\\\.\\\\s*hasRemove\\\\s*\\\\&\\\\&\\\\s*\\\\(\\\\s*<\\\\s*IconButton\\\\s*type\\\\s*=\"\\\\s*danger\\\\s*\"\\\\s*icon\\\\s*=\"\\\\s*remove\\\\s*\"\\\\s*className\\\\s*=\"\\\\s*array\\\\s*\\\\-\\\\s*item\\\\s*\\\\-\\\\s*remove\\\\s*\"\\\\s*tabIndex\\\\s*=\"\\\\-\\\\s*1\\\\s*\"\\\\s*style\\\\s*=\\\\{\\\\s*btnStyle\\\\s*\\\\}\\\\s*disabled\\\\s*=\\\\{\\\\s*props\\\\s*\\\\.\\\\s*disabled\\\\s*\\\\|\\\\|\\\\s*props\\\\s*\\\\.\\\\s*readonly\\\\s*\\\\}\\\\s*onClick\\\\s*=\\\\{\\\\s*props\\\\s*\\\\.\\\\s*onDropIndexClick\\\\s*\\\\(\\\\s*props\\\\s*\\\\.\\\\s*index\\\\s*\\\\)\\\\}\\\\s*/>\\\\s*\\\\)\\\\}\\\\s*(?:|</RenderRemoveButton>)\\\\s*(|</div>)\\\\s*(?:|<//div>)\\\\s*(|</div>)\\\\s*(?:|<//div>)\\\\s*(?:|</RenderToolbox>)\\\\s*\\\\)\\\\}\\\\s*(|</div>)\\\\s*(?:|<//div>)\\\\s*(?:|</RenderComponentStructure>)\\\\s*\\\\);\\\\s*\\\\}\\\\s*'"
      ]
     },
     "execution_count": 442,
     "metadata": {},
     "output_type": "execute_result"
    }
   ],
   "source": [
    "regex.compile(reg_str[:1500-86], flags = regex.DOTALL).match(v[0])\n",
    "reg_str#[:1500-86 + 50]"
   ]
  },
  {
   "cell_type": "code",
   "execution_count": 441,
   "id": "919c0c34-2146-4299-a605-ab7347bac6b1",
   "metadata": {},
   "outputs": [
    {
     "data": {
      "text/plain": [
       "'function DefaultArrayItem(props) {\\n  const btnStyle = {\\n    flex: 1,\\n    paddingLeft: 6,\\n    paddingRight: 6,\\n    fontWeight: \"bold\",\\n  };\\n  return (\\n    <div key={props.index} className={props.className}>\\n      <div className={props.hasToolbar ? \"col-xs-9\" : \"col-xs-12\"}>\\n        {props.children}\\n      </div>\\n\\n      {props.hasToolbar && (\\n        <div className=\"col-xs-3 array-item-toolbox\">\\n          <div\\n            className=\"btn-group\"\\n            style={{\\n              display: \"flex\",\\n              justifyContent: \"space-around\",\\n            }}>\\n            {(props.hasMoveUp || props.hasMoveDown) && (\\n              <IconButton\\n                icon=\"arrow-up\"\\n                className=\"array-item-move-up\"\\n                tabIndex=\"-1\"\\n                style={btnStyle}\\n                disabled={props.disabled || props.readonly || !props.hasMoveUp}\\n                onClick={props.onReorderClick(props.index, props.index - 1)}\\n              />\\n            )}\\n\\n            {(props.hasMoveUp || props.hasMoveDown) && (\\n              <IconButton\\n                icon=\"arrow-down\"\\n         '"
      ]
     },
     "execution_count": 441,
     "metadata": {},
     "output_type": "execute_result"
    }
   ],
   "source": [
    "#v[1][1]\n",
    "v[0][:1100]"
   ]
  },
  {
   "cell_type": "code",
   "execution_count": 390,
   "id": "2506bb3f-72c1-46dd-bb42-8d7e864b4266",
   "metadata": {},
   "outputs": [
    {
     "name": "stderr",
     "output_type": "stream",
     "text": [
      "100%|██████████| 10/10 [00:00<00:00, 264.21it/s]"
     ]
    },
    {
     "name": "stdout",
     "output_type": "stream",
     "text": [
      "0\n",
      "1\n",
      "2\n",
      "3\n",
      "4\n",
      "5\n",
      "6\n",
      "7\n",
      "8\n",
      "9\n"
     ]
    },
    {
     "name": "stderr",
     "output_type": "stream",
     "text": [
      "\n"
     ]
    }
   ],
   "source": [
    "from tqdm import tqdm\n",
    "import regex\n",
    "for iv, v in enumerate(tqdm(l)):\n",
    "    print(iv)\n",
    "    reg_str, tags = make_regex(simple_parse_xml(v[1][1], True))\n",
    "    reg = regex.compile(reg_str, flags = regex.DOTALL)\n",
    "    if not reg.match(v[0]):\n",
    "        last_j = 0\n",
    "        for i in range(0, len(reg_str), 100):\n",
    "            for j in range(100):\n",
    "                try:\n",
    "                    if regex.compile(reg_str[:i+j], flags = regex.DOTALL).match(v[0]):\n",
    "                        last_j = j\n",
    "                        break\n",
    "                except:\n",
    "                    pass\n",
    "            else:\n",
    "                print(i, last_j, j)\n",
    "                print(reg_str[:i])\n",
    "                print('\"\"\"\"\"\"\"\"\"\"\"')\n",
    "                print(v[0])\n",
    "                print('-------------')\n",
    "                print(v[1][1])\n",
    "                raise Exception('')"
   ]
  },
  {
   "cell_type": "code",
   "execution_count": 302,
   "id": "05fed5c8-6078-4256-ae34-3a88345a3ed5",
   "metadata": {},
   "outputs": [],
   "source": [
    "regex.compile(reg_str[:900+j], flags = regex.DOTALL).match(v[0])"
   ]
  },
  {
   "cell_type": "code",
   "execution_count": 243,
   "id": "c1a58f16-1c8b-49f4-893c-a4f22329dc55",
   "metadata": {},
   "outputs": [
    {
     "ename": "KeyboardInterrupt",
     "evalue": "",
     "output_type": "error",
     "traceback": [
      "\u001b[0;31m---------------------------------------------------------------------------\u001b[0m",
      "\u001b[0;31mKeyboardInterrupt\u001b[0m                         Traceback (most recent call last)",
      "Cell \u001b[0;32mIn[243], line 1\u001b[0m\n\u001b[0;32m----> 1\u001b[0m \u001b[43mre\u001b[49m\u001b[38;5;241;43m.\u001b[39;49m\u001b[43mmatch\u001b[49m\u001b[43m(\u001b[49m\u001b[43mreg\u001b[49m\u001b[43m,\u001b[49m\u001b[43m \u001b[49m\u001b[43mv\u001b[49m\u001b[43m[\u001b[49m\u001b[38;5;241;43m0\u001b[39;49m\u001b[43m]\u001b[49m\u001b[43m)\u001b[49m\n",
      "File \u001b[0;32m/usr/lib/python3.10/re.py:190\u001b[0m, in \u001b[0;36mmatch\u001b[0;34m(pattern, string, flags)\u001b[0m\n\u001b[1;32m    187\u001b[0m \u001b[38;5;28;01mdef\u001b[39;00m \u001b[38;5;21mmatch\u001b[39m(pattern, string, flags\u001b[38;5;241m=\u001b[39m\u001b[38;5;241m0\u001b[39m):\n\u001b[1;32m    188\u001b[0m \u001b[38;5;250m    \u001b[39m\u001b[38;5;124;03m\"\"\"Try to apply the pattern at the start of the string, returning\u001b[39;00m\n\u001b[1;32m    189\u001b[0m \u001b[38;5;124;03m    a Match object, or None if no match was found.\"\"\"\u001b[39;00m\n\u001b[0;32m--> 190\u001b[0m     \u001b[38;5;28;01mreturn\u001b[39;00m \u001b[43m_compile\u001b[49m\u001b[43m(\u001b[49m\u001b[43mpattern\u001b[49m\u001b[43m,\u001b[49m\u001b[43m \u001b[49m\u001b[43mflags\u001b[49m\u001b[43m)\u001b[49m\u001b[38;5;241;43m.\u001b[39;49m\u001b[43mmatch\u001b[49m\u001b[43m(\u001b[49m\u001b[43mstring\u001b[49m\u001b[43m)\u001b[49m\n",
      "\u001b[0;31mKeyboardInterrupt\u001b[0m: "
     ]
    }
   ],
   "source": [
    "re.match(reg, v[0])"
   ]
  }
 ],
 "metadata": {
  "kernelspec": {
   "display_name": "Python 3 (ipykernel)",
   "language": "python",
   "name": "python3"
  },
  "language_info": {
   "codemirror_mode": {
    "name": "ipython",
    "version": 3
   },
   "file_extension": ".py",
   "mimetype": "text/x-python",
   "name": "python",
   "nbconvert_exporter": "python",
   "pygments_lexer": "ipython3",
   "version": "3.10.12"
  }
 },
 "nbformat": 4,
 "nbformat_minor": 5
}
