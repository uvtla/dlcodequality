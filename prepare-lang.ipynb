{
 "cells": [
  {
   "cell_type": "code",
   "execution_count": 1,
   "id": "e6c644ae-0b66-4bcf-8e68-c830f3eb32b0",
   "metadata": {},
   "outputs": [],
   "source": [
    "import os\n",
    "import json\n",
    "from tqdm import tqdm\n",
    "\n",
    "os.chdir('dataset/Diff_Quality_Estimation')\n"
   ]
  },
  {
   "cell_type": "code",
   "execution_count": 4,
   "id": "4bc6b0db-76a1-4bb2-8e8e-0428c4335fe1",
   "metadata": {},
   "outputs": [
    {
     "name": "stderr",
     "output_type": "stream",
     "text": [
      "31252it [00:00, 133700.24it/s]\n",
      "31252it [00:00, 133295.22it/s]\n",
      "66459it [00:00, 157338.69it/s]\n",
      "66459it [00:00, 158025.60it/s]\n",
      "66459it [00:00, 102640.25it/s]\n",
      "66459it [00:00, 162190.44it/s]\n"
     ]
    }
   ],
   "source": [
    "from filenames import all_files\n",
    "\n",
    "for filename in all_files:\n",
    "    with open(f'{filename}-ready.jsonl') as fr:\n",
    "        with open(f'{filename}-testjs.jsonl', 'w') as fw:\n",
    "            for line in tqdm(fr):\n",
    "                code, _, label = json.loads(line)\n",
    "                if label < 0: continue\n",
    "                fw.write(f\"{json.dumps([code, label])}\\n\")\n"
   ]
  },
  {
   "cell_type": "code",
   "execution_count": null,
   "id": "e3dabaa2-9fc7-4bb4-a824-3028bc68508a",
   "metadata": {},
   "outputs": [],
   "source": []
  }
 ],
 "metadata": {
  "kernelspec": {
   "display_name": "Python 3 (ipykernel)",
   "language": "python",
   "name": "python3"
  },
  "language_info": {
   "codemirror_mode": {
    "name": "ipython",
    "version": 3
   },
   "file_extension": ".py",
   "mimetype": "text/x-python",
   "name": "python",
   "nbconvert_exporter": "python",
   "pygments_lexer": "ipython3",
   "version": "3.10.12"
  }
 },
 "nbformat": 4,
 "nbformat_minor": 5
}
