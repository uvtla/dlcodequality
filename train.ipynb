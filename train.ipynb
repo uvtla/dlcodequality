{
 "cells": [
  {
   "cell_type": "code",
   "execution_count": 1,
   "id": "f4086efd-eedf-4347-9247-065eb046e8a5",
   "metadata": {},
   "outputs": [],
   "source": [
    "import os\n",
    "import json\n",
    "from tqdm import tqdm\n",
    "\n",
    "os.chdir('dataset/Diff_Quality_Estimation')\n",
    "msg_file = f\"comments.jsonl\"\n"
   ]
  },
  {
   "cell_type": "code",
   "execution_count": 2,
   "id": "a3940960-798b-4cc3-9a24-138a1081aff3",
   "metadata": {},
   "outputs": [
    {
     "name": "stderr",
     "output_type": "stream",
     "text": [
      "Some weights of RobertaForSequenceClassification were not initialized from the model checkpoint at microsoft/codebert-base and are newly initialized: ['classifier.dense.bias', 'classifier.out_proj.weight', 'classifier.out_proj.bias', 'classifier.dense.weight']\n",
      "You should probably TRAIN this model on a down-stream task to be able to use it for predictions and inference.\n"
     ]
    }
   ],
   "source": [
    "from transformers import RobertaForSequenceClassification, RobertaTokenizer, RobertaConfig\n",
    "import torch\n",
    "import torch.nn as nn\n",
    "from torch.optim import AdamW\n",
    "from torch.nn import BCELoss\n",
    "\n",
    "# Load tokenizer\n",
    "tokenizer = RobertaTokenizer.from_pretrained('microsoft/codebert-base')\n",
    "\n",
    "# Load the configuration and modify it for multi-label classification\n",
    "config = RobertaConfig.from_pretrained('microsoft/codebert-base')\n",
    "config.num_labels = 4  # Set the number of labels\n",
    "\n",
    "# Load model with modified configuration\n",
    "model = RobertaForSequenceClassification.from_pretrained('microsoft/codebert-base', config=config)\n",
    "\n",
    "# Replace the classifier head with a new one\n",
    "model.classifier = nn.Sequential(\n",
    "    nn.Linear(config.hidden_size, 4),  # Assuming '4' is the number of labels\n",
    "    nn.Sigmoid()\n",
    ")\n",
    "device = torch.device('cuda')\n",
    "model.to(device)\n",
    "\n",
    "optimizer = AdamW(model.parameters(), lr=1e-5)\n",
    "loss_fn = BCELoss()\n"
   ]
  },
  {
   "cell_type": "code",
   "execution_count": 3,
   "id": "1100a307-654b-41a2-a6f9-8fee336414f5",
   "metadata": {},
   "outputs": [],
   "source": [
    "model.load_state_dict(torch.load('classifier2.pt'))\n",
    "optimizer.load_state_dict(torch.load('optimizer2.pt'))"
   ]
  },
  {
   "cell_type": "code",
   "execution_count": 4,
   "id": "2d8c2b87-c322-40f9-8385-0ffcbb5b20db",
   "metadata": {},
   "outputs": [],
   "source": [
    "for param in model.roberta.base_model.parameters():\n",
    "    param.requires_grad = False\n"
   ]
  },
  {
   "cell_type": "code",
   "execution_count": 5,
   "id": "6e439f3a-0322-4282-b4c0-3ee9a80964ba",
   "metadata": {},
   "outputs": [],
   "source": [
    "for param in model.roberta.encoder.layer[11].parameters():\n",
    "    param.requires_grad = True\n"
   ]
  },
  {
   "cell_type": "code",
   "execution_count": 6,
   "id": "05767062-5c16-43b9-a26a-0167a9563b6d",
   "metadata": {},
   "outputs": [
    {
     "data": {
      "text/plain": [
       "RobertaForSequenceClassification(\n",
       "  (roberta): RobertaModel(\n",
       "    (embeddings): RobertaEmbeddings(\n",
       "      (word_embeddings): Embedding(50265, 768, padding_idx=1)\n",
       "      (position_embeddings): Embedding(514, 768, padding_idx=1)\n",
       "      (token_type_embeddings): Embedding(1, 768)\n",
       "      (LayerNorm): LayerNorm((768,), eps=1e-05, elementwise_affine=True)\n",
       "      (dropout): Dropout(p=0.1, inplace=False)\n",
       "    )\n",
       "    (encoder): RobertaEncoder(\n",
       "      (layer): ModuleList(\n",
       "        (0-11): 12 x RobertaLayer(\n",
       "          (attention): RobertaAttention(\n",
       "            (self): RobertaSelfAttention(\n",
       "              (query): Linear(in_features=768, out_features=768, bias=True)\n",
       "              (key): Linear(in_features=768, out_features=768, bias=True)\n",
       "              (value): Linear(in_features=768, out_features=768, bias=True)\n",
       "              (dropout): Dropout(p=0.1, inplace=False)\n",
       "            )\n",
       "            (output): RobertaSelfOutput(\n",
       "              (dense): Linear(in_features=768, out_features=768, bias=True)\n",
       "              (LayerNorm): LayerNorm((768,), eps=1e-05, elementwise_affine=True)\n",
       "              (dropout): Dropout(p=0.1, inplace=False)\n",
       "            )\n",
       "          )\n",
       "          (intermediate): RobertaIntermediate(\n",
       "            (dense): Linear(in_features=768, out_features=3072, bias=True)\n",
       "            (intermediate_act_fn): GELUActivation()\n",
       "          )\n",
       "          (output): RobertaOutput(\n",
       "            (dense): Linear(in_features=3072, out_features=768, bias=True)\n",
       "            (LayerNorm): LayerNorm((768,), eps=1e-05, elementwise_affine=True)\n",
       "            (dropout): Dropout(p=0.1, inplace=False)\n",
       "          )\n",
       "        )\n",
       "      )\n",
       "    )\n",
       "  )\n",
       "  (classifier): Sequential(\n",
       "    (0): Linear(in_features=768, out_features=4, bias=True)\n",
       "    (1): Sigmoid()\n",
       "  )\n",
       ")"
      ]
     },
     "execution_count": 6,
     "metadata": {},
     "output_type": "execute_result"
    }
   ],
   "source": [
    "model"
   ]
  },
  {
   "cell_type": "code",
   "execution_count": null,
   "id": "891b042e-fa2d-4ef7-9e93-50bf65b628e5",
   "metadata": {},
   "outputs": [
    {
     "name": "stdout",
     "output_type": "stream",
     "text": [
      "Epoch 1/20, Average Loss: 0.1003          .1066\n",
      "Epoch 2/20 - Batch 311/486, Loss: 0.1071 0.1021"
     ]
    }
   ],
   "source": [
    "from filenames import all_files\n",
    "from torch.utils.data import Subset\n",
    "from sklearn.metrics import accuracy_score, precision_recall_fscore_support\n",
    "from ds import SQLiteCodeDataset\n",
    "from torch.utils.data import DataLoader\n",
    "\n",
    "\n",
    "model.train()\n",
    "num_epochs = 20\n",
    "batch_size = 64\n",
    "\n",
    "for epoch in range(num_epochs):\n",
    "    running_loss = 0.0\n",
    "    dataset = SQLiteCodeDataset('ready_classes', tokenizer, 512, lambda x: x[0], lambda x: x[1:])\n",
    "    dataloader = DataLoader(dataset, batch_size=batch_size, shuffle=True)\n",
    "    i, n = 0, len(dataloader)\n",
    "    min_alpha = .2\n",
    "    alpha = 1 - min_alpha\n",
    "    for batch in dataloader:\n",
    "        optimizer.zero_grad()\n",
    "\n",
    "        input_ids = batch['input_ids'].to(device)\n",
    "        attention_mask = batch['attention_mask'].to(device)\n",
    "        labels = batch['labels'].to(device)\n",
    "        size = input_ids.size(0)\n",
    "        i += size\n",
    "\n",
    "        outputs = model(input_ids, attention_mask=attention_mask)\n",
    "        cls_logits = outputs.logits[:, 0, :]\n",
    "        loss = loss_fn(cls_logits, labels)\n",
    "\n",
    "        loss.backward()\n",
    "        optimizer.step()\n",
    "        current_alpha = min_alpha + alpha\n",
    "        running_loss = (1 - current_alpha) * running_loss + current_alpha * loss.item()\n",
    "        alpha *= .5\n",
    "        pred = (cls_logits > .5).int().flatten().to('cpu')\n",
    "        labels = labels.int().flatten().to('cpu')\n",
    "        \n",
    "        print(f\"\\rEpoch {epoch+1}/{num_epochs} - Batch {i//batch_size+1}/{n}, Loss: {running_loss:.4f} {loss.item():.4f}\", end=\"\")\n",
    "        #precision, recall, f1, _ = precision_recall_fscore_support(labels, pred, average='binary')\n",
    "        #accuracy = accuracy_score(labels, pred)\n",
    "        #print(f\", Accuracy: {accuracy:.4f}, Precision: {precision:.4f}, Recall: {recall:.4f}, F1: {f1:.4f}\", end=\"\")\n",
    "        \n",
    "    epoch_loss = running_loss\n",
    "    print(f\"\\rEpoch {epoch+1}/{num_epochs}, Average Loss: {epoch_loss:.4f}          \")\n",
    "\n"
   ]
  },
  {
   "cell_type": "code",
   "execution_count": 14,
   "id": "215b058b-be5b-45a1-827d-128ccfde865a",
   "metadata": {},
   "outputs": [
    {
     "name": "stdout",
     "output_type": "stream",
     "text": [
      "Epoch 20/20, Average Loss: 0.0852          \n"
     ]
    }
   ],
   "source": [
    "print(f\"\\rEpoch {epoch+1}/{num_epochs}, Average Loss: {epoch_loss:.4f}          \")"
   ]
  },
  {
   "cell_type": "code",
   "execution_count": 44,
   "id": "27039078-14ce-477f-97dc-6527f4b627d7",
   "metadata": {},
   "outputs": [],
   "source": [
    "torch.save(model.state_dict(), 'classifier3.pt')\n",
    "torch.save(optimizer.state_dict(), 'optimizer3.pt')"
   ]
  },
  {
   "cell_type": "code",
   "execution_count": 42,
   "id": "bdf1f811-8159-4b64-a675-d4e5eb7148dc",
   "metadata": {},
   "outputs": [
    {
     "name": "stderr",
     "output_type": "stream",
     "text": [
      "100%|██████████| 10/10 [00:04<00:00,  2.15it/s]\n"
     ]
    }
   ],
   "source": [
    "from filenames import all_files\n",
    "from torch.utils.data import Subset\n",
    "from sklearn.metrics import accuracy_score, precision_recall_fscore_support\n",
    "from ds import CodeDataset\n",
    "\n",
    "N = 160  # Number of items you want in your DataLoader\n",
    "\n",
    "val_dataset = SQLiteCodeDataset('test_classes', tokenizer, 512, lambda x: x[0], lambda x: x[1:])\n",
    "limited_dataset = Subset(val_dataset, indices=range(N))\n",
    "val_loader = DataLoader(limited_dataset, batch_size=16, shuffle=True)\n",
    "\n",
    "model.eval()\n",
    "predictions, true_labels, losses = [], [], []\n",
    "with torch.no_grad():\n",
    "    for batch in tqdm(val_loader):\n",
    "        input_ids = batch['input_ids'].to(device)\n",
    "        attention_mask = batch['attention_mask'].to(device)\n",
    "        labels = batch['labels'].to(device)\n",
    "\n",
    "        outputs = model(input_ids, attention_mask=attention_mask)\n",
    "\n",
    "        logits = outputs.logits[:, 0, :]\n",
    "        loss = loss_fn(logits, labels)\n",
    "        pred = (logits > .5).int().flatten().to('cpu')\n",
    "        labels = labels.int().flatten().to('cpu')\n",
    "        predictions.append(pred)\n",
    "        true_labels.append(labels)\n",
    "        losses.append(loss)\n",
    "        #precision, recall, f1, _ = precision_recall_fscore_support(labels, pred, average='binary')\n",
    "        #accuracy = accuracy_score(labels, pred)\n",
    "        #print(f'Accuracy: {accuracy}, Precision: {precision}, Recall: {recall}, F1: {f1}')\n",
    "\n",
    "\n"
   ]
  },
  {
   "cell_type": "code",
   "execution_count": 43,
   "id": "32cbd715-7cec-4f57-af8b-7ce41a2f66c5",
   "metadata": {},
   "outputs": [
    {
     "name": "stdout",
     "output_type": "stream",
     "text": [
      "Accuracy: 0.3, Precision: 0.0, Recall: 0.0, F1: 0.0\n"
     ]
    }
   ],
   "source": [
    "predictionsarr = torch.tensor([x[0] for x in predictions]).flatten()\n",
    "true_labelsarr = torch.tensor([x[0] for x in true_labels]).flatten()\n",
    "\n",
    "precision, recall, f1, _ = precision_recall_fscore_support(true_labelsarr, predictionsarr, average='binary')\n",
    "accuracy = accuracy_score(true_labelsarr, predictionsarr)\n",
    "\n",
    "print(f'Accuracy: {accuracy}, Precision: {precision}, Recall: {recall}, F1: {f1}')\n"
   ]
  },
  {
   "cell_type": "code",
   "execution_count": null,
   "id": "424570e9-85b2-453d-9bbc-b24c39872b3b",
   "metadata": {},
   "outputs": [],
   "source": [
    "torch.mean(torch.tensor(losses))"
   ]
  },
  {
   "cell_type": "code",
   "execution_count": 15,
   "id": "6f899b4c-4680-4ecf-bf5d-bd031bdcc31d",
   "metadata": {},
   "outputs": [
    {
     "data": {
      "text/plain": [
       "RobertaForSequenceClassification(\n",
       "  (roberta): RobertaModel(\n",
       "    (embeddings): RobertaEmbeddings(\n",
       "      (word_embeddings): Embedding(50265, 768, padding_idx=1)\n",
       "      (position_embeddings): Embedding(514, 768, padding_idx=1)\n",
       "      (token_type_embeddings): Embedding(1, 768)\n",
       "      (LayerNorm): LayerNorm((768,), eps=1e-05, elementwise_affine=True)\n",
       "      (dropout): Dropout(p=0.1, inplace=False)\n",
       "    )\n",
       "    (encoder): RobertaEncoder(\n",
       "      (layer): ModuleList(\n",
       "        (0-11): 12 x RobertaLayer(\n",
       "          (attention): RobertaAttention(\n",
       "            (self): RobertaSelfAttention(\n",
       "              (query): Linear(in_features=768, out_features=768, bias=True)\n",
       "              (key): Linear(in_features=768, out_features=768, bias=True)\n",
       "              (value): Linear(in_features=768, out_features=768, bias=True)\n",
       "              (dropout): Dropout(p=0.1, inplace=False)\n",
       "            )\n",
       "            (output): RobertaSelfOutput(\n",
       "              (dense): Linear(in_features=768, out_features=768, bias=True)\n",
       "              (LayerNorm): LayerNorm((768,), eps=1e-05, elementwise_affine=True)\n",
       "              (dropout): Dropout(p=0.1, inplace=False)\n",
       "            )\n",
       "          )\n",
       "          (intermediate): RobertaIntermediate(\n",
       "            (dense): Linear(in_features=768, out_features=3072, bias=True)\n",
       "            (intermediate_act_fn): GELUActivation()\n",
       "          )\n",
       "          (output): RobertaOutput(\n",
       "            (dense): Linear(in_features=3072, out_features=768, bias=True)\n",
       "            (LayerNorm): LayerNorm((768,), eps=1e-05, elementwise_affine=True)\n",
       "            (dropout): Dropout(p=0.1, inplace=False)\n",
       "          )\n",
       "        )\n",
       "      )\n",
       "    )\n",
       "  )\n",
       "  (classifier): Sequential(\n",
       "    (0): Linear(in_features=768, out_features=4, bias=True)\n",
       "    (1): Sigmoid()\n",
       "  )\n",
       ")"
      ]
     },
     "execution_count": 15,
     "metadata": {},
     "output_type": "execute_result"
    }
   ],
   "source": [
    "model"
   ]
  },
  {
   "cell_type": "code",
   "execution_count": 27,
   "id": "3de11ce4-273e-41fe-9162-9cf48617bb1a",
   "metadata": {
    "scrolled": true
   },
   "outputs": [
    {
     "name": "stdout",
     "output_type": "stream",
     "text": [
      "=================================================================\n",
      "Layer (type:depth-idx)                   Param #\n",
      "=================================================================\n",
      "├─RobertaModel: 1-1                      --\n",
      "|    └─RobertaEmbeddings: 2-1            --\n",
      "|    |    └─Embedding: 3-1               (38,603,520)\n",
      "|    |    └─Embedding: 3-2               (394,752)\n",
      "|    |    └─Embedding: 3-3               (768)\n",
      "|    |    └─LayerNorm: 3-4               (1,536)\n",
      "|    |    └─Dropout: 3-5                 --\n",
      "|    └─RobertaEncoder: 2-2               --\n",
      "|    |    └─ModuleList: 3-6              (85,054,464)\n",
      "├─Sequential: 1-2                        --\n",
      "|    └─Linear: 2-3                       3,076\n",
      "|    └─Sigmoid: 2-4                      --\n",
      "=================================================================\n",
      "Total params: 124,058,116\n",
      "Trainable params: 3,076\n",
      "Non-trainable params: 124,055,040\n",
      "=================================================================\n"
     ]
    },
    {
     "data": {
      "text/plain": [
       "=================================================================\n",
       "Layer (type:depth-idx)                   Param #\n",
       "=================================================================\n",
       "├─RobertaModel: 1-1                      --\n",
       "|    └─RobertaEmbeddings: 2-1            --\n",
       "|    |    └─Embedding: 3-1               (38,603,520)\n",
       "|    |    └─Embedding: 3-2               (394,752)\n",
       "|    |    └─Embedding: 3-3               (768)\n",
       "|    |    └─LayerNorm: 3-4               (1,536)\n",
       "|    |    └─Dropout: 3-5                 --\n",
       "|    └─RobertaEncoder: 2-2               --\n",
       "|    |    └─ModuleList: 3-6              (85,054,464)\n",
       "├─Sequential: 1-2                        --\n",
       "|    └─Linear: 2-3                       3,076\n",
       "|    └─Sigmoid: 2-4                      --\n",
       "=================================================================\n",
       "Total params: 124,058,116\n",
       "Trainable params: 3,076\n",
       "Non-trainable params: 124,055,040\n",
       "================================================================="
      ]
     },
     "execution_count": 27,
     "metadata": {},
     "output_type": "execute_result"
    }
   ],
   "source": [
    "from torchsummary import summary\n",
    "\n",
    "# Assume 'model' is your PyTorch model and 'input_size' is the size of your input data\n",
    "summary(model, input_size=(512,))\n"
   ]
  },
  {
   "cell_type": "code",
   "execution_count": 31,
   "id": "5e647e29-0ba1-42a5-9eaf-fd9bdcb5301a",
   "metadata": {},
   "outputs": [],
   "source": [
    "outt = model.roberta(input_ids, attention_mask=attention_mask)"
   ]
  },
  {
   "cell_type": "code",
   "execution_count": 36,
   "id": "929036b6-ee1b-4cc7-9c17-8558d4a8c99e",
   "metadata": {},
   "outputs": [
    {
     "data": {
      "text/plain": [
       "torch.Size([16, 512, 768])"
      ]
     },
     "execution_count": 36,
     "metadata": {},
     "output_type": "execute_result"
    }
   ],
   "source": [
    "outt.last_hidden_state.shape"
   ]
  },
  {
   "cell_type": "code",
   "execution_count": 38,
   "id": "7f0a9816-b039-4ab5-baf1-8be487c206ae",
   "metadata": {},
   "outputs": [
    {
     "data": {
      "text/plain": [
       "RobertaForSequenceClassification(\n",
       "  (roberta): RobertaModel(\n",
       "    (embeddings): RobertaEmbeddings(\n",
       "      (word_embeddings): Embedding(50265, 768, padding_idx=1)\n",
       "      (position_embeddings): Embedding(514, 768, padding_idx=1)\n",
       "      (token_type_embeddings): Embedding(1, 768)\n",
       "      (LayerNorm): LayerNorm((768,), eps=1e-05, elementwise_affine=True)\n",
       "      (dropout): Dropout(p=0.1, inplace=False)\n",
       "    )\n",
       "    (encoder): RobertaEncoder(\n",
       "      (layer): ModuleList(\n",
       "        (0-11): 12 x RobertaLayer(\n",
       "          (attention): RobertaAttention(\n",
       "            (self): RobertaSelfAttention(\n",
       "              (query): Linear(in_features=768, out_features=768, bias=True)\n",
       "              (key): Linear(in_features=768, out_features=768, bias=True)\n",
       "              (value): Linear(in_features=768, out_features=768, bias=True)\n",
       "              (dropout): Dropout(p=0.1, inplace=False)\n",
       "            )\n",
       "            (output): RobertaSelfOutput(\n",
       "              (dense): Linear(in_features=768, out_features=768, bias=True)\n",
       "              (LayerNorm): LayerNorm((768,), eps=1e-05, elementwise_affine=True)\n",
       "              (dropout): Dropout(p=0.1, inplace=False)\n",
       "            )\n",
       "          )\n",
       "          (intermediate): RobertaIntermediate(\n",
       "            (dense): Linear(in_features=768, out_features=3072, bias=True)\n",
       "            (intermediate_act_fn): GELUActivation()\n",
       "          )\n",
       "          (output): RobertaOutput(\n",
       "            (dense): Linear(in_features=3072, out_features=768, bias=True)\n",
       "            (LayerNorm): LayerNorm((768,), eps=1e-05, elementwise_affine=True)\n",
       "            (dropout): Dropout(p=0.1, inplace=False)\n",
       "          )\n",
       "        )\n",
       "      )\n",
       "    )\n",
       "  )\n",
       "  (classifier): Sequential(\n",
       "    (0): Linear(in_features=768, out_features=4, bias=True)\n",
       "    (1): Sigmoid()\n",
       "  )\n",
       ")"
      ]
     },
     "execution_count": 38,
     "metadata": {},
     "output_type": "execute_result"
    }
   ],
   "source": [
    "model"
   ]
  },
  {
   "cell_type": "code",
   "execution_count": null,
   "id": "d3864ebc-dee3-4f9e-a03a-ebbe5f731c98",
   "metadata": {},
   "outputs": [],
   "source": []
  }
 ],
 "metadata": {
  "kernelspec": {
   "display_name": "Python 3 (ipykernel)",
   "language": "python",
   "name": "python3"
  },
  "language_info": {
   "codemirror_mode": {
    "name": "ipython",
    "version": 3
   },
   "file_extension": ".py",
   "mimetype": "text/x-python",
   "name": "python",
   "nbconvert_exporter": "python",
   "pygments_lexer": "ipython3",
   "version": "3.10.12"
  }
 },
 "nbformat": 4,
 "nbformat_minor": 5
}
