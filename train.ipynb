{
 "cells": [
  {
   "cell_type": "code",
   "execution_count": 1,
   "id": "f4086efd-eedf-4347-9247-065eb046e8a5",
   "metadata": {},
   "outputs": [],
   "source": [
    "import os\n",
    "import json\n",
    "from tqdm import tqdm\n",
    "\n",
    "os.chdir('dataset/Diff_Quality_Estimation')\n",
    "msg_file = f\"comments.jsonl\"\n"
   ]
  },
  {
   "cell_type": "code",
   "execution_count": 2,
   "id": "a3940960-798b-4cc3-9a24-138a1081aff3",
   "metadata": {},
   "outputs": [
    {
     "name": "stderr",
     "output_type": "stream",
     "text": [
      "Some weights of RobertaForSequenceClassification were not initialized from the model checkpoint at microsoft/codebert-base and are newly initialized: ['classifier.dense.bias', 'classifier.out_proj.weight', 'classifier.out_proj.bias', 'classifier.dense.weight']\n",
      "You should probably TRAIN this model on a down-stream task to be able to use it for predictions and inference.\n"
     ]
    }
   ],
   "source": [
    "from transformers import RobertaForSequenceClassification, RobertaTokenizer, RobertaConfig\n",
    "import torch\n",
    "import torch.nn as nn\n",
    "from torch.optim import AdamW\n",
    "from torch.nn import BCELoss\n",
    "\n",
    "# Load tokenizer\n",
    "tokenizer = RobertaTokenizer.from_pretrained('microsoft/codebert-base')\n",
    "\n",
    "# Load the configuration and modify it for multi-label classification\n",
    "config = RobertaConfig.from_pretrained('microsoft/codebert-base')\n",
    "config.num_labels = 4  # Set the number of labels\n",
    "\n",
    "# Load model with modified configuration\n",
    "model = RobertaForSequenceClassification.from_pretrained('microsoft/codebert-base', config=config)\n",
    "\n",
    "# Replace the classifier head with a new one\n",
    "model.classifier = nn.Sequential(\n",
    "    nn.Linear(config.hidden_size, 4),  # Assuming '4' is the number of labels\n",
    "    nn.Sigmoid()\n",
    ")\n",
    "device = torch.device('cuda')\n",
    "model.to(device)\n",
    "\n",
    "optimizer = AdamW(model.parameters(), lr=1e-5)\n",
    "loss_fn = BCELoss()\n"
   ]
  },
  {
   "cell_type": "code",
   "execution_count": 3,
   "id": "1100a307-654b-41a2-a6f9-8fee336414f5",
   "metadata": {},
   "outputs": [],
   "source": [
    "model.load_state_dict(torch.load('classifier.pt'))\n",
    "optimizer.load_state_dict(torch.load('optimizer.pt'))"
   ]
  },
  {
   "cell_type": "code",
   "execution_count": 3,
   "id": "2d8c2b87-c322-40f9-8385-0ffcbb5b20db",
   "metadata": {},
   "outputs": [],
   "source": [
    "for param in model.roberta.base_model.parameters():\n",
    "    param.requires_grad = False\n"
   ]
  },
  {
   "cell_type": "code",
   "execution_count": 11,
   "id": "6e439f3a-0322-4282-b4c0-3ee9a80964ba",
   "metadata": {},
   "outputs": [],
   "source": [
    "for param in model.roberta.encoder.layer[11].parameters():\n",
    "    param.requires_grad = True\n"
   ]
  },
  {
   "cell_type": "code",
   "execution_count": 6,
   "id": "05767062-5c16-43b9-a26a-0167a9563b6d",
   "metadata": {},
   "outputs": [
    {
     "data": {
      "text/plain": [
       "RobertaForSequenceClassification(\n",
       "  (roberta): RobertaModel(\n",
       "    (embeddings): RobertaEmbeddings(\n",
       "      (word_embeddings): Embedding(50265, 768, padding_idx=1)\n",
       "      (position_embeddings): Embedding(514, 768, padding_idx=1)\n",
       "      (token_type_embeddings): Embedding(1, 768)\n",
       "      (LayerNorm): LayerNorm((768,), eps=1e-05, elementwise_affine=True)\n",
       "      (dropout): Dropout(p=0.1, inplace=False)\n",
       "    )\n",
       "    (encoder): RobertaEncoder(\n",
       "      (layer): ModuleList(\n",
       "        (0-11): 12 x RobertaLayer(\n",
       "          (attention): RobertaAttention(\n",
       "            (self): RobertaSelfAttention(\n",
       "              (query): Linear(in_features=768, out_features=768, bias=True)\n",
       "              (key): Linear(in_features=768, out_features=768, bias=True)\n",
       "              (value): Linear(in_features=768, out_features=768, bias=True)\n",
       "              (dropout): Dropout(p=0.1, inplace=False)\n",
       "            )\n",
       "            (output): RobertaSelfOutput(\n",
       "              (dense): Linear(in_features=768, out_features=768, bias=True)\n",
       "              (LayerNorm): LayerNorm((768,), eps=1e-05, elementwise_affine=True)\n",
       "              (dropout): Dropout(p=0.1, inplace=False)\n",
       "            )\n",
       "          )\n",
       "          (intermediate): RobertaIntermediate(\n",
       "            (dense): Linear(in_features=768, out_features=3072, bias=True)\n",
       "            (intermediate_act_fn): GELUActivation()\n",
       "          )\n",
       "          (output): RobertaOutput(\n",
       "            (dense): Linear(in_features=3072, out_features=768, bias=True)\n",
       "            (LayerNorm): LayerNorm((768,), eps=1e-05, elementwise_affine=True)\n",
       "            (dropout): Dropout(p=0.1, inplace=False)\n",
       "          )\n",
       "        )\n",
       "      )\n",
       "    )\n",
       "  )\n",
       "  (classifier): Sequential(\n",
       "    (0): Linear(in_features=768, out_features=4, bias=True)\n",
       "    (1): Sigmoid()\n",
       "  )\n",
       ")"
      ]
     },
     "execution_count": 6,
     "metadata": {},
     "output_type": "execute_result"
    }
   ],
   "source": [
    "model"
   ]
  },
  {
   "cell_type": "code",
   "execution_count": null,
   "id": "891b042e-fa2d-4ef7-9e93-50bf65b628e5",
   "metadata": {},
   "outputs": [
    {
     "name": "stdout",
     "output_type": "stream",
     "text": [
      "Epoch 1/20, Average Loss: 0.1358          .1086\n",
      "Epoch 2/20, Average Loss: 0.1578          .1932\n",
      "Epoch 3/20, Average Loss: 0.1367          .1291\n",
      "Epoch 4/20, Average Loss: 0.1340          .1873\n",
      "Epoch 5/20, Average Loss: 0.1288          .1006\n",
      "Epoch 6/20, Average Loss: 0.1331          .0890\n",
      "Epoch 7/20 - Batch 237/486, Loss: 0.1136 0.1047"
     ]
    }
   ],
   "source": [
    "from filenames import all_files\n",
    "from torch.utils.data import Subset\n",
    "from sklearn.metrics import accuracy_score, precision_recall_fscore_support\n",
    "from ds import SQLiteCodeDataset\n",
    "from torch.utils.data import DataLoader\n",
    "\n",
    "\n",
    "model.train()\n",
    "num_epochs = 20\n",
    "batch_size = 64\n",
    "\n",
    "for epoch in range(num_epochs):\n",
    "    running_loss = 0.0\n",
    "    dataset = SQLiteCodeDataset('ready_classes', tokenizer, 512, lambda x: x[0], lambda x: x[1:])\n",
    "    dataloader = DataLoader(dataset, batch_size=batch_size, shuffle=True)\n",
    "    i, n = 0, len(dataloader)\n",
    "    min_alpha = .2\n",
    "    alpha = 1 - min_alpha\n",
    "    for batch in dataloader:\n",
    "        optimizer.zero_grad()\n",
    "\n",
    "        input_ids = batch['input_ids'].to(device)\n",
    "        attention_mask = batch['attention_mask'].to(device)\n",
    "        labels = batch['labels'].to(device)\n",
    "        size = input_ids.size(0)\n",
    "        i += size\n",
    "\n",
    "        outputs = model(input_ids, attention_mask=attention_mask)\n",
    "        cls_logits = outputs.logits[:, 0, :]\n",
    "        loss = loss_fn(cls_logits, labels)\n",
    "\n",
    "        loss.backward()\n",
    "        optimizer.step()\n",
    "        current_alpha = min_alpha + alpha\n",
    "        running_loss = (1 - current_alpha) * running_loss + current_alpha * loss.item()\n",
    "        alpha *= .5\n",
    "        pred = (cls_logits > .5).int().flatten().to('cpu')\n",
    "        labels = labels.int().flatten().to('cpu')\n",
    "        \n",
    "        print(f\"\\rEpoch {epoch+1}/{num_epochs} - Batch {i//batch_size+1}/{n}, Loss: {running_loss:.4f} {loss.item():.4f}\", end=\"\")\n",
    "        #precision, recall, f1, _ = precision_recall_fscore_support(labels, pred, average='binary')\n",
    "        #accuracy = accuracy_score(labels, pred)\n",
    "        #print(f\", Accuracy: {accuracy:.4f}, Precision: {precision:.4f}, Recall: {recall:.4f}, F1: {f1:.4f}\", end=\"\")\n",
    "        \n",
    "    epoch_loss = running_loss\n",
    "    print(f\"\\rEpoch {epoch+1}/{num_epochs}, Average Loss: {epoch_loss:.4f}          \")\n",
    "\n"
   ]
  },
  {
   "cell_type": "code",
   "execution_count": 9,
   "id": "215b058b-be5b-45a1-827d-128ccfde865a",
   "metadata": {},
   "outputs": [
    {
     "data": {
      "text/plain": [
       "tensor(0.2099, device='cuda:0', grad_fn=<BinaryCrossEntropyBackward0>)"
      ]
     },
     "execution_count": 9,
     "metadata": {},
     "output_type": "execute_result"
    }
   ],
   "source": [
    "loss"
   ]
  },
  {
   "cell_type": "code",
   "execution_count": 50,
   "id": "27039078-14ce-477f-97dc-6527f4b627d7",
   "metadata": {},
   "outputs": [],
   "source": [
    "torch.save(model.state_dict(), 'classifier3.pt')\n",
    "torch.save(optimizer.state_dict(), 'optimizer3.pt')"
   ]
  },
  {
   "cell_type": "code",
   "execution_count": 19,
   "id": "bdf1f811-8159-4b64-a675-d4e5eb7148dc",
   "metadata": {},
   "outputs": [
    {
     "name": "stderr",
     "output_type": "stream",
     "text": [
      "100%|██████████| 10/10 [00:05<00:00,  1.97it/s]\n"
     ]
    }
   ],
   "source": [
    "from filenames import all_files\n",
    "from torch.utils.data import Subset\n",
    "from sklearn.metrics import accuracy_score, precision_recall_fscore_support\n",
    "from ds import CodeDataset\n",
    "\n",
    "N = 160  # Number of items you want in your DataLoader\n",
    "\n",
    "val_dataset = SQLiteCodeDataset('test_classes', tokenizer, 512, lambda x: x[0], lambda x: x[1:])\n",
    "limited_dataset = Subset(val_dataset, indices=range(N))\n",
    "val_loader = DataLoader(limited_dataset, batch_size=16, shuffle=True)\n",
    "\n",
    "model.eval()\n",
    "predictions, true_labels, losses = [], [], []\n",
    "with torch.no_grad():\n",
    "    for batch in tqdm(val_loader):\n",
    "        input_ids = batch['input_ids'].to(device)\n",
    "        attention_mask = batch['attention_mask'].to(device)\n",
    "        labels = batch['labels'].to(device)\n",
    "\n",
    "        outputs = model(input_ids, attention_mask=attention_mask)\n",
    "\n",
    "        logits = outputs.logits[:, 0, :]\n",
    "        loss = loss_fn(logits, labels)\n",
    "        pred = (logits > .5).int().flatten().to('cpu')\n",
    "        labels = labels.int().flatten().to('cpu')\n",
    "        predictions.append(pred)\n",
    "        true_labels.append(labels)\n",
    "        losses.append(loss)\n",
    "        #precision, recall, f1, _ = precision_recall_fscore_support(labels, pred, average='binary')\n",
    "        #accuracy = accuracy_score(labels, pred)\n",
    "        #print(f'Accuracy: {accuracy}, Precision: {precision}, Recall: {recall}, F1: {f1}')\n",
    "\n",
    "\n"
   ]
  },
  {
   "cell_type": "code",
   "execution_count": null,
   "id": "32cbd715-7cec-4f57-af8b-7ce41a2f66c5",
   "metadata": {},
   "outputs": [],
   "source": [
    "predictionsarr = torch.tensor([x[0] for x in predictions]).flatten()\n",
    "true_labelsarr = torch.tensor([x[0] for x in true_labels]).flatten()\n",
    "\n",
    "precision, recall, f1, _ = precision_recall_fscore_support(true_labelsarr, predictionsarr, average='binary')\n",
    "accuracy = accuracy_score(true_labelsarr, predictionsarr)\n",
    "\n",
    "print(f'Accuracy: {accuracy}, Precision: {precision}, Recall: {recall}, F1: {f1}')\n"
   ]
  },
  {
   "cell_type": "code",
   "execution_count": null,
   "id": "424570e9-85b2-453d-9bbc-b24c39872b3b",
   "metadata": {},
   "outputs": [],
   "source": [
    "torch.mean(torch.tensor(losses))"
   ]
  }
 ],
 "metadata": {
  "kernelspec": {
   "display_name": "Python 3 (ipykernel)",
   "language": "python",
   "name": "python3"
  },
  "language_info": {
   "codemirror_mode": {
    "name": "ipython",
    "version": 3
   },
   "file_extension": ".py",
   "mimetype": "text/x-python",
   "name": "python",
   "nbconvert_exporter": "python",
   "pygments_lexer": "ipython3",
   "version": "3.10.12"
  }
 },
 "nbformat": 4,
 "nbformat_minor": 5
}
