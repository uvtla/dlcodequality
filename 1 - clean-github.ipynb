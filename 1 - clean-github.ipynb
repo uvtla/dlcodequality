{
 "cells": [
  {
   "cell_type": "code",
   "execution_count": 1,
   "id": "7ae5af3c-9b62-4ade-b22f-7f8d4ad5c437",
   "metadata": {},
   "outputs": [],
   "source": [
    "import os\n",
    "import json\n",
    "from tqdm import tqdm\n",
    "\n",
    "os.chdir('dataset/Diff_Quality_Estimation')\n",
    "msg_file = f\"comments.jsonl\"\n"
   ]
  },
  {
   "cell_type": "code",
   "execution_count": 3,
   "id": "a663b5aa-bec4-49f9-9b05-1336e17928ec",
   "metadata": {},
   "outputs": [],
   "source": [
    "LEN=66459\n",
    "filenames = [f'cls-train-chunk-{i}' for i in range(4)]\n"
   ]
  },
  {
   "cell_type": "code",
   "execution_count": 11,
   "id": "bf47f195-4d4b-494b-9e98-2e56463a6b96",
   "metadata": {},
   "outputs": [],
   "source": [
    "with open(f\"cls-train-chunk-1.jsonl\", \"r\") as fr:\n",
    "    x = [json.loads(next(fr)) for _ in range(10)]"
   ]
  },
  {
   "cell_type": "code",
   "execution_count": 8,
   "id": "45622d25-cf02-4312-b3dc-c5aa83803975",
   "metadata": {},
   "outputs": [
    {
     "data": {
      "text/plain": [
       "dict_keys(['patch', 'y', 'oldf', 'idx', 'id', 'msg', 'proj', 'lang'])"
      ]
     },
     "execution_count": 8,
     "metadata": {},
     "output_type": "execute_result"
    }
   ],
   "source": [
    "x.keys()"
   ]
  },
  {
   "cell_type": "code",
   "execution_count": 13,
   "id": "1d96a7aa-d1e0-4172-ae47-23f48796a173",
   "metadata": {},
   "outputs": [
    {
     "name": "stdout",
     "output_type": "stream",
     "text": [
      "@@ -2774,11 +2774,10 @@ class IrGraph(object):\n",
      " \n",
      " class Program(object):\n",
      "     \"\"\"\n",
      "-    Python Program. Beneath it is a ProgramDesc, which is used for\n",
      "-    create c++ Program. A program is a self-contained programing\n",
      "-    language like container. It has at least one Block, when the\n",
      "-    control flow op like conditional_block, while_op is included,\n",
      "+    Create Python Program.  It has at least one :ref:`api_guide_Variable_en`, when the\n",
      "+    control flow op like conditional_block, while :ref:`api_fluid_layers_While` is included,\n",
      "     it will contain nested block.\n",
      "+\n",
      "     Please reference the framework.proto for details.\n",
      " \n",
      "     A set of Program usually contains startup program and main program.\n",
      "\n"
     ]
    }
   ],
   "source": [
    "print(x[3]['patch'])"
   ]
  },
  {
   "cell_type": "markdown",
   "id": "c6d45d23-6a36-4488-bb90-f98f367beeeb",
   "metadata": {},
   "source": [
    "# create comments.jsonl for comments"
   ]
  },
  {
   "cell_type": "markdown",
   "id": "6f55e732-a7ae-4537-b8a9-3116c8199361",
   "metadata": {},
   "source": [
    "collect all the PR comments into a single file for further analysis"
   ]
  },
  {
   "cell_type": "code",
   "execution_count": 118,
   "id": "ac20d860-3017-49dd-8df0-3ef34932a890",
   "metadata": {},
   "outputs": [
    {
     "name": "stderr",
     "output_type": "stream",
     "text": [
      "66459it [00:07, 9116.52it/s]\n"
     ]
    },
    {
     "name": "stdout",
     "output_type": "stream",
     "text": [
      "33166/66459 are saved to comments.jsonl\n"
     ]
    },
    {
     "name": "stderr",
     "output_type": "stream",
     "text": [
      "66459it [00:07, 8984.82it/s]\n"
     ]
    },
    {
     "name": "stdout",
     "output_type": "stream",
     "text": [
      "33233/66459 are saved to comments.jsonl\n"
     ]
    },
    {
     "name": "stderr",
     "output_type": "stream",
     "text": [
      "66459it [00:07, 8801.04it/s]\n"
     ]
    },
    {
     "name": "stdout",
     "output_type": "stream",
     "text": [
      "33272/66459 are saved to comments.jsonl\n"
     ]
    },
    {
     "name": "stderr",
     "output_type": "stream",
     "text": [
      "66459it [00:07, 9048.26it/s]"
     ]
    },
    {
     "name": "stdout",
     "output_type": "stream",
     "text": [
      "33247/66459 are saved to comments.jsonl\n"
     ]
    },
    {
     "name": "stderr",
     "output_type": "stream",
     "text": [
      "\n"
     ]
    }
   ],
   "source": [
    "\n",
    "with open(msg_file, \"w\") as fw:\n",
    "    for filename in filenames:\n",
    "        with open(f\"{filename}.jsonl\", \"r\") as fr:\n",
    "            i, j = 0, 0\n",
    "            for line in tqdm(fr):\n",
    "                data = json.loads(line)\n",
    "                i += 1\n",
    "                if 'msg' in data and len(data['msg']):\n",
    "                    j += 1\n",
    "                    fw.write(json.dumps(data['msg'])+'\\n')\n",
    "            print(f\"{j}/{i} are saved to {msg_file}\")\n"
   ]
  },
  {
   "cell_type": "code",
   "execution_count": 10,
   "id": "3e33a3a0-4695-4662-aa11-979597c84608",
   "metadata": {},
   "outputs": [],
   "source": [
    "from smells import smells"
   ]
  },
  {
   "cell_type": "code",
   "execution_count": 15,
   "id": "a768068e-9365-4aba-bfd4-74c097527fe1",
   "metadata": {},
   "outputs": [],
   "source": [
    "head_re = r\"^@@ -(\\d+),(\\d+) \\+(\\d+),(\\d+) @@ \""
   ]
  },
  {
   "cell_type": "markdown",
   "id": "137c76c9-5a85-455d-ba1c-b2a47a974b1a",
   "metadata": {},
   "source": [
    "# Extract codes to separate files"
   ]
  },
  {
   "cell_type": "code",
   "execution_count": 18,
   "id": "78fd9f42-f84b-4e38-8baa-ae39f16cd385",
   "metadata": {},
   "outputs": [
    {
     "name": "stderr",
     "output_type": "stream",
     "text": [
      "[nltk_data] Downloading package wordnet to /root/nltk_data...\n",
      "[nltk_data]   Package wordnet is already up-to-date!\n",
      "31252it [00:11, 2624.04it/s]\n",
      "31252it [00:08, 3693.17it/s]\n",
      "66459it [00:15, 4212.98it/s]\n",
      "66459it [00:15, 4213.41it/s]\n",
      "66459it [00:16, 4055.17it/s]\n",
      "66459it [00:16, 4054.47it/s]\n"
     ]
    }
   ],
   "source": [
    "import re\n",
    "from nltk.stem import WordNetLemmatizer\n",
    "from nltk.tokenize import word_tokenize\n",
    "from baseform import is_base_form_name\n",
    "from filenames import all_names\n",
    "\n",
    "lemmatizer = WordNetLemmatizer()\n",
    "i, j = 0, {base: dict() for base in smells}\n",
    "for filename in all_names:\n",
    "    with open(f'{filename}.jsonl') as fr:\n",
    "        with open(f'{filename}-ready.jsonl', 'w') as fw:\n",
    "            for line in tqdm(fr):\n",
    "                i += 1\n",
    "                data = json.loads(line)\n",
    "                lang = data['lang'] if 'lang' in data else 'unk'\n",
    "                patch = re.sub(head_re, '', data[\"patch\"])\n",
    "                patch = re.sub(r\"\\n( |\\+)\", '\\n', patch)\n",
    "                code = re.sub(r\"\\n-(.*)\", '\\n\\\\1', patch)\n",
    "                bad = ('msg' in data) and len(data['msg'])\n",
    "                label = [0] * (1 + len(smells))\n",
    "                if bad:\n",
    "                    label[0] = 1\n",
    "                    words = word_tokenize(data[\"msg\"])\n",
    "                    for smell_idx, smell in enumerate(smells):\n",
    "                        if any(is_base_form_name(lemmatizer, word, smell) for word in words):\n",
    "                            if not lang in j[smell]:\n",
    "                                j[smell][lang] = 0\n",
    "                            j[smell][lang] += 1\n",
    "                            label[smell_idx+1] = 1\n",
    "                fw.write(f\"{json.dumps([code, label, 0 if lang == 'js' else -1 if lang == 'unk' else 1])}\\n\")\n",
    "\n"
   ]
  },
  {
   "cell_type": "code",
   "execution_count": 19,
   "id": "779f11f4-c94f-4621-b837-979377ecd0c7",
   "metadata": {},
   "outputs": [
    {
     "data": {
      "text/plain": [
       "{'name': {'py': 227,\n",
       "  'java': 328,\n",
       "  'go': 548,\n",
       "  'php': 93,\n",
       "  'rb': 164,\n",
       "  'js': 130,\n",
       "  '.cs': 125,\n",
       "  'c': 68,\n",
       "  'cpp': 90,\n",
       "  'unk': 6006},\n",
       " 'remove': {'.cs': 129,\n",
       "  'rb': 172,\n",
       "  'go': 421,\n",
       "  'cpp': 173,\n",
       "  'java': 288,\n",
       "  'js': 216,\n",
       "  'py': 249,\n",
       "  'php': 97,\n",
       "  'c': 83,\n",
       "  'unk': 8265},\n",
       " 'work': {'php': 47,\n",
       "  'js': 128,\n",
       "  'go': 195,\n",
       "  'java': 106,\n",
       "  'py': 128,\n",
       "  '.cs': 69,\n",
       "  'cpp': 67,\n",
       "  'rb': 120,\n",
       "  'c': 42,\n",
       "  'unk': 3705}}"
      ]
     },
     "execution_count": 19,
     "metadata": {},
     "output_type": "execute_result"
    }
   ],
   "source": [
    "j"
   ]
  },
  {
   "cell_type": "code",
   "execution_count": null,
   "id": "bb66d266-09c6-4e7b-ad36-c84a34ea66d2",
   "metadata": {},
   "outputs": [],
   "source": [
    "0"
   ]
  }
 ],
 "metadata": {
  "kernelspec": {
   "display_name": "Python 3 (ipykernel)",
   "language": "python",
   "name": "python3"
  },
  "language_info": {
   "codemirror_mode": {
    "name": "ipython",
    "version": 3
   },
   "file_extension": ".py",
   "mimetype": "text/x-python",
   "name": "python",
   "nbconvert_exporter": "python",
   "pygments_lexer": "ipython3",
   "version": "3.10.12"
  }
 },
 "nbformat": 4,
 "nbformat_minor": 5
}
