{
 "cells": [
  {
   "cell_type": "code",
   "execution_count": 1,
   "id": "a6e7fb6f-9baf-44a4-a592-532cb0bb8930",
   "metadata": {},
   "outputs": [],
   "source": [
    "from pathlib import Path\n",
    "dataset = Path('dataset').absolute()"
   ]
  },
  {
   "cell_type": "code",
   "execution_count": 2,
   "id": "88693861-12db-4f1a-9220-8e19afa60beb",
   "metadata": {},
   "outputs": [],
   "source": [
    "import os\n",
    "os.chdir(dataset)"
   ]
  },
  {
   "cell_type": "code",
   "execution_count": 71,
   "id": "893afd9a-69a0-4518-84a8-a6490861b6b8",
   "metadata": {},
   "outputs": [],
   "source": [
    "from pathlib import Path\n",
    "\n",
    "js_dir = dataset / 'javascript'\n",
    "new_setup = not js_dir.exists()\n",
    "if new_setup:\n",
    "    ! wget -O javascript.zip https://huggingface.co/datasets/code_search_net/resolve/main/data/javascript.zip?download=true\n",
    "    ! unzip javascript.zip\n",
    "train = js_dir / 'final' / 'jsonl' / 'train'\n",
    "os.chdir(train)\n",
    "if new_setup:\n",
    "    !gzip -d *.gz"
   ]
  },
  {
   "cell_type": "code",
   "execution_count": 6,
   "id": "83b3c1a2-386f-4f39-8c7d-18ec1eb8566c",
   "metadata": {},
   "outputs": [],
   "source": [
    "import sqlite3, json\n",
    "from contextlib import contextmanager\n",
    "\n",
    "colstr = 'path, func_name, code, docstring, url'\n",
    "columns = colstr.split(', ')\n",
    "\n",
    "def process_line(line, cursor):\n",
    "    obj = json.loads(line)\n",
    "    places = ','.join(['?' for _ in columns])\n",
    "    cursor.execute(f'INSERT INTO codes ({colstr}) VALUES ({places})', [obj[col] for col in columns])\n",
    "\n",
    "\n",
    "def process_file(jsonl_file, cursor):\n",
    "    with jsonl_file.open('r') as file:\n",
    "        for line in file:\n",
    "            process_line(line, cursor)\n",
    "\n",
    "def create_table(cursor):\n",
    "    cursor.execute('DROP TABLE if exists codes')\n",
    "    col_defs = ', '.join(f'{col} TEXT' for col in columns)\n",
    "    cursor.execute(f'''CREATE TABLE codes \n",
    "                      (ID INTEGER PRIMARY KEY, {col_defs})''')\n",
    "\n",
    "def process_directory(jsonl_dir, cursor):\n",
    "    for jsonl_file in jsonl_dir.glob('*.jsonl'):\n",
    "        process_file(jsonl_file, cursor)\n",
    "\n",
    "@contextmanager\n",
    "def get_cursor(database_name='rsn_train'):\n",
    "    with sqlite3.connect(database_name) as conn:\n",
    "        yield conn.cursor()\n"
   ]
  },
  {
   "cell_type": "code",
   "execution_count": 7,
   "id": "1e575545-d9ab-44ab-a319-6b3de0ac6832",
   "metadata": {},
   "outputs": [
    {
     "name": "stdout",
     "output_type": "stream",
     "text": [
      "(123889,)\n"
     ]
    }
   ],
   "source": [
    "with get_cursor() as cursor:\n",
    "    create_table(cursor)\n",
    "    process_directory(train, cursor)\n",
    "    print(next(cursor.execute('select count(*) from codes')))"
   ]
  },
  {
   "cell_type": "code",
   "execution_count": 8,
   "id": "d80d8b56-de9e-4080-bc58-9fde7e2e8b20",
   "metadata": {},
   "outputs": [
    {
     "name": "stdout",
     "output_type": "stream",
     "text": [
      "(123889,)\n",
      "[(71109,), (81773,), (32678,), (117619,), (107510,), (84089,), (118147,), (78091,), (74175,), (46040,)]\n"
     ]
    }
   ],
   "source": [
    "with get_cursor() as cursor:\n",
    "    cursor.execute('DROP TABLE if exists shuffled')\n",
    "    cursor.execute('create table if not exists shuffled as select * from codes ORDER BY RANDOM()')\n",
    "    print(next(cursor.execute('select count(*) from shuffled')))\n",
    "    print(list(cursor.execute('select ID from shuffled limit 10')))"
   ]
  },
  {
   "cell_type": "code",
   "execution_count": 83,
   "id": "ee1d0b73-9001-4a38-bee6-4809742da9b6",
   "metadata": {},
   "outputs": [],
   "source": [
    "openai_instuctions = '''We are generating a dataset to train a model in detecting SRP violations in the level of functions.\n",
    "Each output should be a list of 10 functions in javascript annotated as responsability sections.\n",
    "Use the message as source of entropy to ensure variability in your answers.\n",
    "The dataset needs to be diversified.\n",
    "The generated examples should be as realistic as possible, use parts of user input as source of this realistic aspect, as they come from real users code.\n",
    "\n",
    "If the function respects SRP, then it should in this form, note there is only one tag meaning only one responsability: \n",
    "<userRegistration>\n",
    "function userRegistration(username, password) { \n",
    "  const userId = createUser(username, password); \n",
    "  logActivity(userId, \"User registration\"); \n",
    "} \n",
    "</userRegistration>\n",
    "we can't account a simple call like this: \n",
    "const userId = createUser(username, password);\n",
    "as a different responsability because responsability is about the implementation not the call.\n",
    "this function follows the SRP principle and each instruction has not been considered a different responsibility because it is just a function call, and this call is a part of the unique responsibility: the flow of userRegistration. This is why the function has a single responsibility.\n",
    "Here is an other example of a function that respects SRP :\n",
    "<handleSubmitRequest>\n",
    "  function validateAndSubmitForm(form) {\n",
    "    if (validateFormData(form)) {\n",
    "      submitForm(form);\n",
    "    }\n",
    "  }\n",
    "</handleSubmitRequest>\n",
    "\n",
    "Now if the function is not SRP then it should be in this form: \n",
    "<emailActiveClients>\n",
    "function emailClients(clients) { \n",
    "  clients.forEach(client => {\n",
    "    <isActiveClient>\n",
    "    const clientRecord = database.lookup(client);\n",
    "    if (clientRecord.isActive()) </isActiveClient> {\n",
    "      email(client); \n",
    "    }\n",
    "  });\n",
    "}</emailActiveClients>\n",
    "Note that isActiveClient region denotes a separate responsability that should be externalized to its own function.\n",
    "Make each one of the 10 functions a separate snippet and don't add code explanation or other text, keep the example as if they were really extracted from code, just add the annotations as explained\n",
    "Try to be tolerant in SRP, don't over split functions, if a function can be viewed as SRP than keep it in one segment\n",
    "Pay attention to the structure of tags, each tag needs to have appropriate closing.\n",
    "Separate the functions by line breaks.\n",
    "'''"
   ]
  },
  {
   "cell_type": "code",
   "execution_count": 108,
   "id": "92605cf4-2e66-46fe-863c-f7dbfac88743",
   "metadata": {},
   "outputs": [],
   "source": [
    "import re\n",
    "\n",
    "def strip_js_comments(js_code):\n",
    "    # Remove all occurrences of single line comments\n",
    "    js_code = re.sub(r'\\n?//.*?\\n', '\\n', js_code)\n",
    "\n",
    "    # Remove all occurrences of multi-line comments\n",
    "    js_code = re.sub(r'/\\*.*?\\*/', '', js_code, flags=re.DOTALL)\n",
    "\n",
    "    return js_code\n",
    "\n",
    "def request(index, limit = 10):\n",
    "    with get_cursor() as cursor:\n",
    "        codes = list(cursor.execute('select code from shuffled limit ? offset ?', (limit, limit * index + 1)))\n",
    "        codestr = '\\n\\n'.join(strip_js_comments(code[0]) for code in codes)\n",
    "        return f'Annotate these {limit} functions:\\n\\n{codestr}'\n"
   ]
  },
  {
   "cell_type": "code",
   "execution_count": null,
   "id": "6a0d4bad-3ea1-4abf-ab6e-4329d49bd1a9",
   "metadata": {},
   "outputs": [],
   "source": [
    "!pip install openai"
   ]
  },
  {
   "cell_type": "code",
   "execution_count": 37,
   "id": "0a0dbfc1-da04-43f6-93c2-0bff5eabb96a",
   "metadata": {},
   "outputs": [],
   "source": [
    "import openai\n",
    "\n",
    "def read_api_key(filepath):\n",
    "    with open(filepath, 'r') as file:\n",
    "        return file.read().strip()\n",
    "\n",
    "client = openai.OpenAI(api_key=read_api_key(dataset/'key'))\n"
   ]
  },
  {
   "cell_type": "code",
   "execution_count": 65,
   "id": "0ec72cf0-b5c4-411c-8573-19f1aa3c68bb",
   "metadata": {},
   "outputs": [],
   "source": [
    "def submit_message(assistant_id, thread, user_message):\n",
    "    client.beta.threads.messages.create(\n",
    "        thread_id=thread.id, role=\"user\", content=user_message\n",
    "    )\n",
    "    return client.beta.threads.runs.create(\n",
    "        thread_id=thread.id,\n",
    "        assistant_id=assistant_id,\n",
    "    )\n"
   ]
  },
  {
   "cell_type": "code",
   "execution_count": 85,
   "id": "50bf1eaf-4395-41d7-9165-d34d1cd1a72d",
   "metadata": {},
   "outputs": [],
   "source": [
    "threads = [thread]"
   ]
  },
  {
   "cell_type": "code",
   "execution_count": 96,
   "id": "e705f4b4-5332-499c-927c-cd0f700797a5",
   "metadata": {},
   "outputs": [],
   "source": [
    "thread = client.beta.threads.create()\n",
    "threads.append(thread)"
   ]
  },
  {
   "cell_type": "code",
   "execution_count": 66,
   "id": "0263d9be-ce2f-495d-9728-c835b1bab7d4",
   "metadata": {},
   "outputs": [],
   "source": [
    "import time\n",
    "\n",
    "def wait_on_run(run, thread):\n",
    "    while run.status == \"queued\" or run.status == \"in_progress\":\n",
    "        run = client.beta.threads.runs.retrieve(\n",
    "            thread_id=thread.id,\n",
    "            run_id=run.id,\n",
    "        )\n",
    "        time.sleep(0.5)\n",
    "    return run\n"
   ]
  },
  {
   "cell_type": "code",
   "execution_count": 171,
   "id": "cce73666-6c4f-4b1c-8d0d-2e4271621699",
   "metadata": {},
   "outputs": [],
   "source": [
    "assistant_id = \"asst_5LjvuX6FRcDwdOMg2H0lzLHu\"\n",
    "def get_messages(i): \n",
    "    user_input = request(i)\n",
    "    while True:\n",
    "        print(time.ctime())\n",
    "        thread = client.beta.threads.create()\n",
    "        threads.append(thread)\n",
    "        run = submit_message(assistant_id, thread, user_input)\n",
    "        run = wait_on_run(run, thread)\n",
    "        if run.status != \"failed\":\n",
    "            break\n",
    "        error = run.last_error.message\n",
    "        pattern = r\"Please try again in ((?:(\\d+)m)?(?:(\\d*\\.?\\d*)s)?)\"\n",
    "        match = re.search(pattern, error)\n",
    "        delay = sum(float(match.group(idx) or '0') * (60 ** k) for _, idx, k in [('m', 2, 1), ('s', 3, 0)])\n",
    "        print(f'sleeping {match.group(1)}')\n",
    "        time.sleep(delay)\n",
    "    return client.beta.threads.messages.list(thread_id=thread.id, order=\"desc\")\n"
   ]
  },
  {
   "cell_type": "code",
   "execution_count": 137,
   "id": "f9778497-d4ee-4fa1-9b65-f4300ff4bc23",
   "metadata": {},
   "outputs": [],
   "source": [
    "def write_messages(filename, messages):\n",
    "    with open(js_dir / filename, 'w') as file:\n",
    "        for message in [m for m in messages.data if m.role == \"assistant\"]:\n",
    "            file.write(message.content[0].text.value)\n"
   ]
  },
  {
   "cell_type": "code",
   "execution_count": 138,
   "id": "87f436ec-9871-465e-a59c-38d840f9729d",
   "metadata": {},
   "outputs": [],
   "source": [
    "def handle_index(i):\n",
    "    print(f'requesting {i} ...')\n",
    "    messages = get_messages(i)\n",
    "    print(f'received {i}')\n",
    "    write_messages(f'thread2-{i}.txt', messages)"
   ]
  },
  {
   "cell_type": "code",
   "execution_count": 128,
   "id": "3696fa05-62a3-44e2-9346-f8829e060428",
   "metadata": {},
   "outputs": [
    {
     "name": "stdout",
     "output_type": "stream",
     "text": [
      "requesting 30 ...\n",
      "received 30\n",
      "requesting 31 ...\n",
      "received 31\n",
      "requesting 32 ...\n",
      "received 32\n",
      "requesting 33 ...\n",
      "received 33\n",
      "requesting 34 ...\n",
      "received 34\n",
      "requesting 35 ...\n",
      "received 35\n",
      "requesting 36 ...\n",
      "received 36\n",
      "requesting 37 ...\n",
      "received 37\n",
      "requesting 38 ...\n",
      "received 38\n",
      "requesting 39 ...\n",
      "received 39\n",
      "requesting 40 ...\n",
      "received 40\n",
      "requesting 41 ...\n",
      "received 41\n",
      "requesting 42 ...\n",
      "received 42\n",
      "requesting 43 ...\n",
      "received 43\n",
      "requesting 44 ...\n",
      "received 44\n",
      "requesting 45 ...\n",
      "received 45\n",
      "requesting 46 ...\n",
      "received 46\n",
      "requesting 47 ...\n",
      "received 47\n",
      "requesting 48 ...\n",
      "received 48\n",
      "requesting 49 ...\n",
      "received 49\n",
      "requesting 50 ...\n",
      "received 50\n",
      "requesting 51 ...\n",
      "received 51\n",
      "requesting 52 ...\n",
      "received 52\n",
      "requesting 53 ...\n",
      "received 53\n",
      "requesting 54 ...\n",
      "received 54\n",
      "requesting 55 ...\n",
      "received 55\n",
      "requesting 56 ...\n",
      "received 56\n",
      "requesting 57 ...\n",
      "received 57\n",
      "requesting 58 ...\n",
      "received 58\n",
      "requesting 59 ...\n",
      "received 59\n",
      "requesting 60 ...\n",
      "received 60\n",
      "requesting 61 ...\n",
      "received 61\n",
      "requesting 62 ...\n",
      "received 62\n",
      "requesting 63 ...\n",
      "received 63\n",
      "requesting 64 ...\n",
      "received 64\n",
      "requesting 65 ...\n",
      "received 65\n",
      "requesting 66 ...\n",
      "received 66\n",
      "requesting 67 ...\n",
      "received 67\n",
      "requesting 68 ...\n",
      "received 68\n",
      "requesting 69 ...\n",
      "received 69\n",
      "requesting 70 ...\n",
      "received 70\n",
      "requesting 71 ...\n",
      "received 71\n",
      "requesting 72 ...\n",
      "received 72\n",
      "requesting 73 ...\n",
      "received 73\n",
      "requesting 74 ...\n",
      "received 75\n",
      "requesting 76 ...\n",
      "received 76\n",
      "requesting 77 ...\n",
      "received 77\n",
      "requesting 78 ...\n",
      "received 78\n",
      "requesting 79 ...\n",
      "received 79\n",
      "requesting 80 ...\n",
      "received 80\n",
      "requesting 81 ...\n",
      "received 81\n",
      "requesting 82 ...\n",
      "received 82\n",
      "requesting 83 ...\n",
      "received 83\n",
      "requesting 84 ...\n",
      "received 84\n",
      "requesting 85 ...\n",
      "received 85\n",
      "requesting 86 ...\n",
      "sleeping 1 minute\n",
      "sleeping 1 minute\n",
      "sleeping 1 minute\n",
      "sleeping 1 minute\n",
      "sleeping 1 minute\n",
      "received 86\n",
      "requesting 87 ...\n",
      "sleeping 1 minute\n",
      "sleeping 1 minute\n",
      "sleeping 1 minute\n",
      "sleeping 1 minute\n",
      "sleeping 1 minute\n",
      "sleeping 1 minute\n",
      "received 87\n",
      "requesting 88 ...\n",
      "sleeping 1 minute\n",
      "sleeping 1 minute\n",
      "sleeping 1 minute\n",
      "sleeping 1 minute\n",
      "sleeping 1 minute\n",
      "sleeping 1 minute\n",
      "sleeping 1 minute\n",
      "sleeping 1 minute\n",
      "sleeping 1 minute\n"
     ]
    },
    {
     "ename": "KeyboardInterrupt",
     "evalue": "",
     "output_type": "error",
     "traceback": [
      "\u001b[0;31m---------------------------------------------------------------------------\u001b[0m",
      "\u001b[0;31mKeyboardInterrupt\u001b[0m                         Traceback (most recent call last)",
      "Cell \u001b[0;32mIn[128], line 4\u001b[0m\n\u001b[1;32m      2\u001b[0m thread \u001b[38;5;241m=\u001b[39m client\u001b[38;5;241m.\u001b[39mbeta\u001b[38;5;241m.\u001b[39mthreads\u001b[38;5;241m.\u001b[39mcreate()\n\u001b[1;32m      3\u001b[0m threads\u001b[38;5;241m.\u001b[39mappend(thread)\n\u001b[0;32m----> 4\u001b[0m \u001b[43mhandle_index\u001b[49m\u001b[43m(\u001b[49m\u001b[43mi\u001b[49m\u001b[43m)\u001b[49m\n",
      "Cell \u001b[0;32mIn[125], line 3\u001b[0m, in \u001b[0;36mhandle_index\u001b[0;34m(i)\u001b[0m\n\u001b[1;32m      1\u001b[0m \u001b[38;5;28;01mdef\u001b[39;00m \u001b[38;5;21mhandle_index\u001b[39m(i):\n\u001b[1;32m      2\u001b[0m     \u001b[38;5;28mprint\u001b[39m(\u001b[38;5;124mf\u001b[39m\u001b[38;5;124m'\u001b[39m\u001b[38;5;124mrequesting \u001b[39m\u001b[38;5;132;01m{\u001b[39;00mi\u001b[38;5;132;01m}\u001b[39;00m\u001b[38;5;124m ...\u001b[39m\u001b[38;5;124m'\u001b[39m)\n\u001b[0;32m----> 3\u001b[0m     messages \u001b[38;5;241m=\u001b[39m \u001b[43mget_messages\u001b[49m\u001b[43m(\u001b[49m\u001b[43mi\u001b[49m\u001b[43m)\u001b[49m\n\u001b[1;32m      4\u001b[0m     \u001b[38;5;28mprint\u001b[39m(\u001b[38;5;124mf\u001b[39m\u001b[38;5;124m'\u001b[39m\u001b[38;5;124mreceived \u001b[39m\u001b[38;5;132;01m{\u001b[39;00mi\u001b[38;5;132;01m}\u001b[39;00m\u001b[38;5;124m'\u001b[39m)\n\u001b[1;32m      5\u001b[0m     write_messages(\u001b[38;5;124mf\u001b[39m\u001b[38;5;124m'\u001b[39m\u001b[38;5;124mthread2-\u001b[39m\u001b[38;5;132;01m{\u001b[39;00mi\u001b[38;5;132;01m}\u001b[39;00m\u001b[38;5;124m.txt\u001b[39m\u001b[38;5;124m'\u001b[39m, messages)\n",
      "Cell \u001b[0;32mIn[127], line 10\u001b[0m, in \u001b[0;36mget_messages\u001b[0;34m(i)\u001b[0m\n\u001b[1;32m      8\u001b[0m         \u001b[38;5;28;01mbreak\u001b[39;00m\n\u001b[1;32m      9\u001b[0m     \u001b[38;5;28mprint\u001b[39m(\u001b[38;5;124m'\u001b[39m\u001b[38;5;124msleeping 1 minute\u001b[39m\u001b[38;5;124m'\u001b[39m)\n\u001b[0;32m---> 10\u001b[0m     \u001b[43mtime\u001b[49m\u001b[38;5;241;43m.\u001b[39;49m\u001b[43msleep\u001b[49m\u001b[43m(\u001b[49m\u001b[38;5;241;43m60\u001b[39;49m\u001b[43m)\u001b[49m\n\u001b[1;32m     11\u001b[0m \u001b[38;5;28;01mreturn\u001b[39;00m client\u001b[38;5;241m.\u001b[39mbeta\u001b[38;5;241m.\u001b[39mthreads\u001b[38;5;241m.\u001b[39mmessages\u001b[38;5;241m.\u001b[39mlist(thread_id\u001b[38;5;241m=\u001b[39mthread\u001b[38;5;241m.\u001b[39mid, order\u001b[38;5;241m=\u001b[39m\u001b[38;5;124m\"\u001b[39m\u001b[38;5;124mdesc\u001b[39m\u001b[38;5;124m\"\u001b[39m)\n",
      "\u001b[0;31mKeyboardInterrupt\u001b[0m: "
     ]
    }
   ],
   "source": [
    "for i in range(30, 100):\n",
    "    handle_index(i)"
   ]
  },
  {
   "cell_type": "code",
   "execution_count": null,
   "id": "1f578793-8bae-4e94-8393-a905b27f7cc1",
   "metadata": {},
   "outputs": [
    {
     "name": "stdout",
     "output_type": "stream",
     "text": [
      "requesting 209 ...\n",
      "Thu Jan 11 10:09:00 2024\n",
      "received 209\n",
      "requesting 210 ...\n",
      "Thu Jan 11 10:10:56 2024\n",
      "received 210\n",
      "requesting 211 ...\n",
      "Thu Jan 11 10:13:18 2024\n",
      "received 211\n",
      "requesting 212 ...\n",
      "Thu Jan 11 10:14:38 2024\n",
      "sleeping 3m40.492s\n",
      "Thu Jan 11 10:18:25 2024\n",
      "received 212\n",
      "requesting 213 ...\n",
      "Thu Jan 11 10:21:20 2024\n",
      "sleeping 8m45.657s\n",
      "Thu Jan 11 10:30:13 2024\n",
      "received 213\n",
      "requesting 214 ...\n",
      "Thu Jan 11 10:31:59 2024\n",
      "sleeping 9m54.259s\n",
      "Thu Jan 11 10:42:00 2024\n",
      "received 214\n",
      "requesting 215 ...\n",
      "Thu Jan 11 10:43:47 2024\n",
      "sleeping 11m31.027s\n",
      "Thu Jan 11 10:55:24 2024\n",
      "received 215\n",
      "requesting 216 ...\n",
      "Thu Jan 11 10:57:19 2024\n",
      "sleeping 7m14.764s\n",
      "Thu Jan 11 11:04:42 2024\n",
      "received 216\n",
      "requesting 217 ...\n",
      "Thu Jan 11 11:05:40 2024\n",
      "sleeping 6m18.604s\n",
      "Thu Jan 11 11:12:06 2024\n",
      "received 217\n",
      "requesting 218 ...\n",
      "Thu Jan 11 11:13:23 2024\n",
      "sleeping 7m58.137s\n",
      "Thu Jan 11 11:21:30 2024\n",
      "received 218\n",
      "requesting 219 ...\n",
      "Thu Jan 11 11:23:01 2024\n",
      "sleeping 6m18.604s\n",
      "Thu Jan 11 11:29:27 2024\n",
      "received 219\n",
      "requesting 220 ...\n",
      "Thu Jan 11 11:31:47 2024\n",
      "sleeping 9m55.123s\n",
      "Thu Jan 11 11:41:49 2024\n",
      "received 220\n",
      "requesting 221 ...\n",
      "Thu Jan 11 11:43:31 2024\n",
      "sleeping 10m35.212s\n",
      "Thu Jan 11 11:54:14 2024\n",
      "received 221\n",
      "requesting 222 ...\n",
      "Thu Jan 11 11:56:30 2024\n",
      "sleeping 7m30.316s\n",
      "Thu Jan 11 12:04:08 2024\n",
      "received 222\n",
      "requesting 223 ...\n",
      "Thu Jan 11 12:06:24 2024\n",
      "sleeping 7m41.894s\n",
      "Thu Jan 11 12:14:14 2024\n",
      "received 223\n",
      "requesting 224 ...\n",
      "Thu Jan 11 12:15:21 2024\n",
      "sleeping 6m6.681s\n",
      "Thu Jan 11 12:21:36 2024\n",
      "received 224\n",
      "requesting 225 ...\n",
      "Thu Jan 11 12:23:50 2024\n",
      "sleeping 8m37.19s\n"
     ]
    }
   ],
   "source": [
    "for i in range(209, 300):\n",
    "    try:\n",
    "        handle_index(i)\n",
    "    except KeyboardInterrupt:\n",
    "        raise\n",
    "    except:\n",
    "        print(f'Error happened when processing {i}')\n",
    "        raise"
   ]
  },
  {
   "cell_type": "code",
   "execution_count": 166,
   "id": "578dd552-01fa-42d0-91b4-61d8333b23d7",
   "metadata": {},
   "outputs": [
    {
     "data": {
      "text/plain": [
       "0"
      ]
     },
     "execution_count": 166,
     "metadata": {},
     "output_type": "execute_result"
    }
   ],
   "source": [
    "0"
   ]
  },
  {
   "cell_type": "code",
   "execution_count": 163,
   "id": "29798ba1-2dc3-4aee-b644-2d1ac898670b",
   "metadata": {},
   "outputs": [
    {
     "ename": "SyntaxError",
     "evalue": "unexpected character after line continuation character (970412046.py, line 1)",
     "output_type": "error",
     "traceback": [
      "\u001b[0;36m  Cell \u001b[0;32mIn[163], line 1\u001b[0;36m\u001b[0m\n\u001b[0;31m    \\d+m\\d+s/()\u001b[0m\n\u001b[0m     ^\u001b[0m\n\u001b[0;31mSyntaxError\u001b[0m\u001b[0;31m:\u001b[0m unexpected character after line continuation character\n"
     ]
    }
   ],
   "source": []
  },
  {
   "cell_type": "code",
   "execution_count": 132,
   "id": "57c7b208-fa1b-4de0-bc83-47dbd2c4d8dc",
   "metadata": {},
   "outputs": [
    {
     "data": {
      "text/plain": [
       "['user', 'user', 'user', 'user', 'user', 'user', 'user', 'user', 'user']"
      ]
     },
     "execution_count": 132,
     "metadata": {},
     "output_type": "execute_result"
    }
   ],
   "source": [
    "list(m.role for m in messages.data)"
   ]
  },
  {
   "cell_type": "code",
   "execution_count": 94,
   "id": "6f198509-4afd-428d-8687-9a23008b0768",
   "metadata": {},
   "outputs": [
    {
     "data": {
      "text/plain": [
       "'Annotate these 10 functions:\\n\\nfunction(gt, or) {\\n\\n\\t\\tvar or1 = or.values[0],\\n\\t\\t\\tor2 = or.values[1];\\n\\t\\tvar difference1 = set.difference(gt, or1);\\n\\t\\tvar difference2 = set.difference(gt, or2);\\n\\t\\treturn set.intersection(difference1, difference2);\\n\\t}\\n\\nfunction Session(suite) {\\n\\tEmitter.call(this);\\n\\n\\t\\n\\tthis.files = [];\\n\\n\\t\\n\\tthis.suite = suite;\\n\\n\\t\\n\\tthis.global = global;\\n\\n\\t\\n\\tthis.context = new Context(this);\\n\\n\\t\\n\\tthis.engine = new Mocha({\\n\\t\\t\\n\\t\\t\\n\\t\\tignoreLeaks: true,\\n\\t\\tuseColors: true,\\n\\t\\t\\n\\t\\ttimeout: suite.options.timeout || 10000,\\n\\t\\t\\n\\t\\treporter: suite.options.reporter\\n\\t});\\n\\n\\t\\n\\t\\n\\t\\n\\n\\t\\n\\tthis.engine.suite.emit(\\'pre-require\\', this.global, null, this.engine);\\n\\n\\t\\n\\t\\n\\t\\n\\t\\n\\t\\n\\t\\n}\\n\\nfunction configurePaths(cfg) {\\n\\tvar sourcesBasePath = path.resolve(appPath, cfg.get(\\'sourcesBasePath\\'))\\n\\t   ,sources = cfg.get(\\'sources\\')\\n\\t   ,build = cfg.get(\\'build\\')\\n\\t   ,buildBaseUri\\n\\t   ,buildDir = nodeEnv == \\'development\\' ? build.baseDirNameDev : build.baseDirNameDist\\n\\t   ,buildPath = path.join( path.resolve(appPath, cfg.get(\\'buildBasePath\\')), buildDir)\\n\\t   ,keys, key\\n\\t   ,i\\n\\t;\\n\\n\\tbuildBaseUri = cfg.get(\\'staticBaseUri\\') + \\'/\\' + buildDir +\\'/\\';\\n\\tcfg.set(\\'buildBaseUri\\', buildBaseUri);\\n\\tcfg.set(\\'cssUri\\', buildBaseUri + build.css.dirName + build.css.external[nodeEnv]);\\n\\tcfg.set(\\'jsUri\\', buildBaseUri + build.js.dirName + build.js.external[nodeEnv]);\\n\\tcfg.set(\\'testUri\\', buildBaseUri + build.js.dirName + \\'test.js\\');\\n\\n\\t\\n\\n\\tcfg.set(\\'staticPath\\',            path.resolve(appPath, cfg.get(\\'staticPath\\')));\\n\\tcfg.set(\\'routesPath\\',            path.resolve(appPath, cfg.get(\\'routesPath\\')));\\n\\tcfg.set(\\'buildBasePath\\',         path.resolve(appPath, cfg.get(\\'buildBasePath\\')));\\n\\tcfg.set(\\'helpersPath\\',           path.resolve(appPath, cfg.get(\\'helpersPath\\')));\\n\\tcfg.set(\\'handlebarsHelpersPath\\', path.resolve(appPath, cfg.get(\\'handlebarsHelpersPath\\')));\\n\\n\\tcfg.set(\\'repoWebViewBaseUri\\', cfg.get(\\'repository\\').replace(\\'.git\\', \\'/\\') );\\n\\n\\tkeys = Object.keys(sources);\\n\\tfor (i = 0; i < keys.length; i++) {\\n\\t\\tkey = keys[i];\\n\\t\\tcfg.set( \\'sources.\\'+key, path.resolve( sourcesBasePath, sources[key]) );\\n\\t}\\n\\n\\tbuild.css.inline[nodeEnv] &&\\n\\t\\tcfg.set(\\'build.css.inline\\',   path.resolve( buildPath, build.css.inline[nodeEnv] ));\\n\\n\\tbuild.css.external[nodeEnv] &&\\n\\t\\tcfg.set(\\'build.css.external\\', path.resolve( buildPath, build.css.external[nodeEnv] ));\\n\\n\\tbuild.js.inline[nodeEnv] &&\\n\\t\\tcfg.set(\\'build.js.inline\\',    path.resolve( buildPath, build.js.inline[nodeEnv] ));\\n\\n\\tbuild.js.external[nodeEnv] &&\\n\\t\\tcfg.set(\\'build.js.external\\',  path.resolve( buildPath, build.js.external[nodeEnv] ));\\n\\n\\tcfg.set(\\'build.spritesheets\\', path.resolve( buildPath, build.spriteSheets.dirName ));\\n\\n\\treturn cfg;\\n}\\n\\nfunction V1(domain) {\\n  Version.prototype.constructor.call(this, domain, \\'v1\\');\\n\\n  \\n  this._commands = undefined;\\n  this._ratePlans = undefined;\\n  this._sims = undefined;\\n}\\n\\nfunction loadTimbits(callback) {\\n\\n  var folder = path.join(config.home, \"/timbits\");\\n  var files = filteredFiles(folder, /\\\\.(coffee|js)$/);\\n  var pending = files.length;\\n  \\n  files.forEach(function(file) {\\n    var name = file.substring(0, file.lastIndexOf(\".\"));\\n    timbits.add(name, require(path.join(folder, file)), function() {\\n      pending--;\\n      if (pending === 0) callback();\\n    });\\n  });\\n}\\n\\nasync function(length) {\\n    const buf = new Uint8Array(length);\\n    if (typeof window !== \\'undefined\\' && window.crypto && window.crypto.getRandomValues) {\\n      window.crypto.getRandomValues(buf);\\n    } else if (typeof window !== \\'undefined\\' && typeof window.msCrypto === \\'object\\' && typeof window.msCrypto.getRandomValues === \\'function\\') {\\n      window.msCrypto.getRandomValues(buf);\\n    } else if (nodeCrypto) {\\n      const bytes = nodeCrypto.randomBytes(buf.length);\\n      buf.set(bytes);\\n    } else if (this.randomBuffer.buffer) {\\n      await this.randomBuffer.get(buf);\\n    } else {\\n      throw new Error(\\'No secure random number generator available.\\');\\n    }\\n    return buf;\\n  }\\n\\nfunction statusToText(status) {\\n          var words = [];\\n\\n          if (status.index==\\'A\\') {\\n            words.push({\\n              code: \\'A\\',\\n              color: \\'#00b111\\',\\n              title: \\'Added\\'\\n            });\\n          }\\n\\n          if (status.index==\\'M\\') {\\n            words.push({\\n              code: \\'M\\',\\n              color: \\'#9000b1\\',\\n              title: \\'Modified\\'\\n            });\\n          }\\n\\n          if (status.index==\\'R\\') {\\n            words.push({\\n              code: \\'R\\',\\n              color: \\'#0065b1\\',\\n              title: \\'Renamed\\'\\n            });\\n          }\\n\\n          if (status.index==\\'!\\') {\\n            words.push({\\n              code: \\'I\\',\\n              color: \\'#b16d00\\',\\n              title: \\'Ignored\\'\\n            });\\n          }\\n\\n          if (status.index==\\'C\\') {\\n            words.push({\\n              code: \\'C\\',\\n              color: \\'#b16d00\\',\\n              title: \\'Copied\\'\\n            });\\n          }\\n\\n          if (status.index==\\' \\') {\\n            words.push({\\n              code: \\' \\',\\n              color: \\'#b16d00\\',\\n              title: \\'Unmodified\\'\\n            });\\n          }\\n\\n          if (status.index==\\'D\\') {\\n            words.push({\\n              code: \\'D\\',\\n              color: \\'#de2d00\\',\\n              title: \\'Deleted\\'\\n            });\\n          }\\n\\n          return words;\\n        }\\n\\nfunction showTooltipBind() {\\n              if(hasEnableExp && !scope.$eval(attrs[prefix+\\'Enable\\'])) {\\n                return;\\n              }\\n\\n              prepareTooltip();\\n\\n              if ( ttScope.popupDelay ) {\\n                \\n                \\n                if (!popupTimeout) {\\n                  popupTimeout = $timeout( show, ttScope.popupDelay, false );\\n                  popupTimeout.then(function(reposition){reposition();});\\n                }\\n              } else {\\n                show()();\\n              }\\n            }\\n\\nfunction splitWord (word) {\\n  Util.assert(word);\\n\\n  if (word.length < MAX_SAMPLE_SIZE) {\\n    return [word];\\n  }\\n\\n  let chunks = [];\\n  for (let ii = 0; ii < word.length - MAX_SAMPLE_SIZE + 1; ++ii) {\\n    chunks.push(word.substring(ii, ii + MAX_SAMPLE_SIZE));\\n  }\\n  return chunks;\\n}\\n\\nfunction loadAdapter(type, location) {\\n    var options = adapterConfig[type];\\n    try {\\n        var modulePath = adapterModulePath(type, options);\\n\\n        global.JuttleAdapterAPI = JuttleAdapterAPI;\\n\\n        var start = new Date();\\n\\n        if (!options.builtin) {\\n            checkCompatible(type, modulePath, location);\\n        }\\n\\n        var init = require(modulePath);\\n\\n        var loaded = new Date();\\n        var adapter = init(options);\\n\\n        global.JuttleAdapterAPI = undefined;\\n\\n        if (adapter.name !== type) {\\n            throw new Error(\\'adapter name \\', adapter.name, \\' != type \\', type);\\n        }\\n        var initialized = new Date();\\n\\n        logger.debug(adapter.name, \\'adapter loaded in\\', (loaded - start), \\'ms,\\',\\n                     \\'initialized in\\', (initialized - loaded), \\'ms\\');\\n\\n        register(adapter.name, adapter);\\n\\n        return adapter;\\n    } catch (err) {\\n        logger.error(\\'error loading adapter \\' + type + \\': \\' + err.message);\\n        throw err;\\n    }\\n}'"
      ]
     },
     "execution_count": 94,
     "metadata": {},
     "output_type": "execute_result"
    }
   ],
   "source": [
    "request(12)"
   ]
  },
  {
   "cell_type": "code",
   "execution_count": 95,
   "id": "2841b7c8-acac-44de-af58-51ad3d17520c",
   "metadata": {},
   "outputs": [
    {
     "ename": "BadRequestError",
     "evalue": "Error code: 400 - {'error': {'message': \"Can't add messages to thread_KMt8ytI3bKOUgRxeBdb0JZzS while a run run_Evr42VuchrmsIfE7rS0SuHbT is active.\", 'type': 'invalid_request_error', 'param': None, 'code': None}}",
     "output_type": "error",
     "traceback": [
      "\u001b[0;31m---------------------------------------------------------------------------\u001b[0m",
      "\u001b[0;31mBadRequestError\u001b[0m                           Traceback (most recent call last)",
      "Cell \u001b[0;32mIn[95], line 1\u001b[0m\n\u001b[0;32m----> 1\u001b[0m messages \u001b[38;5;241m=\u001b[39m \u001b[43mget_messages\u001b[49m\u001b[43m(\u001b[49m\u001b[43mi\u001b[49m\u001b[43m)\u001b[49m\n\u001b[1;32m      2\u001b[0m messages\n",
      "Cell \u001b[0;32mIn[75], line 4\u001b[0m, in \u001b[0;36mget_messages\u001b[0;34m(i)\u001b[0m\n\u001b[1;32m      2\u001b[0m \u001b[38;5;28;01mdef\u001b[39;00m \u001b[38;5;21mget_messages\u001b[39m(i): \n\u001b[1;32m      3\u001b[0m     user_input \u001b[38;5;241m=\u001b[39m request(i)\n\u001b[0;32m----> 4\u001b[0m     run \u001b[38;5;241m=\u001b[39m \u001b[43msubmit_message\u001b[49m\u001b[43m(\u001b[49m\u001b[43massistant_id\u001b[49m\u001b[43m,\u001b[49m\u001b[43m \u001b[49m\u001b[43mthread\u001b[49m\u001b[43m,\u001b[49m\u001b[43m \u001b[49m\u001b[43muser_input\u001b[49m\u001b[43m)\u001b[49m\n\u001b[1;32m      5\u001b[0m     run \u001b[38;5;241m=\u001b[39m wait_on_run(run, thread)\n\u001b[1;32m      6\u001b[0m     \u001b[38;5;28;01mreturn\u001b[39;00m client\u001b[38;5;241m.\u001b[39mbeta\u001b[38;5;241m.\u001b[39mthreads\u001b[38;5;241m.\u001b[39mmessages\u001b[38;5;241m.\u001b[39mlist(thread_id\u001b[38;5;241m=\u001b[39mthread\u001b[38;5;241m.\u001b[39mid, order\u001b[38;5;241m=\u001b[39m\u001b[38;5;124m\"\u001b[39m\u001b[38;5;124masc\u001b[39m\u001b[38;5;124m\"\u001b[39m)\n",
      "Cell \u001b[0;32mIn[65], line 2\u001b[0m, in \u001b[0;36msubmit_message\u001b[0;34m(assistant_id, thread, user_message)\u001b[0m\n\u001b[1;32m      1\u001b[0m \u001b[38;5;28;01mdef\u001b[39;00m \u001b[38;5;21msubmit_message\u001b[39m(assistant_id, thread, user_message):\n\u001b[0;32m----> 2\u001b[0m     \u001b[43mclient\u001b[49m\u001b[38;5;241;43m.\u001b[39;49m\u001b[43mbeta\u001b[49m\u001b[38;5;241;43m.\u001b[39;49m\u001b[43mthreads\u001b[49m\u001b[38;5;241;43m.\u001b[39;49m\u001b[43mmessages\u001b[49m\u001b[38;5;241;43m.\u001b[39;49m\u001b[43mcreate\u001b[49m\u001b[43m(\u001b[49m\n\u001b[1;32m      3\u001b[0m \u001b[43m        \u001b[49m\u001b[43mthread_id\u001b[49m\u001b[38;5;241;43m=\u001b[39;49m\u001b[43mthread\u001b[49m\u001b[38;5;241;43m.\u001b[39;49m\u001b[43mid\u001b[49m\u001b[43m,\u001b[49m\u001b[43m \u001b[49m\u001b[43mrole\u001b[49m\u001b[38;5;241;43m=\u001b[39;49m\u001b[38;5;124;43m\"\u001b[39;49m\u001b[38;5;124;43muser\u001b[39;49m\u001b[38;5;124;43m\"\u001b[39;49m\u001b[43m,\u001b[49m\u001b[43m \u001b[49m\u001b[43mcontent\u001b[49m\u001b[38;5;241;43m=\u001b[39;49m\u001b[43muser_message\u001b[49m\n\u001b[1;32m      4\u001b[0m \u001b[43m    \u001b[49m\u001b[43m)\u001b[49m\n\u001b[1;32m      5\u001b[0m     \u001b[38;5;28;01mreturn\u001b[39;00m client\u001b[38;5;241m.\u001b[39mbeta\u001b[38;5;241m.\u001b[39mthreads\u001b[38;5;241m.\u001b[39mruns\u001b[38;5;241m.\u001b[39mcreate(\n\u001b[1;32m      6\u001b[0m         thread_id\u001b[38;5;241m=\u001b[39mthread\u001b[38;5;241m.\u001b[39mid,\n\u001b[1;32m      7\u001b[0m         assistant_id\u001b[38;5;241m=\u001b[39massistant_id,\n\u001b[1;32m      8\u001b[0m     )\n",
      "File \u001b[0;32m/usr/local/lib/python3.10/dist-packages/openai/resources/beta/threads/messages/messages.py:82\u001b[0m, in \u001b[0;36mMessages.create\u001b[0;34m(self, thread_id, content, role, file_ids, metadata, extra_headers, extra_query, extra_body, timeout)\u001b[0m\n\u001b[1;32m     54\u001b[0m \u001b[38;5;250m\u001b[39m\u001b[38;5;124;03m\"\"\"\u001b[39;00m\n\u001b[1;32m     55\u001b[0m \u001b[38;5;124;03mCreate a message.\u001b[39;00m\n\u001b[1;32m     56\u001b[0m \n\u001b[0;32m   (...)\u001b[0m\n\u001b[1;32m     79\u001b[0m \u001b[38;5;124;03m  timeout: Override the client-level default timeout for this request, in seconds\u001b[39;00m\n\u001b[1;32m     80\u001b[0m \u001b[38;5;124;03m\"\"\"\u001b[39;00m\n\u001b[1;32m     81\u001b[0m extra_headers \u001b[38;5;241m=\u001b[39m {\u001b[38;5;124m\"\u001b[39m\u001b[38;5;124mOpenAI-Beta\u001b[39m\u001b[38;5;124m\"\u001b[39m: \u001b[38;5;124m\"\u001b[39m\u001b[38;5;124massistants=v1\u001b[39m\u001b[38;5;124m\"\u001b[39m, \u001b[38;5;241m*\u001b[39m\u001b[38;5;241m*\u001b[39m(extra_headers \u001b[38;5;129;01mor\u001b[39;00m {})}\n\u001b[0;32m---> 82\u001b[0m \u001b[38;5;28;01mreturn\u001b[39;00m \u001b[38;5;28;43mself\u001b[39;49m\u001b[38;5;241;43m.\u001b[39;49m\u001b[43m_post\u001b[49m\u001b[43m(\u001b[49m\n\u001b[1;32m     83\u001b[0m \u001b[43m    \u001b[49m\u001b[38;5;124;43mf\u001b[39;49m\u001b[38;5;124;43m\"\u001b[39;49m\u001b[38;5;124;43m/threads/\u001b[39;49m\u001b[38;5;132;43;01m{\u001b[39;49;00m\u001b[43mthread_id\u001b[49m\u001b[38;5;132;43;01m}\u001b[39;49;00m\u001b[38;5;124;43m/messages\u001b[39;49m\u001b[38;5;124;43m\"\u001b[39;49m\u001b[43m,\u001b[49m\n\u001b[1;32m     84\u001b[0m \u001b[43m    \u001b[49m\u001b[43mbody\u001b[49m\u001b[38;5;241;43m=\u001b[39;49m\u001b[43mmaybe_transform\u001b[49m\u001b[43m(\u001b[49m\n\u001b[1;32m     85\u001b[0m \u001b[43m        \u001b[49m\u001b[43m{\u001b[49m\n\u001b[1;32m     86\u001b[0m \u001b[43m            \u001b[49m\u001b[38;5;124;43m\"\u001b[39;49m\u001b[38;5;124;43mcontent\u001b[39;49m\u001b[38;5;124;43m\"\u001b[39;49m\u001b[43m:\u001b[49m\u001b[43m \u001b[49m\u001b[43mcontent\u001b[49m\u001b[43m,\u001b[49m\n\u001b[1;32m     87\u001b[0m \u001b[43m            \u001b[49m\u001b[38;5;124;43m\"\u001b[39;49m\u001b[38;5;124;43mrole\u001b[39;49m\u001b[38;5;124;43m\"\u001b[39;49m\u001b[43m:\u001b[49m\u001b[43m \u001b[49m\u001b[43mrole\u001b[49m\u001b[43m,\u001b[49m\n\u001b[1;32m     88\u001b[0m \u001b[43m            \u001b[49m\u001b[38;5;124;43m\"\u001b[39;49m\u001b[38;5;124;43mfile_ids\u001b[39;49m\u001b[38;5;124;43m\"\u001b[39;49m\u001b[43m:\u001b[49m\u001b[43m \u001b[49m\u001b[43mfile_ids\u001b[49m\u001b[43m,\u001b[49m\n\u001b[1;32m     89\u001b[0m \u001b[43m            \u001b[49m\u001b[38;5;124;43m\"\u001b[39;49m\u001b[38;5;124;43mmetadata\u001b[39;49m\u001b[38;5;124;43m\"\u001b[39;49m\u001b[43m:\u001b[49m\u001b[43m \u001b[49m\u001b[43mmetadata\u001b[49m\u001b[43m,\u001b[49m\n\u001b[1;32m     90\u001b[0m \u001b[43m        \u001b[49m\u001b[43m}\u001b[49m\u001b[43m,\u001b[49m\n\u001b[1;32m     91\u001b[0m \u001b[43m        \u001b[49m\u001b[43mmessage_create_params\u001b[49m\u001b[38;5;241;43m.\u001b[39;49m\u001b[43mMessageCreateParams\u001b[49m\u001b[43m,\u001b[49m\n\u001b[1;32m     92\u001b[0m \u001b[43m    \u001b[49m\u001b[43m)\u001b[49m\u001b[43m,\u001b[49m\n\u001b[1;32m     93\u001b[0m \u001b[43m    \u001b[49m\u001b[43moptions\u001b[49m\u001b[38;5;241;43m=\u001b[39;49m\u001b[43mmake_request_options\u001b[49m\u001b[43m(\u001b[49m\n\u001b[1;32m     94\u001b[0m \u001b[43m        \u001b[49m\u001b[43mextra_headers\u001b[49m\u001b[38;5;241;43m=\u001b[39;49m\u001b[43mextra_headers\u001b[49m\u001b[43m,\u001b[49m\u001b[43m \u001b[49m\u001b[43mextra_query\u001b[49m\u001b[38;5;241;43m=\u001b[39;49m\u001b[43mextra_query\u001b[49m\u001b[43m,\u001b[49m\u001b[43m \u001b[49m\u001b[43mextra_body\u001b[49m\u001b[38;5;241;43m=\u001b[39;49m\u001b[43mextra_body\u001b[49m\u001b[43m,\u001b[49m\u001b[43m \u001b[49m\u001b[43mtimeout\u001b[49m\u001b[38;5;241;43m=\u001b[39;49m\u001b[43mtimeout\u001b[49m\n\u001b[1;32m     95\u001b[0m \u001b[43m    \u001b[49m\u001b[43m)\u001b[49m\u001b[43m,\u001b[49m\n\u001b[1;32m     96\u001b[0m \u001b[43m    \u001b[49m\u001b[43mcast_to\u001b[49m\u001b[38;5;241;43m=\u001b[39;49m\u001b[43mThreadMessage\u001b[49m\u001b[43m,\u001b[49m\n\u001b[1;32m     97\u001b[0m \u001b[43m\u001b[49m\u001b[43m)\u001b[49m\n",
      "File \u001b[0;32m/usr/local/lib/python3.10/dist-packages/openai/_base_client.py:1088\u001b[0m, in \u001b[0;36mSyncAPIClient.post\u001b[0;34m(self, path, cast_to, body, options, files, stream, stream_cls)\u001b[0m\n\u001b[1;32m   1074\u001b[0m \u001b[38;5;28;01mdef\u001b[39;00m \u001b[38;5;21mpost\u001b[39m(\n\u001b[1;32m   1075\u001b[0m     \u001b[38;5;28mself\u001b[39m,\n\u001b[1;32m   1076\u001b[0m     path: \u001b[38;5;28mstr\u001b[39m,\n\u001b[0;32m   (...)\u001b[0m\n\u001b[1;32m   1083\u001b[0m     stream_cls: \u001b[38;5;28mtype\u001b[39m[_StreamT] \u001b[38;5;241m|\u001b[39m \u001b[38;5;28;01mNone\u001b[39;00m \u001b[38;5;241m=\u001b[39m \u001b[38;5;28;01mNone\u001b[39;00m,\n\u001b[1;32m   1084\u001b[0m ) \u001b[38;5;241m-\u001b[39m\u001b[38;5;241m>\u001b[39m ResponseT \u001b[38;5;241m|\u001b[39m _StreamT:\n\u001b[1;32m   1085\u001b[0m     opts \u001b[38;5;241m=\u001b[39m FinalRequestOptions\u001b[38;5;241m.\u001b[39mconstruct(\n\u001b[1;32m   1086\u001b[0m         method\u001b[38;5;241m=\u001b[39m\u001b[38;5;124m\"\u001b[39m\u001b[38;5;124mpost\u001b[39m\u001b[38;5;124m\"\u001b[39m, url\u001b[38;5;241m=\u001b[39mpath, json_data\u001b[38;5;241m=\u001b[39mbody, files\u001b[38;5;241m=\u001b[39mto_httpx_files(files), \u001b[38;5;241m*\u001b[39m\u001b[38;5;241m*\u001b[39moptions\n\u001b[1;32m   1087\u001b[0m     )\n\u001b[0;32m-> 1088\u001b[0m     \u001b[38;5;28;01mreturn\u001b[39;00m cast(ResponseT, \u001b[38;5;28;43mself\u001b[39;49m\u001b[38;5;241;43m.\u001b[39;49m\u001b[43mrequest\u001b[49m\u001b[43m(\u001b[49m\u001b[43mcast_to\u001b[49m\u001b[43m,\u001b[49m\u001b[43m \u001b[49m\u001b[43mopts\u001b[49m\u001b[43m,\u001b[49m\u001b[43m \u001b[49m\u001b[43mstream\u001b[49m\u001b[38;5;241;43m=\u001b[39;49m\u001b[43mstream\u001b[49m\u001b[43m,\u001b[49m\u001b[43m \u001b[49m\u001b[43mstream_cls\u001b[49m\u001b[38;5;241;43m=\u001b[39;49m\u001b[43mstream_cls\u001b[49m\u001b[43m)\u001b[49m)\n",
      "File \u001b[0;32m/usr/local/lib/python3.10/dist-packages/openai/_base_client.py:853\u001b[0m, in \u001b[0;36mSyncAPIClient.request\u001b[0;34m(self, cast_to, options, remaining_retries, stream, stream_cls)\u001b[0m\n\u001b[1;32m    844\u001b[0m \u001b[38;5;28;01mdef\u001b[39;00m \u001b[38;5;21mrequest\u001b[39m(\n\u001b[1;32m    845\u001b[0m     \u001b[38;5;28mself\u001b[39m,\n\u001b[1;32m    846\u001b[0m     cast_to: Type[ResponseT],\n\u001b[0;32m   (...)\u001b[0m\n\u001b[1;32m    851\u001b[0m     stream_cls: \u001b[38;5;28mtype\u001b[39m[_StreamT] \u001b[38;5;241m|\u001b[39m \u001b[38;5;28;01mNone\u001b[39;00m \u001b[38;5;241m=\u001b[39m \u001b[38;5;28;01mNone\u001b[39;00m,\n\u001b[1;32m    852\u001b[0m ) \u001b[38;5;241m-\u001b[39m\u001b[38;5;241m>\u001b[39m ResponseT \u001b[38;5;241m|\u001b[39m _StreamT:\n\u001b[0;32m--> 853\u001b[0m     \u001b[38;5;28;01mreturn\u001b[39;00m \u001b[38;5;28;43mself\u001b[39;49m\u001b[38;5;241;43m.\u001b[39;49m\u001b[43m_request\u001b[49m\u001b[43m(\u001b[49m\n\u001b[1;32m    854\u001b[0m \u001b[43m        \u001b[49m\u001b[43mcast_to\u001b[49m\u001b[38;5;241;43m=\u001b[39;49m\u001b[43mcast_to\u001b[49m\u001b[43m,\u001b[49m\n\u001b[1;32m    855\u001b[0m \u001b[43m        \u001b[49m\u001b[43moptions\u001b[49m\u001b[38;5;241;43m=\u001b[39;49m\u001b[43moptions\u001b[49m\u001b[43m,\u001b[49m\n\u001b[1;32m    856\u001b[0m \u001b[43m        \u001b[49m\u001b[43mstream\u001b[49m\u001b[38;5;241;43m=\u001b[39;49m\u001b[43mstream\u001b[49m\u001b[43m,\u001b[49m\n\u001b[1;32m    857\u001b[0m \u001b[43m        \u001b[49m\u001b[43mstream_cls\u001b[49m\u001b[38;5;241;43m=\u001b[39;49m\u001b[43mstream_cls\u001b[49m\u001b[43m,\u001b[49m\n\u001b[1;32m    858\u001b[0m \u001b[43m        \u001b[49m\u001b[43mremaining_retries\u001b[49m\u001b[38;5;241;43m=\u001b[39;49m\u001b[43mremaining_retries\u001b[49m\u001b[43m,\u001b[49m\n\u001b[1;32m    859\u001b[0m \u001b[43m    \u001b[49m\u001b[43m)\u001b[49m\n",
      "File \u001b[0;32m/usr/local/lib/python3.10/dist-packages/openai/_base_client.py:930\u001b[0m, in \u001b[0;36mSyncAPIClient._request\u001b[0;34m(self, cast_to, options, remaining_retries, stream, stream_cls)\u001b[0m\n\u001b[1;32m    927\u001b[0m     \u001b[38;5;28;01mif\u001b[39;00m \u001b[38;5;129;01mnot\u001b[39;00m err\u001b[38;5;241m.\u001b[39mresponse\u001b[38;5;241m.\u001b[39mis_closed:\n\u001b[1;32m    928\u001b[0m         err\u001b[38;5;241m.\u001b[39mresponse\u001b[38;5;241m.\u001b[39mread()\n\u001b[0;32m--> 930\u001b[0m     \u001b[38;5;28;01mraise\u001b[39;00m \u001b[38;5;28mself\u001b[39m\u001b[38;5;241m.\u001b[39m_make_status_error_from_response(err\u001b[38;5;241m.\u001b[39mresponse) \u001b[38;5;28;01mfrom\u001b[39;00m \u001b[38;5;28;01mNone\u001b[39;00m\n\u001b[1;32m    932\u001b[0m \u001b[38;5;28;01mreturn\u001b[39;00m \u001b[38;5;28mself\u001b[39m\u001b[38;5;241m.\u001b[39m_process_response(\n\u001b[1;32m    933\u001b[0m     cast_to\u001b[38;5;241m=\u001b[39mcast_to,\n\u001b[1;32m    934\u001b[0m     options\u001b[38;5;241m=\u001b[39moptions,\n\u001b[0;32m   (...)\u001b[0m\n\u001b[1;32m    937\u001b[0m     stream_cls\u001b[38;5;241m=\u001b[39mstream_cls,\n\u001b[1;32m    938\u001b[0m )\n",
      "\u001b[0;31mBadRequestError\u001b[0m: Error code: 400 - {'error': {'message': \"Can't add messages to thread_KMt8ytI3bKOUgRxeBdb0JZzS while a run run_Evr42VuchrmsIfE7rS0SuHbT is active.\", 'type': 'invalid_request_error', 'param': None, 'code': None}}"
     ]
    }
   ],
   "source": [
    "messages = get_messages(i)\n",
    "messages"
   ]
  },
  {
   "cell_type": "code",
   "execution_count": null,
   "id": "5bd241b7-9bae-473c-9540-fb0e26f48f15",
   "metadata": {},
   "outputs": [],
   "source": [
    "    "
   ]
  }
 ],
 "metadata": {
  "kernelspec": {
   "display_name": "Python 3 (ipykernel)",
   "language": "python",
   "name": "python3"
  },
  "language_info": {
   "codemirror_mode": {
    "name": "ipython",
    "version": 3
   },
   "file_extension": ".py",
   "mimetype": "text/x-python",
   "name": "python",
   "nbconvert_exporter": "python",
   "pygments_lexer": "ipython3",
   "version": "3.10.12"
  }
 },
 "nbformat": 4,
 "nbformat_minor": 5
}
