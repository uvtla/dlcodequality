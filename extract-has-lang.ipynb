{
 "cells": [
  {
   "cell_type": "code",
   "execution_count": 2,
   "id": "8cbc6f2c-e0a4-426d-8657-4022bd02702c",
   "metadata": {},
   "outputs": [],
   "source": [
    "import os\n",
    "os.chdir('dataset/Diff_Quality_Estimation')\n"
   ]
  },
  {
   "cell_type": "code",
   "execution_count": 3,
   "id": "ab4d522f-58c0-4f5f-80c3-15a5bc02f6cf",
   "metadata": {},
   "outputs": [
    {
     "name": "stderr",
     "output_type": "stream",
     "text": [
      " 17%|█▋        | 1/6 [00:06<00:30,  6.06s/it]"
     ]
    },
    {
     "name": "stdout",
     "output_type": "stream",
     "text": [
      "31252/31252 are saved to cls-test-lang.jsonl\n"
     ]
    },
    {
     "name": "stderr",
     "output_type": "stream",
     "text": [
      " 33%|███▎      | 2/6 [00:11<00:22,  5.62s/it]"
     ]
    },
    {
     "name": "stdout",
     "output_type": "stream",
     "text": [
      "31252/31252 are saved to cls-valid-lang.jsonl\n"
     ]
    },
    {
     "name": "stderr",
     "output_type": "stream",
     "text": [
      " 50%|█████     | 3/6 [00:21<00:22,  7.46s/it]"
     ]
    },
    {
     "name": "stdout",
     "output_type": "stream",
     "text": [
      "33293/66459 are saved to cls-train-chunk-0-lang.jsonl\n"
     ]
    },
    {
     "name": "stderr",
     "output_type": "stream",
     "text": [
      " 67%|██████▋   | 4/6 [00:29<00:15,  7.67s/it]"
     ]
    },
    {
     "name": "stdout",
     "output_type": "stream",
     "text": [
      "33226/66459 are saved to cls-train-chunk-1-lang.jsonl\n"
     ]
    },
    {
     "name": "stderr",
     "output_type": "stream",
     "text": [
      " 83%|████████▎ | 5/6 [00:37<00:08,  8.04s/it]"
     ]
    },
    {
     "name": "stdout",
     "output_type": "stream",
     "text": [
      "33187/66459 are saved to cls-train-chunk-2-lang.jsonl\n"
     ]
    },
    {
     "name": "stderr",
     "output_type": "stream",
     "text": [
      "100%|██████████| 6/6 [00:46<00:00,  7.70s/it]"
     ]
    },
    {
     "name": "stdout",
     "output_type": "stream",
     "text": [
      "33212/66459 are saved to cls-train-chunk-3-lang.jsonl\n"
     ]
    },
    {
     "name": "stderr",
     "output_type": "stream",
     "text": [
      "\n"
     ]
    }
   ],
   "source": [
    "import json\n",
    "from tqdm import tqdm\n",
    "\n",
    "filenames = ['cls-test', 'cls-valid'] + [f'cls-train-chunk-{i}' for i in range(4)]\n",
    "\n",
    "for filename in tqdm(filenames):\n",
    "    savep = f\"{filename}-lang.jsonl\"\n",
    "    if os.path.exists(savep):\n",
    "        print(f\"{savep} exists, skipping\")\n",
    "        continue\n",
    "    with open(savep, \"w\") as fw:\n",
    "        with open(f\"{filename}.jsonl\", \"r\") as fr:\n",
    "            i, j = 0, 0\n",
    "            for line in fr:\n",
    "                data = json.loads(line)\n",
    "                i += 1\n",
    "                if 'lang' in data and len(data['lang']):\n",
    "                    j += 1\n",
    "                    fw.write(line)\n",
    "            print(f\"{j}/{i} are saved to {savep}\")\n"
   ]
  }
 ],
 "metadata": {
  "kernelspec": {
   "display_name": "Python 3 (ipykernel)",
   "language": "python",
   "name": "python3"
  },
  "language_info": {
   "codemirror_mode": {
    "name": "ipython",
    "version": 3
   },
   "file_extension": ".py",
   "mimetype": "text/x-python",
   "name": "python",
   "nbconvert_exporter": "python",
   "pygments_lexer": "ipython3",
   "version": "3.10.12"
  }
 },
 "nbformat": 4,
 "nbformat_minor": 5
}
