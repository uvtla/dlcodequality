{
 "cells": [
  {
   "cell_type": "code",
   "execution_count": null,
   "id": "c5df8bd3-4d52-4c66-9fe2-3d671a83e4df",
   "metadata": {},
   "outputs": [],
   "source": [
    "import os\n",
    "import json\n",
    "from tqdm import tqdm\n",
    "\n",
    "os.chdir('dataset/Diff_Quality_Estimation')\n"
   ]
  },
  {
   "cell_type": "code",
   "execution_count": null,
   "id": "d1e008e3-6372-4284-b9f0-da1804735104",
   "metadata": {},
   "outputs": [],
   "source": [
    "from nltk.stem import WordNetLemmatizer\n",
    "from nltk.tokenize import word_tokenize\n",
    "from baseform import is_base_form_name, lemma\n",
    "import json\n",
    "from contextlib import contextmanager\n",
    "\n",
    "@contextmanager\n",
    "def files_dict(files):\n",
    "    try:\n",
    "        yield files\n",
    "    finally:\n",
    "        for _, file in files.items():\n",
    "            try:\n",
    "                file.close()\n",
    "            except:\n",
    "                pass\n",
    "\n",
    "\n",
    "def filter_having_base(file_in, words):\n",
    "    lemmatizer = WordNetLemmatizer()\n",
    "    bases = [lemma(lemmatizer, word) for word in words]\n",
    "    i, j = 0, {base: dict() for base in bases}\n",
    "    with files_dict({base: open(f'classes/{base}.jsonl', 'w') for base in bases}) as files:\n",
    "        with open(file_in, 'r') as fr:\n",
    "            for line in tqdm(fr):\n",
    "                i += 1\n",
    "                data = json.loads(line)\n",
    "                lang = data['lang'] or 'unk'\n",
    "                words = word_tokenize(line)\n",
    "                for base in bases:\n",
    "                    if any(is_base_form_name(lemmatizer, word, base) for word in words):\n",
    "                        if not lang in j[base]:\n",
    "                            j[base][lang] = 0\n",
    "                        j[base][lang] += 1\n",
    "                        files[base].write(f\"{i}\\n\")\n",
    "                        #files[base].write(f\"[{i},{line.rstrip()}]\\n\")\n",
    "    return i, j"
   ]
  },
  {
   "cell_type": "code",
   "execution_count": null,
   "id": "4e604e5c-d40f-4976-a42e-bc9702c00e10",
   "metadata": {},
   "outputs": [],
   "source": [
    "from smells import smells\n",
    "\n",
    "msg_file = f\"comments.jsonl\"\n",
    "filter_having_base(msg_file, smells)"
   ]
  }
 ],
 "metadata": {
  "kernelspec": {
   "display_name": "Python 3 (ipykernel)",
   "language": "python",
   "name": "python3"
  },
  "language_info": {
   "codemirror_mode": {
    "name": "ipython",
    "version": 3
   },
   "file_extension": ".py",
   "mimetype": "text/x-python",
   "name": "python",
   "nbconvert_exporter": "python",
   "pygments_lexer": "ipython3",
   "version": "3.10.12"
  }
 },
 "nbformat": 4,
 "nbformat_minor": 5
}
