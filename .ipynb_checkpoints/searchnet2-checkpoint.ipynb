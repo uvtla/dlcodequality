{
 "cells": [
  {
   "cell_type": "markdown",
   "id": "3e6db99f-03f8-4d9c-b270-11efa25b0cd7",
   "metadata": {},
   "source": [
    "# After getting files"
   ]
  },
  {
   "cell_type": "markdown",
   "id": "d8225e83-c777-4e68-8d88-1c2a82ca195f",
   "metadata": {},
   "source": [
    "## Insert into database"
   ]
  },
  {
   "cell_type": "code",
   "execution_count": 1,
   "id": "00457c64-4536-4a2a-be83-04e1f1e66e98",
   "metadata": {},
   "outputs": [
    {
     "name": "stdout",
     "output_type": "stream",
     "text": [
      "getting dataset location\n"
     ]
    }
   ],
   "source": [
    "from pathlib import Path\n",
    "try:\n",
    "    dataset\n",
    "except:\n",
    "    print('getting dataset location')\n",
    "    dataset = Path('dataset').absolute()\n"
   ]
  },
  {
   "cell_type": "code",
   "execution_count": 2,
   "id": "a28b7e35-3703-4a56-9707-fadde8c3f3de",
   "metadata": {},
   "outputs": [],
   "source": [
    "import os\n",
    "os.chdir(dataset)\n",
    "\n",
    "js_dir = dataset / 'javascript'\n"
   ]
  },
  {
   "cell_type": "code",
   "execution_count": 6,
   "id": "40094612-df9b-4969-bdd3-94b0f201afbf",
   "metadata": {},
   "outputs": [],
   "source": [
    "import xml.etree.ElementTree as ET"
   ]
  },
  {
   "cell_type": "code",
   "execution_count": 41,
   "id": "5412c004-3e16-445a-953c-252d51358208",
   "metadata": {},
   "outputs": [],
   "source": [
    "import re\n",
    "\n",
    "html_tags = [\n",
    "    # Basic HTML Document Structure\n",
    "    \"!DOCTYPE\", \"html\", \"head\", \"title\", \"body\",\n",
    "\n",
    "    # Text Formatting\n",
    "    \"h1\", \"h2\", \"h3\", \"h4\", \"h5\", \"h6\", \"p\", \"br\", \"hr\", \"abbr\", \"acronym\", \"address\", \"b\", \"bdi\", \"bdo\",\n",
    "    \"blockquote\", \"cite\", \"code\", \"del\", \"dfn\", \"em\", \"i\", \"ins\", \"kbd\", \"mark\", \"meter\", \"pre\", \"progress\",\n",
    "    \"q\", \"rp\", \"rt\", \"ruby\", \"s\", \"samp\", \"small\", \"strike\", \"strong\", \"sub\", \"sup\", \"template\", \"time\",\n",
    "    \"tt\", \"u\", \"var\", \"wbr\",\n",
    "\n",
    "    # Links and Resources\n",
    "    \"a\", \"link\", \"nav\", \"ul\", \"ol\", \"li\", \"dir\", \"dl\", \"dt\", \"dd\", \"figure\", \"figcaption\", \"main\",\n",
    "\n",
    "    # Images and Multimedia\n",
    "    \"img\", \"map\", \"area\", \"canvas\", \"figcaption\", \"figure\", \"picture\", \"svg\", \"audio\", \"source\", \"track\", \"video\",\n",
    "\n",
    "    # Tables\n",
    "    \"table\", \"caption\", \"th\", \"tr\", \"td\", \"thead\", \"tbody\", \"tfoot\", \"col\", \"colgroup\",\n",
    "\n",
    "    # Forms\n",
    "    \"form\", \"input\", \"textarea\", \"button\", \"select\", \"optgroup\", \"option\", \"label\", \"fieldset\", \"legend\",\n",
    "    \"datalist\", \"output\",\n",
    "\n",
    "    # Frames\n",
    "    \"frame\", \"frameset\", \"noframes\", \"iframe\",\n",
    "\n",
    "    # Styles and Semantics\n",
    "    \"style\", \"div\", \"span\", \"header\", \"footer\", \"section\", \"article\", \"aside\",\n",
    "\n",
    "    # Meta Info\n",
    "    \"meta\", \"base\", \"basefont\",\n",
    "\n",
    "    # Programming\n",
    "    \"script\", \"noscript\", \"embed\", \"object\", \"param\"\n",
    "]\n",
    "\n",
    "def simple_parse_xml(content, nested, allow_jsx = True):\n",
    "    pattern = r'<([^\\s]*?)>'\n",
    "    if not allow_jsx:\n",
    "        pattern = rf'<((?!({'|'.join(html_tags)})>)[^\\sA-Z][^\\s]*?)>'\n",
    "    open = re.search(pattern, content)\n",
    "    if not open:\n",
    "        return [content]\n",
    "    [open_start, open_end] = open.span()\n",
    "    tag = open.group(1)\n",
    "    before = content[:open_start]\n",
    "    inner_and_after = content[open_end:]\n",
    "    close = re.search(f'</{re.escape(tag)}>', inner_and_after)\n",
    "    if not close:\n",
    "        return [content]\n",
    "    [close_start, close_end] = close.span()\n",
    "    inner = inner_and_after[:close_start]\n",
    "    after = inner_and_after[close_end:]\n",
    "    inner = simple_parse_xml(inner, nested, False) if nested else inner\n",
    "    return [[before, tag, inner], *simple_parse_xml(after, nested, allow_jsx)]\n",
    "\n"
   ]
  },
  {
   "cell_type": "code",
   "execution_count": 37,
   "id": "04593f43-cc4c-4216-add3-dd76c806b16c",
   "metadata": {},
   "outputs": [
    {
     "data": {
      "text/plain": [
       "['function1',\n",
       " 'buildScales',\n",
       " 'prepareProject',\n",
       " 'initializeProperties',\n",
       " 'defineTranslations',\n",
       " '}']"
      ]
     },
     "execution_count": 37,
     "metadata": {},
     "output_type": "execute_result"
    }
   ],
   "source": [
    "[p[1] for p in parsed]"
   ]
  },
  {
   "cell_type": "code",
   "execution_count": 33,
   "id": "8904bebf-5087-4d02-ad73-5e4f5aac1cab",
   "metadata": {},
   "outputs": [
    {
     "name": "stdout",
     "output_type": "stream",
     "text": [
      "['', '\\n\\n', '\\n\\n', '\\n\\n', '\\n\\n', '\\n\\n', '\\n\\n', '\\n\\n', '\\n\\n', '\\n\\n', '']\n",
      "['```javascript\\n', '\\n```\\n\\n```javascript\\n', '\\n```\\n\\n```javascript\\n', '\\n```\\n\\n```javascript\\n', '\\n```\\n\\n```javascript\\n', '\\n```\\n\\n```javascript\\n', '\\n```\\n\\n```javascript\\n', '\\n```\\n\\n```javascript\\n', '\\n```\\n\\n```javascript\\n', '\\n```\\n\\n```javascript\\n', \"\\n```\\n\\nIn all these annotations, I've only tagged lines or blocks of code with distinct, identifiable responsibilities, following the balanced SRP approach, avoiding over-segmenting and under-segmenting. Each tagged responsibility represents a specific purpose within the function.\"]\n",
      "/root/py/CodeBERT/CodeReviewer/dataset/javascript/thread2-23.txt\n"
     ]
    },
    {
     "ename": "NameError",
     "evalue": "name 'Error' is not defined",
     "output_type": "error",
     "traceback": [
      "\u001b[0;31m---------------------------------------------------------------------------\u001b[0m",
      "\u001b[0;31mNameError\u001b[0m                                 Traceback (most recent call last)",
      "Cell \u001b[0;32mIn[33], line 8\u001b[0m\n\u001b[1;32m      6\u001b[0m \u001b[38;5;28;01mif\u001b[39;00m \u001b[38;5;28mlen\u001b[39m(parsed) \u001b[38;5;241m!=\u001b[39m \u001b[38;5;241m11\u001b[39m:\n\u001b[1;32m      7\u001b[0m     \u001b[38;5;28mprint\u001b[39m(text_file)\n\u001b[0;32m----> 8\u001b[0m     \u001b[38;5;28;01mraise\u001b[39;00m \u001b[43mError\u001b[49m(\u001b[38;5;124m'\u001b[39m\u001b[38;5;124mwhy\u001b[39m\u001b[38;5;124m'\u001b[39m)\n\u001b[1;32m      9\u001b[0m \u001b[38;5;28mprint\u001b[39m([p[\u001b[38;5;241m0\u001b[39m] \u001b[38;5;28;01mfor\u001b[39;00m p \u001b[38;5;129;01min\u001b[39;00m parsed[:\u001b[38;5;241m-\u001b[39m\u001b[38;5;241m1\u001b[39m]] \u001b[38;5;241m+\u001b[39m [parsed[\u001b[38;5;241m-\u001b[39m\u001b[38;5;241m1\u001b[39m]]) \n\u001b[1;32m     10\u001b[0m \u001b[38;5;28;01mwith\u001b[39;00m \u001b[38;5;28mopen\u001b[39m(\u001b[38;5;28mstr\u001b[39m\u001b[38;5;241m.\u001b[39mreplace(\u001b[38;5;28mstr\u001b[39m(text_file), \u001b[38;5;124m'\u001b[39m\u001b[38;5;124m.txt\u001b[39m\u001b[38;5;124m'\u001b[39m, \u001b[38;5;124m'\u001b[39m\u001b[38;5;124m.json\u001b[39m\u001b[38;5;124m'\u001b[39m), \u001b[38;5;124m'\u001b[39m\u001b[38;5;124mw\u001b[39m\u001b[38;5;124m'\u001b[39m) \u001b[38;5;28;01mas\u001b[39;00m file:\n",
      "\u001b[0;31mNameError\u001b[0m: name 'Error' is not defined"
     ]
    }
   ],
   "source": [
    "import json\n",
    "for text_file in js_dir.glob('thread2-*.txt'):\n",
    "    with open(text_file, 'r') as file:\n",
    "        file_contents = file.read()\n",
    "    parsed = simple_parse_xml(file_contents, nested=False)\n",
    "    if len(parsed) != 11:\n",
    "        print(text_file)\n",
    "        raise Error('why')\n",
    "    print([p[0] for p in parsed[:-1]] + [parsed[-1]]) \n",
    "    with open(str.replace(str(text_file), '.txt', '.json'), 'w') as file:\n",
    "        file.write(json.dumps([p[1:] for p in parsed]))\n",
    "\n"
   ]
  },
  {
   "cell_type": "code",
   "execution_count": 26,
   "id": "adaf7385-dfeb-4444-bd35-303c1f858418",
   "metadata": {},
   "outputs": [
    {
     "data": {
      "text/plain": [
       "[['',\n",
       "  'subscribe',\n",
       "  \"\\nfunction subscribe(listener) {\\n  <validateListener>\\n  if (typeof listener !== 'function') {\\n    throw new Error('Expected listener to be a function.');\\n  }\\n  </validateListener>\\n\\n  var isSubscribed = true;\\n\\n  <manageNextListeners>\\n  ensureCanMutateNextListeners();\\n  nextListeners.push(listener);\\n  </manageNextListeners>\\n\\n  return function unsubscribe() {\\n    <checkSubscription>\\n    if (!isSubscribed) {\\n      return;\\n    }\\n    </checkSubscription>\\n\\n    isSubscribed = false;\\n\\n    <removeListener>\\n    ensureCanMutateNextListeners();\\n    var index = nextListeners.indexOf(listener);\\n    nextListeners.splice(index, 1);\\n    </removeListener>\\n  };\\n}\\n\"],\n",
       " ['\\n\\n',\n",
       "  'handleReaderEvent',\n",
       "  '\\nfunction (event) {\\n  <handleReaderErrors>\\n  var reader = event.target;\\n  _gpfAssert(reader === this._reader, \"Unexpected change of reader\");\\n  if (reader.error) {\\n    gpfFireEvent.call(this,\\n      gpfI.IReadableStream.ERROR,\\n      {\\n        error: {\\n          name: reader.error.name,\\n          message: reader.error.message\\n        }\\n      },\\n      this._eventsHandler\\n    );\\n  }\\n  </handleReaderErrors>\\n\\n  <processReaderCompletion>\\n  else if (reader.readyState === FileReader.DONE) {\\n    var buffer = new Int8Array(reader.result);\\n    var len = buffer.length;\\n    var result = [];\\n    for (var idx = 0; idx < len; ++idx) {\\n      result.push(buffer[idx]);\\n    }\\n    gpfFireEvent.call(this, gpfI.IReadableStream.EVENT_DATA, {buffer: result}, this._eventsHandler);\\n  }\\n  </processReaderCompletion>\\n}\\n'],\n",
       " ['\\n\\n',\n",
       "  'configureStack',\n",
       "  '\\nfunction ( options, queue ) {\\n  <determineQueue>\\n  queue =\\n    Util.is.Array( queue ) || Util.is.Function( queue ) && queue ||\\n    Util.is.Array( options ) || Util.is.Function( options ) && options ||\\n    false;\\n  if( queue ) {\\n    this.queue( queue );\\n  }\\n  </determineQueue>\\n\\n  <extendAndVerifyOptions>\\n  options = this.options = Util.is.Object( options ) && Util.extend( {}, options ) || {};\\n  options.__proto__ = Stack.defaultOptions;\\n  if( options.hasOwnProperty( \\'breakOn\\' ) ) {\\n    if( Util.isnt.Function( options.breakOn ) && options.breakOn !== false ) {\\n      throw new TypeError(\"options.breakOn should be either a function or false\");\\n    }\\n  }\\n  </extendAndVerifyOptions>\\n}\\n'],\n",
       " ['\\n\\n',\n",
       "  'compareArrays',\n",
       "  '\\nfunction compareArrays (x, y) {\\n  <compareArrayElements>\\n  for (let i = 0, ii = Math.min(x.length, y.length); i < ii; i++) {\\n    const v = compareNatural(x[i], y[i])\\n    if (v !== 0) {\\n      return v\\n    }\\n  }\\n  </compareArrayElements>\\n\\n  <compareArraySizes>\\n  if (x.length > y.length) { return 1 }\\n  if (x.length < y.length) { return -1 }\\n  </compareArraySizes>\\n\\n  <defaultEquality>\\n  return 0\\n  </defaultEquality>\\n}\\n'],\n",
       " ['\\n\\n',\n",
       "  'negate',\n",
       "  '\\nfunction negate(bytes) {\\n  <flipBits>\\n  for (var i = 0; i < 8; i++) {\\n      bytes[i] ^= 0xFF;\\n  }\\n  </flipBits>\\n\\n  <incrementCounter>\\n  for (var i = 7; i > -1; i--) {\\n      bytes[i]++;\\n      if (bytes[i] !== 0) {\\n          break;\\n      }\\n  }\\n  </incrementCounter>\\n}\\n'],\n",
       " ['\\n\\n',\n",
       "  'setActivePaneId',\n",
       "  '\\nfunction setActivePaneId(newPaneId) {\\n  <verifyAndSetNewPane>\\n  if (!_isSpecialPaneId(newPaneId) && newPaneId !== _activePaneId) {\\n    var oldPaneId = _activePaneId,\\n        oldPane = _getPane(ACTIVE_PANE),\\n        newPane = _getPane(newPaneId);\\n\\n    if (!newPane) {\\n      throw new Error(\"invalid pane id: \" + newPaneId);\\n    }\\n    _activePaneId = newPaneId;\\n  </verifyAndSetNewPane>\\n\\n  <triggerPaneEvents>\\n  exports.trigger(\"activePaneChange\", newPaneId, oldPaneId);\\n  exports.trigger(\"currentFileChange\", _getPane(ACTIVE_PANE).getCurrentlyViewedFile(),\\n                                                      newPaneId,\\n                                                      oldPane.getCurrentlyViewedFile(),\\n                                                      oldPaneId);\\n  </triggerPaneEvents>\\n\\n  <updatePane>\\n  _makePaneMostRecent(_activePaneId);\\n  focusActivePane();\\n  </updatePane>\\n}\\n'],\n",
       " ['\\n\\n',\n",
       "  'immutableAppHttpRedirect',\n",
       "  \"\\nfunction immutableAppHttpRedirect (url, code, cookies, headers) {\\n  <setDefaultValues>\\n  if (!url) {\\n    url = '/'\\n  }\\n  if (!code) {\\n    code = 302\\n  }\\n  </setDefaultValues>\\n\\n  <constructError>\\n  var err = new Error('Redirect')\\n  err.code = code\\n  err.cookies = cookies\\n  err.headers = headers\\n  err.url = url\\n  </constructError>\\n\\n  <throwRedirect>\\n  throw err\\n  </throwRedirect>\\n}\\n\"],\n",
       " ['\\n\\n',\n",
       "  'getParentCaretContainer',\n",
       "  '\\nfunction getParentCaretContainer(node) {\\n  <searchForCaretContainer>\\n  while (node) {\\n    if (node.id === caretContainerId) {\\n      return node;\\n    }\\n    node = node.parentNode;\\n  }\\n  </searchForCaretContainer>\\n}\\n'],\n",
       " ['\\n\\n',\n",
       "  'adjustContentItemDimensions',\n",
       "  '\\nfunction() {\\n  <setHeight>\\n  this._el.content_item.style.height = TL.Util.ratio.r16_9({w:this.options.width}) + \"px\";\\n  </setHeight>\\n  <setWidth>\\n  this._el.content_item.style.width = this.options.width + \"px\";\\n  </setWidth>\\n}\\n'],\n",
       " ['\\n\\n',\n",
       "  'authorize',\n",
       "  \"\\nfunction authorize(ctx) {\\n  <lookupAuthorizeMiddleware>\\n  var fn = lookup(ctx.operation, 'middleware', 'authorize');\\n  </lookupAuthorizeMiddleware>\\n\\n  <handleAuthorization>\\n  var prefix = describe(ctx);\\n  if (fn) {\\n    return fn(ctx);\\n  } else {\\n    debug(prefix + 'authorize middleware disabled (not defined)');\\n  }\\n  </handleAuthorization>\\n}\\n\"],\n",
       " '']"
      ]
     },
     "execution_count": 26,
     "metadata": {},
     "output_type": "execute_result"
    }
   ],
   "source": [
    "simple_parse_xml(file_contents, False)"
   ]
  },
  {
   "cell_type": "code",
   "execution_count": 24,
   "id": "9a2e21cd-76b6-4c6c-a296-e23f0177666d",
   "metadata": {},
   "outputs": [
    {
     "data": {
      "text/plain": [
       "['\\n\\n',\n",
       " 'authorize',\n",
       " [['\\nfunction authorize(ctx) {\\n  ',\n",
       "   'lookupAuthorizeMiddleware',\n",
       "   [\"\\n  var fn = lookup(ctx.operation, 'middleware', 'authorize');\\n  \"]],\n",
       "  ['\\n\\n  ',\n",
       "   'handleAuthorization',\n",
       "   [\"\\n  var prefix = describe(ctx);\\n  if (fn) {\\n    return fn(ctx);\\n  } else {\\n    debug(prefix + 'authorize middleware disabled (not defined)');\\n  }\\n  \"]],\n",
       "  '\\n}\\n']]"
      ]
     },
     "execution_count": 24,
     "metadata": {},
     "output_type": "execute_result"
    }
   ],
   "source": [
    "tree[-2]"
   ]
  }
 ],
 "metadata": {
  "kernelspec": {
   "display_name": "Python 3 (ipykernel)",
   "language": "python",
   "name": "python3"
  },
  "language_info": {
   "codemirror_mode": {
    "name": "ipython",
    "version": 3
   },
   "file_extension": ".py",
   "mimetype": "text/x-python",
   "name": "python",
   "nbconvert_exporter": "python",
   "pygments_lexer": "ipython3",
   "version": "3.10.12"
  }
 },
 "nbformat": 4,
 "nbformat_minor": 5
}
