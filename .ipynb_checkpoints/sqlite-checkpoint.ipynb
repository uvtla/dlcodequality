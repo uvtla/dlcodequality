{
 "cells": [
  {
   "cell_type": "code",
   "execution_count": 1,
   "id": "8b4873d1-bed1-4e6d-91f4-b56d568e64dd",
   "metadata": {},
   "outputs": [],
   "source": [
    "import os\n",
    "import json\n",
    "from tqdm import tqdm\n",
    "import sqlite3\n",
    "\n",
    "os.chdir('dataset/Diff_Quality_Estimation')\n",
    "\n"
   ]
  },
  {
   "cell_type": "code",
   "execution_count": 2,
   "id": "72e93999-32b7-40a3-a898-fe25fc9aa41f",
   "metadata": {},
   "outputs": [],
   "source": [
    "def create_database(jsonl_files, db_name):\n",
    "    with sqlite3.connect(db_name) as conn:\n",
    "        c = conn.cursor()\n",
    "        # Create table\n",
    "        c.execute('''DROP TABLE IF EXISTS data''')\n",
    "        c.execute('''CREATE TABLE data (code TEXT, bad INT, naming INT, dead INT, bug INT)''')\n",
    "    \n",
    "        i = 0\n",
    "    \n",
    "        for file_path in jsonl_files:\n",
    "            with open(file_path, 'r') as file:\n",
    "                for line in file:\n",
    "                    # Insert a row of data\n",
    "                    (x, y, *_) = json.loads(line)\n",
    "                    c.execute(\"INSERT INTO data (code, bad, naming, dead, bug) VALUES (?, ?, ?, ?, ?)\", (x, *y))\n",
    "                    i += 1\n",
    "\n",
    "        conn.commit()\n"
   ]
  },
  {
   "cell_type": "code",
   "execution_count": 18,
   "id": "90bfbcd9-303d-4aae-aa2c-c04f1c64a123",
   "metadata": {},
   "outputs": [],
   "source": [
    "from filenames import train_files\n",
    "\n",
    "create_database([f'{file}-testjs.jsonl' for file in train_files], 'train_js')"
   ]
  },
  {
   "cell_type": "code",
   "execution_count": 3,
   "id": "1d7b32eb-4669-4653-93ea-fa0b573199d0",
   "metadata": {},
   "outputs": [],
   "source": [
    "from filenames import train_files\n",
    "\n",
    "create_database([f'{file}-extrajs.jsonl' for file in train_files], 'ready_classes')"
   ]
  },
  {
   "cell_type": "code",
   "execution_count": 4,
   "id": "78ea18be-601f-46d4-a8b6-67c88f2429ce",
   "metadata": {},
   "outputs": [
    {
     "name": "stdout",
     "output_type": "stream",
     "text": [
      "(\"deprecate.log = (message) => {\\n  }\\n}\\n\\n// Deprecate an event.\\ndeprecate.event = (emitter, oldName, newName, fn) => {\\n  let warned = false\\n  return emitter.on(newName, function (...args) {\\n    // There are no listeners for this event\\n    if (this.listenerCount(oldName) === 0) { return }\\n    // noDeprecation set or if user has already been warned\\n    if (warned || process.noDeprecation) { return }\\n    warned = true\\n    // Event name starts with a -, which means it's an internal event.\\n    // For deprecation, that means the event cannot be used anymore.\\n    if (!newName.startsWith('-')) { deprecate.warn(`'${oldName}' event`, `'${newName}' event`) } else { deprecate.log(`'${oldName}' event has been deprecated.`) }\\n    if (fn != null) {\\n      fn.apply(this, arguments)\\n    } else {\\n      this.emit.apply(this, [oldName].concat(args))\\n    }\\n  })\\n}\\n\\ndeprecate.setHandler = (handler) => {\\n  deprecationHandler = handler\\n}\\n\", 1, 0, 0, 0)\n"
     ]
    }
   ],
   "source": [
    "with sqlite3.connect('ready_classes') as conn:\n",
    "        c = conn.cursor()\n",
    "        # Create table\n",
    "        c.execute('''SELECT * from data limit 1''')\n",
    "        print(c.fetchone())"
   ]
  },
  {
   "cell_type": "code",
   "execution_count": null,
   "id": "3cd0e3af-394b-4f73-b2f4-a932858bb618",
   "metadata": {},
   "outputs": [],
   "source": []
  }
 ],
 "metadata": {
  "kernelspec": {
   "display_name": "Python 3 (ipykernel)",
   "language": "python",
   "name": "python3"
  },
  "language_info": {
   "codemirror_mode": {
    "name": "ipython",
    "version": 3
   },
   "file_extension": ".py",
   "mimetype": "text/x-python",
   "name": "python",
   "nbconvert_exporter": "python",
   "pygments_lexer": "ipython3",
   "version": "3.10.12"
  }
 },
 "nbformat": 4,
 "nbformat_minor": 5
}
