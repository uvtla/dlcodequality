{
 "cells": [
  {
   "cell_type": "code",
   "execution_count": 1,
   "id": "e6c644ae-0b66-4bcf-8e68-c830f3eb32b0",
   "metadata": {},
   "outputs": [],
   "source": [
    "import os\n",
    "import json\n",
    "from tqdm import tqdm\n",
    "\n",
    "os.chdir('dataset/Diff_Quality_Estimation')\n"
   ]
  },
  {
   "cell_type": "code",
   "execution_count": 3,
   "id": "4bc6b0db-76a1-4bb2-8e8e-0428c4335fe1",
   "metadata": {},
   "outputs": [
    {
     "ename": "ImportError",
     "evalue": "cannot import name 'all_names' from 'filenames' (/root/py/CodeBERT/CodeReviewer/filenames.py)",
     "output_type": "error",
     "traceback": [
      "\u001b[0;31m---------------------------------------------------------------------------\u001b[0m",
      "\u001b[0;31mImportError\u001b[0m                               Traceback (most recent call last)",
      "Cell \u001b[0;32mIn[3], line 1\u001b[0m\n\u001b[0;32m----> 1\u001b[0m \u001b[38;5;28;01mfrom\u001b[39;00m \u001b[38;5;21;01mfilenames\u001b[39;00m \u001b[38;5;28;01mimport\u001b[39;00m all_names\n\u001b[1;32m      3\u001b[0m \u001b[38;5;28;01mfor\u001b[39;00m filename \u001b[38;5;129;01min\u001b[39;00m all_files:\n\u001b[1;32m      4\u001b[0m     \u001b[38;5;28;01mwith\u001b[39;00m \u001b[38;5;28mopen\u001b[39m(\u001b[38;5;124mf\u001b[39m\u001b[38;5;124m'\u001b[39m\u001b[38;5;132;01m{\u001b[39;00mfilename\u001b[38;5;132;01m}\u001b[39;00m\u001b[38;5;124m-ready.jsonl\u001b[39m\u001b[38;5;124m'\u001b[39m) \u001b[38;5;28;01mas\u001b[39;00m fr:\n",
      "\u001b[0;31mImportError\u001b[0m: cannot import name 'all_names' from 'filenames' (/root/py/CodeBERT/CodeReviewer/filenames.py)"
     ]
    }
   ],
   "source": [
    "from filenames import all_files\n",
    "\n",
    "for filename in all_files:\n",
    "    with open(f'{filename}-ready.jsonl') as fr:\n",
    "        with open(f'{filename}-testjs.jsonl', 'w') as fw:\n",
    "            for line in tqdm(fr):\n",
    "                code, _, label = json.loads(line)\n",
    "                if label < 0: continue\n",
    "                fw.write(f\"{json.dumps([code, label])}\\n\")\n"
   ]
  },
  {
   "cell_type": "code",
   "execution_count": null,
   "id": "e3dabaa2-9fc7-4bb4-a824-3028bc68508a",
   "metadata": {},
   "outputs": [],
   "source": []
  }
 ],
 "metadata": {
  "kernelspec": {
   "display_name": "Python 3 (ipykernel)",
   "language": "python",
   "name": "python3"
  },
  "language_info": {
   "codemirror_mode": {
    "name": "ipython",
    "version": 3
   },
   "file_extension": ".py",
   "mimetype": "text/x-python",
   "name": "python",
   "nbconvert_exporter": "python",
   "pygments_lexer": "ipython3",
   "version": "3.10.12"
  }
 },
 "nbformat": 4,
 "nbformat_minor": 5
}
