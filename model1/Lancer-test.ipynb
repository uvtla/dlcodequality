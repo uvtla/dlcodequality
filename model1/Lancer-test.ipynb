{
 "cells": [
  {
   "cell_type": "code",
   "execution_count": null,
   "id": "b2c7ee7b-5bd0-42ac-bdb0-bcb43e54bf80",
   "metadata": {},
   "outputs": [],
   "source": [
    "!streamlit run tester11.py"
   ]
  },
  {
   "cell_type": "code",
   "execution_count": null,
   "id": "ff3ee576-6c05-434c-a9ab-546dfa23bbc2",
   "metadata": {},
   "outputs": [],
   "source": [
    "!pip install streamlit --upgrade"
   ]
  },
  {
   "cell_type": "code",
   "execution_count": null,
   "id": "3aa11f64-b463-4f2e-9887-e204532915c7",
   "metadata": {},
   "outputs": [
    {
     "name": "stdout",
     "output_type": "stream",
     "text": [
      "\n",
      "Collecting usage statistics. To deactivate, set browser.gatherUsageStats to False.\n",
      "\u001b[0m\n",
      "\u001b[0m\n",
      "\u001b[34m\u001b[1m  You can now view your Streamlit app in your browser.\u001b[0m\n",
      "\u001b[0m\n",
      "\u001b[34m  Network URL: \u001b[0m\u001b[1mhttp://172.25.210.158:8501\u001b[0m\n",
      "\u001b[34m  External URL: \u001b[0m\u001b[1mhttp://197.5.129.6:8501\u001b[0m\n",
      "\u001b[0m\n"
     ]
    }
   ],
   "source": [
    "!streamlit run essai2.py"
   ]
  },
  {
   "cell_type": "code",
   "execution_count": null,
   "id": "6615b25a-c25a-4f33-af2d-9cfd2d904bdd",
   "metadata": {},
   "outputs": [],
   "source": []
  }
 ],
 "metadata": {
  "kernelspec": {
   "display_name": "Python 3 (ipykernel)",
   "language": "python",
   "name": "python3"
  },
  "language_info": {
   "codemirror_mode": {
    "name": "ipython",
    "version": 3
   },
   "file_extension": ".py",
   "mimetype": "text/x-python",
   "name": "python",
   "nbconvert_exporter": "python",
   "pygments_lexer": "ipython3",
   "version": "3.10.12"
  }
 },
 "nbformat": 4,
 "nbformat_minor": 5
}
