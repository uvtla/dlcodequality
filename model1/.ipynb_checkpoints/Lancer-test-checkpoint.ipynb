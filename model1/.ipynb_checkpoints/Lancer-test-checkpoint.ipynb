{
 "cells": [
  {
   "cell_type": "code",
   "execution_count": null,
   "id": "68a4659d-88d2-4c7f-92c8-d65ac74e5768",
   "metadata": {},
   "outputs": [],
   "source": [
    "import streamlit as st\n",
    "import pickle\n",
    "import tensorflow as tf\n",
    "from transformers import AutoTokenizer, AutoModelForSequenceClassification\n",
    "import torch\n",
    "from torch.utils.data import Dataset, DataLoader\n",
    "# Chargement du modèle sauvegardé\n",
    "with open('tester1.pth', 'rb') as file:\n",
    "    modele_charge = pickle.load(file)\n",
    "\n",
    "# Création de l'interface utilisateur avec Streamlit\n",
    "st.title('Prédiction d\\'image avec VGG16')\n",
    "st.write('Téléchargez une image pour la prédiction')"
   ]
  },
  {
   "cell_type": "code",
   "execution_count": null,
   "id": "b2c7ee7b-5bd0-42ac-bdb0-bcb43e54bf80",
   "metadata": {},
   "outputs": [],
   "source": [
    "!"
   ]
  }
 ],
 "metadata": {
  "kernelspec": {
   "display_name": "Python 3 (ipykernel)",
   "language": "python",
   "name": "python3"
  },
  "language_info": {
   "codemirror_mode": {
    "name": "ipython",
    "version": 3
   },
   "file_extension": ".py",
   "mimetype": "text/x-python",
   "name": "python",
   "nbconvert_exporter": "python",
   "pygments_lexer": "ipython3",
   "version": "3.10.12"
  }
 },
 "nbformat": 4,
 "nbformat_minor": 5
}
