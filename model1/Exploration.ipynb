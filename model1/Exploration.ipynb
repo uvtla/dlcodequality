{
 "cells": [
  {
   "cell_type": "markdown",
   "id": "a1c86ead-041f-4b4b-9254-e21931f2530f",
   "metadata": {},
   "source": [
    "# Exploration dataset"
   ]
  },
  {
   "cell_type": "code",
   "execution_count": 16,
   "id": "49d036fb-0d2f-4695-ade9-099b8eb60970",
   "metadata": {},
   "outputs": [],
   "source": [
    "import pandas as pd"
   ]
  },
  {
   "cell_type": "code",
   "execution_count": 17,
   "id": "b68ba637-2ba0-46ce-88bb-f6e7b464c9d8",
   "metadata": {},
   "outputs": [],
   "source": [
    "df = pd.read_json('GoodBadVariableNames_JS.json')"
   ]
  },
  {
   "cell_type": "code",
   "execution_count": 18,
   "id": "0eb903b9-3956-4ae1-8114-bb04a7cde82c",
   "metadata": {},
   "outputs": [
    {
     "data": {
      "text/html": [
       "<div>\n",
       "<style scoped>\n",
       "    .dataframe tbody tr th:only-of-type {\n",
       "        vertical-align: middle;\n",
       "    }\n",
       "\n",
       "    .dataframe tbody tr th {\n",
       "        vertical-align: top;\n",
       "    }\n",
       "\n",
       "    .dataframe thead th {\n",
       "        text-align: right;\n",
       "    }\n",
       "</style>\n",
       "<table border=\"1\" class=\"dataframe\">\n",
       "  <thead>\n",
       "    <tr style=\"text-align: right;\">\n",
       "      <th></th>\n",
       "      <th>bad</th>\n",
       "      <th>good</th>\n",
       "    </tr>\n",
       "  </thead>\n",
       "  <tbody>\n",
       "    <tr>\n",
       "      <th>0</th>\n",
       "      <td>let ymdstr = new Date().toISOString().slice(0,...</td>\n",
       "      <td>let currentDate = new Date().toISOString().sli...</td>\n",
       "    </tr>\n",
       "    <tr>\n",
       "      <th>1</th>\n",
       "      <td>let t = setTimeout(func, 3000);</td>\n",
       "      <td>let timeoutId = setTimeout(func, 3000);</td>\n",
       "    </tr>\n",
       "    <tr>\n",
       "      <th>2</th>\n",
       "      <td>let a = document.getElementById('header');</td>\n",
       "      <td>let headerElement = document.getElementById('h...</td>\n",
       "    </tr>\n",
       "    <tr>\n",
       "      <th>3</th>\n",
       "      <td>let s = 'Hello, World!'.split(' ');</td>\n",
       "      <td>let words = 'Hello, World!'.split(' ');</td>\n",
       "    </tr>\n",
       "    <tr>\n",
       "      <th>4</th>\n",
       "      <td>let x = evt.pageX;</td>\n",
       "      <td>let mousePageX = evt.pageX;</td>\n",
       "    </tr>\n",
       "  </tbody>\n",
       "</table>\n",
       "</div>"
      ],
      "text/plain": [
       "                                                 bad  \\\n",
       "0  let ymdstr = new Date().toISOString().slice(0,...   \n",
       "1                    let t = setTimeout(func, 3000);   \n",
       "2         let a = document.getElementById('header');   \n",
       "3                let s = 'Hello, World!'.split(' ');   \n",
       "4                                 let x = evt.pageX;   \n",
       "\n",
       "                                                good  \n",
       "0  let currentDate = new Date().toISOString().sli...  \n",
       "1            let timeoutId = setTimeout(func, 3000);  \n",
       "2  let headerElement = document.getElementById('h...  \n",
       "3            let words = 'Hello, World!'.split(' ');  \n",
       "4                        let mousePageX = evt.pageX;  "
      ]
     },
     "execution_count": 18,
     "metadata": {},
     "output_type": "execute_result"
    }
   ],
   "source": [
    "df.head(5)"
   ]
  },
  {
   "cell_type": "code",
   "execution_count": 19,
   "id": "c02e272c-990f-4623-8097-12eea31dce29",
   "metadata": {},
   "outputs": [
    {
     "data": {
      "text/plain": [
       "(290, 2)"
      ]
     },
     "execution_count": 19,
     "metadata": {},
     "output_type": "execute_result"
    }
   ],
   "source": [
    "df.shape"
   ]
  },
  {
   "cell_type": "code",
   "execution_count": 20,
   "id": "b5d834db-a3c3-49f5-a47b-45c317a25842",
   "metadata": {},
   "outputs": [
    {
     "data": {
      "text/plain": [
       "<bound method DataFrame.info of                                                    bad  \\\n",
       "0    let ymdstr = new Date().toISOString().slice(0,...   \n",
       "1                      let t = setTimeout(func, 3000);   \n",
       "2           let a = document.getElementById('header');   \n",
       "3                  let s = 'Hello, World!'.split(' ');   \n",
       "4                                   let x = evt.pageX;   \n",
       "..                                                 ...   \n",
       "285  $('#enableFeature').on('click', function(){\\n ...   \n",
       "286                                const k = getKey();   \n",
       "287  $.ajax({\\n  type: 'POST',\\n  url: 'api/users',...   \n",
       "288                                 let u = getUser();   \n",
       "289                             let val = input.value;   \n",
       "\n",
       "                                                  good  \n",
       "0    let currentDate = new Date().toISOString().sli...  \n",
       "1              let timeoutId = setTimeout(func, 3000);  \n",
       "2    let headerElement = document.getElementById('h...  \n",
       "3              let words = 'Hello, World!'.split(' ');  \n",
       "4                          let mousePageX = evt.pageX;  \n",
       "..                                                 ...  \n",
       "285            let nextNode = currentNode.nextSibling;  \n",
       "286  $('.button').on('click', function() {\\n  $(thi...  \n",
       "287  var $toggleButton = $('.toggle');\\nvar $menu =...  \n",
       "288  function calculateSquare(area) { return area *...  \n",
       "289  var animationConfig = {\\n  speed: 300\\n},;\\n//...  \n",
       "\n",
       "[290 rows x 2 columns]>"
      ]
     },
     "execution_count": 20,
     "metadata": {},
     "output_type": "execute_result"
    }
   ],
   "source": [
    "df.info"
   ]
  },
  {
   "cell_type": "code",
   "execution_count": 21,
   "id": "83bc45e8-f842-4e3a-a53e-2fefff1e3d46",
   "metadata": {},
   "outputs": [
    {
     "data": {
      "text/plain": [
       "<bound method NDFrame.describe of                                                    bad  \\\n",
       "0    let ymdstr = new Date().toISOString().slice(0,...   \n",
       "1                      let t = setTimeout(func, 3000);   \n",
       "2           let a = document.getElementById('header');   \n",
       "3                  let s = 'Hello, World!'.split(' ');   \n",
       "4                                   let x = evt.pageX;   \n",
       "..                                                 ...   \n",
       "285  $('#enableFeature').on('click', function(){\\n ...   \n",
       "286                                const k = getKey();   \n",
       "287  $.ajax({\\n  type: 'POST',\\n  url: 'api/users',...   \n",
       "288                                 let u = getUser();   \n",
       "289                             let val = input.value;   \n",
       "\n",
       "                                                  good  \n",
       "0    let currentDate = new Date().toISOString().sli...  \n",
       "1              let timeoutId = setTimeout(func, 3000);  \n",
       "2    let headerElement = document.getElementById('h...  \n",
       "3              let words = 'Hello, World!'.split(' ');  \n",
       "4                          let mousePageX = evt.pageX;  \n",
       "..                                                 ...  \n",
       "285            let nextNode = currentNode.nextSibling;  \n",
       "286  $('.button').on('click', function() {\\n  $(thi...  \n",
       "287  var $toggleButton = $('.toggle');\\nvar $menu =...  \n",
       "288  function calculateSquare(area) { return area *...  \n",
       "289  var animationConfig = {\\n  speed: 300\\n},;\\n//...  \n",
       "\n",
       "[290 rows x 2 columns]>"
      ]
     },
     "execution_count": 21,
     "metadata": {},
     "output_type": "execute_result"
    }
   ],
   "source": [
    "df.describe"
   ]
  },
  {
   "cell_type": "code",
   "execution_count": 22,
   "id": "662925ba-9c8f-4f41-bd9d-2809fecb6c2f",
   "metadata": {},
   "outputs": [
    {
     "data": {
      "text/plain": [
       "bad     0\n",
       "good    0\n",
       "dtype: int64"
      ]
     },
     "execution_count": 22,
     "metadata": {},
     "output_type": "execute_result"
    }
   ],
   "source": [
    "df.isnull().sum()"
   ]
  },
  {
   "cell_type": "code",
   "execution_count": 23,
   "id": "f4d070f4-7998-4577-a93b-735dc30440fc",
   "metadata": {},
   "outputs": [],
   "source": [
    "dff = pd.read_json('augmented_dataset2.json')"
   ]
  },
  {
   "cell_type": "code",
   "execution_count": 24,
   "id": "37871d20-e8ae-4fee-8acd-695ec1ac3a3d",
   "metadata": {},
   "outputs": [
    {
     "data": {
      "text/html": [
       "<div>\n",
       "<style scoped>\n",
       "    .dataframe tbody tr th:only-of-type {\n",
       "        vertical-align: middle;\n",
       "    }\n",
       "\n",
       "    .dataframe tbody tr th {\n",
       "        vertical-align: top;\n",
       "    }\n",
       "\n",
       "    .dataframe thead th {\n",
       "        text-align: right;\n",
       "    }\n",
       "</style>\n",
       "<table border=\"1\" class=\"dataframe\">\n",
       "  <thead>\n",
       "    <tr style=\"text-align: right;\">\n",
       "      <th></th>\n",
       "      <th>bad</th>\n",
       "      <th>good</th>\n",
       "    </tr>\n",
       "  </thead>\n",
       "  <tbody>\n",
       "    <tr>\n",
       "      <th>0</th>\n",
       "      <td>var cars = ['Toyota', 'Honda', 'Ford'];\\nfor (...</td>\n",
       "      <td>var userProfile;</td>\n",
       "    </tr>\n",
       "    <tr>\n",
       "      <th>1</th>\n",
       "      <td>let el = document.querySelector('.active');</td>\n",
       "      <td>var randomNumber = Math.random();</td>\n",
       "    </tr>\n",
       "    <tr>\n",
       "      <th>2</th>\n",
       "      <td>var s = getSettings();</td>\n",
       "      <td>var emailAddress;</td>\n",
       "    </tr>\n",
       "    <tr>\n",
       "      <th>3</th>\n",
       "      <td>var v = validate(input);</td>\n",
       "      <td>var $items = $('.item');\\n$items.on('click', f...</td>\n",
       "    </tr>\n",
       "    <tr>\n",
       "      <th>4</th>\n",
       "      <td>var n = getName();</td>\n",
       "      <td>function calculateSquare(area) { return area *...</td>\n",
       "    </tr>\n",
       "  </tbody>\n",
       "</table>\n",
       "</div>"
      ],
      "text/plain": [
       "                                                 bad  \\\n",
       "0  var cars = ['Toyota', 'Honda', 'Ford'];\\nfor (...   \n",
       "1        let el = document.querySelector('.active');   \n",
       "2                             var s = getSettings();   \n",
       "3                           var v = validate(input);   \n",
       "4                                 var n = getName();   \n",
       "\n",
       "                                                good  \n",
       "0                                  var userProfile;   \n",
       "1                  var randomNumber = Math.random();  \n",
       "2                                 var emailAddress;   \n",
       "3  var $items = $('.item');\\n$items.on('click', f...  \n",
       "4  function calculateSquare(area) { return area *...  "
      ]
     },
     "execution_count": 24,
     "metadata": {},
     "output_type": "execute_result"
    }
   ],
   "source": [
    "dff.head(5)"
   ]
  },
  {
   "cell_type": "code",
   "execution_count": 25,
   "id": "647fc73b-ff3b-41f4-aab6-afd5f44e905d",
   "metadata": {},
   "outputs": [
    {
     "data": {
      "text/plain": [
       "(3000, 2)"
      ]
     },
     "execution_count": 25,
     "metadata": {},
     "output_type": "execute_result"
    }
   ],
   "source": [
    "dff.shape"
   ]
  },
  {
   "cell_type": "code",
   "execution_count": null,
   "id": "d4e7a101-03e7-47da-bc20-2eec1a3c7b5c",
   "metadata": {},
   "outputs": [],
   "source": []
  }
 ],
 "metadata": {
  "kernelspec": {
   "display_name": "Python 3 (ipykernel)",
   "language": "python",
   "name": "python3"
  },
  "language_info": {
   "codemirror_mode": {
    "name": "ipython",
    "version": 3
   },
   "file_extension": ".py",
   "mimetype": "text/x-python",
   "name": "python",
   "nbconvert_exporter": "python",
   "pygments_lexer": "ipython3",
   "version": "3.10.12"
  }
 },
 "nbformat": 4,
 "nbformat_minor": 5
}
