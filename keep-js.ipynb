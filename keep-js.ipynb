{
 "cells": [
  {
   "cell_type": "code",
   "execution_count": 2,
   "id": "10a0953a-b72e-4f8f-baac-aea6d4f1dba7",
   "metadata": {},
   "outputs": [],
   "source": [
    "import os\n",
    "os.chdir('dataset/Diff_Quality_Estimation')\n"
   ]
  },
  {
   "cell_type": "code",
   "execution_count": 17,
   "id": "1965bd21-ebfb-4ab9-a5a2-98775bc75767",
   "metadata": {},
   "outputs": [
    {
     "name": "stderr",
     "output_type": "stream",
     "text": [
      " 17%|█▋        | 1/6 [00:05<00:26,  5.29s/it]"
     ]
    },
    {
     "name": "stdout",
     "output_type": "stream",
     "text": [
      "2861/31252 are saved to cls-test-js.jsonl\n"
     ]
    },
    {
     "name": "stderr",
     "output_type": "stream",
     "text": [
      " 33%|███▎      | 2/6 [00:14<00:31,  7.78s/it]"
     ]
    },
    {
     "name": "stdout",
     "output_type": "stream",
     "text": [
      "2793/31252 are saved to cls-valid-js.jsonl\n"
     ]
    },
    {
     "name": "stderr",
     "output_type": "stream",
     "text": [
      " 50%|█████     | 3/6 [00:29<00:32, 10.96s/it]"
     ]
    },
    {
     "name": "stdout",
     "output_type": "stream",
     "text": [
      "4473/66459 are saved to cls-train-chunk-0-js.jsonl\n"
     ]
    },
    {
     "name": "stderr",
     "output_type": "stream",
     "text": [
      " 67%|██████▋   | 4/6 [00:39<00:21, 10.64s/it]"
     ]
    },
    {
     "name": "stdout",
     "output_type": "stream",
     "text": [
      "4545/66459 are saved to cls-train-chunk-1-js.jsonl\n"
     ]
    },
    {
     "name": "stderr",
     "output_type": "stream",
     "text": [
      " 83%|████████▎ | 5/6 [00:55<00:12, 12.38s/it]"
     ]
    },
    {
     "name": "stdout",
     "output_type": "stream",
     "text": [
      "4603/66459 are saved to cls-train-chunk-2-js.jsonl\n"
     ]
    },
    {
     "name": "stderr",
     "output_type": "stream",
     "text": [
      "100%|██████████| 6/6 [01:03<00:00, 10.66s/it]"
     ]
    },
    {
     "name": "stdout",
     "output_type": "stream",
     "text": [
      "4514/66459 are saved to cls-train-chunk-3-js.jsonl\n"
     ]
    },
    {
     "name": "stderr",
     "output_type": "stream",
     "text": [
      "\n"
     ]
    }
   ],
   "source": [
    "import json\n",
    "from tqdm import tqdm\n",
    "\n",
    "filenames = ['cls-test', 'cls-valid'] + [f'cls-train-chunk-{i}' for i in range(4)]\n",
    "\n",
    "for filename in tqdm(filenames):\n",
    "    savep = f\"{filename}-js.jsonl\"\n",
    "    if os.path.exists(savep):\n",
    "        print(f\"{savep} exists, skipping\")\n",
    "        continue\n",
    "    with open(savep, \"w\") as fw:\n",
    "        with open(f\"{filename}.jsonl\", \"r\") as fr:\n",
    "            i, j = 0, 0\n",
    "            for line in fr:\n",
    "                data = json.loads(line)\n",
    "                i += 1\n",
    "                if 'lang' in data and data['lang'] == 'js':\n",
    "                    j += 1\n",
    "                    fw.write(line)\n",
    "            print(f\"{j}/{i} are saved to {savep}\")\n"
   ]
  },
  {
   "cell_type": "code",
   "execution_count": 9,
   "id": "9bb99155-e989-4c30-a57f-1a1f7a34ba2c",
   "metadata": {},
   "outputs": [
    {
     "data": {
      "text/plain": [
       "66459"
      ]
     },
     "execution_count": 9,
     "metadata": {},
     "output_type": "execute_result"
    }
   ],
   "source": [
    "i"
   ]
  },
  {
   "cell_type": "code",
   "execution_count": 10,
   "id": "d5a2e9bf-5beb-4b06-8ebb-635112cd35e5",
   "metadata": {},
   "outputs": [
    {
     "data": {
      "text/plain": [
       "4514"
      ]
     },
     "execution_count": 10,
     "metadata": {},
     "output_type": "execute_result"
    }
   ],
   "source": [
    "j"
   ]
  }
 ],
 "metadata": {
  "kernelspec": {
   "display_name": "Python 3 (ipykernel)",
   "language": "python",
   "name": "python3"
  },
  "language_info": {
   "codemirror_mode": {
    "name": "ipython",
    "version": 3
   },
   "file_extension": ".py",
   "mimetype": "text/x-python",
   "name": "python",
   "nbconvert_exporter": "python",
   "pygments_lexer": "ipython3",
   "version": "3.10.12"
  }
 },
 "nbformat": 4,
 "nbformat_minor": 5
}
